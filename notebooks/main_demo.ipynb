{
 "cells": [
  {
   "cell_type": "code",
   "execution_count": 1,
   "metadata": {},
   "outputs": [],
   "source": [
    "# reload modules before running\n",
    "%load_ext autoreload\n",
    "%autoreload"
   ]
  },
  {
   "cell_type": "code",
   "execution_count": 2,
   "metadata": {},
   "outputs": [
    {
     "name": "stdout",
     "output_type": "stream",
     "text": [
      "imported\n"
     ]
    }
   ],
   "source": [
    "import argparse, os, re, sys\n",
    "from pathlib import Path\n",
    "import numpy as np\n",
    "import matplotlib.pyplot as plt\n",
    "import pandas as pd\n",
    "import torch\n",
    "\n",
    "# Simulate running model as with 00train_model.py\n",
    "os.chdir(Path.home() / 'Code/Python/tensormorph')\n",
    "sys.path.append('../phon')\n",
    "sys.path.append('./tensormorph')\n",
    "from tensormorph import *\n",
    "\n",
    "print('imported')"
   ]
  },
  {
   "cell_type": "code",
   "execution_count": 4,
   "metadata": {},
   "outputs": [
    {
     "ename": "FileNotFoundError",
     "evalue": "[Errno 2] No such file or directory: '../tensormorph_data/chamorro_um.pkl'",
     "output_type": "error",
     "traceback": [
      "\u001b[0;31m---------------------------------------------------------------------------\u001b[0m",
      "\u001b[0;31mFileNotFoundError\u001b[0m                         Traceback (most recent call last)",
      "\u001b[0;32m/var/folders/qw/500d8xx55ms9nd7tx3ynsqmr0000gn/T/ipykernel_88592/1741927902.py\u001b[0m in \u001b[0;36m<module>\u001b[0;34m\u001b[0m\n\u001b[1;32m      8\u001b[0m          'config': 'model_config.yaml'}\n\u001b[1;32m      9\u001b[0m \u001b[0margs\u001b[0m \u001b[0;34m=\u001b[0m \u001b[0margparse\u001b[0m\u001b[0;34m.\u001b[0m\u001b[0mNamespace\u001b[0m\u001b[0;34m(\u001b[0m\u001b[0;34m**\u001b[0m\u001b[0margs_\u001b[0m\u001b[0;34m)\u001b[0m\u001b[0;34m\u001b[0m\u001b[0;34m\u001b[0m\u001b[0m\n\u001b[0;32m---> 10\u001b[0;31m \u001b[0mconfig\u001b[0m \u001b[0;34m=\u001b[0m \u001b[0mtensormorph\u001b[0m\u001b[0;34m.\u001b[0m\u001b[0minit\u001b[0m\u001b[0;34m(\u001b[0m\u001b[0margs\u001b[0m\u001b[0;34m)\u001b[0m\u001b[0;34m\u001b[0m\u001b[0;34m\u001b[0m\u001b[0m\n\u001b[0m\u001b[1;32m     11\u001b[0m \u001b[0mform_embedder\u001b[0m \u001b[0;34m=\u001b[0m \u001b[0mconfig\u001b[0m\u001b[0;34m.\u001b[0m\u001b[0mform_embedder\u001b[0m\u001b[0;34m\u001b[0m\u001b[0;34m\u001b[0m\u001b[0m\n\u001b[1;32m     12\u001b[0m \u001b[0mdecoder\u001b[0m \u001b[0;34m=\u001b[0m \u001b[0mconfig\u001b[0m\u001b[0;34m.\u001b[0m\u001b[0mdecoder\u001b[0m\u001b[0;34m\u001b[0m\u001b[0;34m\u001b[0m\u001b[0m\n",
      "\u001b[0;32m~/Code/Python/tensormorph/tensormorph/tensormorph.py\u001b[0m in \u001b[0;36minit\u001b[0;34m(args)\u001b[0m\n\u001b[1;32m     52\u001b[0m     \u001b[0;31m# Load data\u001b[0m\u001b[0;34m\u001b[0m\u001b[0;34m\u001b[0m\u001b[0m\n\u001b[1;32m     53\u001b[0m     \u001b[0mconfig\u001b[0m\u001b[0;34m.\u001b[0m\u001b[0mfdata\u001b[0m \u001b[0;34m=\u001b[0m \u001b[0mPath\u001b[0m\u001b[0;34m(\u001b[0m\u001b[0mconfig\u001b[0m\u001b[0;34m.\u001b[0m\u001b[0mdata_dir\u001b[0m\u001b[0;34m)\u001b[0m \u001b[0;34m/\u001b[0m \u001b[0;34mf'{args.data}.pkl'\u001b[0m\u001b[0;34m\u001b[0m\u001b[0;34m\u001b[0m\u001b[0m\n\u001b[0;32m---> 54\u001b[0;31m     \u001b[0;32mwith\u001b[0m \u001b[0mopen\u001b[0m\u001b[0;34m(\u001b[0m\u001b[0mconfig\u001b[0m\u001b[0;34m.\u001b[0m\u001b[0mfdata\u001b[0m\u001b[0;34m,\u001b[0m \u001b[0;34m'rb'\u001b[0m\u001b[0;34m)\u001b[0m \u001b[0;32mas\u001b[0m \u001b[0mf\u001b[0m\u001b[0;34m:\u001b[0m\u001b[0;34m\u001b[0m\u001b[0;34m\u001b[0m\u001b[0m\n\u001b[0m\u001b[1;32m     55\u001b[0m         \u001b[0mdata\u001b[0m \u001b[0;34m=\u001b[0m \u001b[0mpickle\u001b[0m\u001b[0;34m.\u001b[0m\u001b[0mload\u001b[0m\u001b[0;34m(\u001b[0m\u001b[0mf\u001b[0m\u001b[0;34m)\u001b[0m\u001b[0;34m\u001b[0m\u001b[0;34m\u001b[0m\u001b[0m\n\u001b[1;32m     56\u001b[0m     \u001b[0mconfig\u001b[0m\u001b[0;34m.\u001b[0m\u001b[0mdata\u001b[0m \u001b[0;34m=\u001b[0m \u001b[0mdata\u001b[0m\u001b[0;34m\u001b[0m\u001b[0;34m\u001b[0m\u001b[0m\n",
      "\u001b[0;31mFileNotFoundError\u001b[0m: [Errno 2] No such file or directory: '../tensormorph_data/chamorro_um.pkl'"
     ]
    }
   ],
   "source": [
    "# Initialize environment\n",
    "args_ = {\n",
    "         'data': 'chamorro_um',\n",
    "         'features': 'hayes_features.csv',\n",
    "         'morphosyn': 'unimorph',\n",
    "         'dmorphophon': 1,\n",
    "         'reduplication': False,\n",
    "         'config': 'model_config.yaml'}\n",
    "args = argparse.Namespace(**args_)\n",
    "config = tensormorph.init(args)\n",
    "form_embedder = config.form_embedder\n",
    "decoder = config.decoder"
   ]
  },
  {
   "cell_type": "code",
   "execution_count": 6,
   "metadata": {},
   "outputs": [
    {
     "name": "stdout",
     "output_type": "stream",
     "text": [
      "['⋊ p l a n a ⋉']\n",
      "tensor([1., 1., 1., 1., 1., 1., 1., 0., 0., 0., 0., 0., 0., 0., 0., 0., 0., 0.,\n",
      "        0., 0., 0., 0.])\n",
      "tensor([9.9999e-06, 9.9999e-06, 9.9999e-06, 9.9998e-01, 9.9998e-01, 9.9996e-06,\n",
      "        9.9995e-01])\n"
     ]
    }
   ],
   "source": [
    "# Syllable parsing\n",
    "from syllable_parser import SyllableParser\n",
    "stem_str = ['plana']\n",
    "stem_str = form_embedder.string2delim(stem_str, split=True)\n",
    "print(stem_str)\n",
    "stem_tpr = form_embedder.string2tpr(stem_str, delim=False)\n",
    "stem_tpr = torch.stack(stem_tpr, 0)\n",
    "parser = SyllableParser()\n",
    "parse = parser(stem_tpr)\n",
    "print(stem_tpr[0,0])\n",
    "print(parse[0,:,5])"
   ]
  },
  {
   "cell_type": "code",
   "execution_count": 7,
   "metadata": {},
   "outputs": [
    {
     "name": "stdout",
     "output_type": "stream",
     "text": [
      "tensor([[8.1868e-01, 9.9165e-01, 1.0000e-05, 1.5852e-01, 9.9999e-01],\n",
      "        [5.0558e-01, 1.0000e-05, 1.0000e-05, 9.9999e-01, 9.2991e-02],\n",
      "        [1.0000e-05, 1.0000e-05, 9.9999e-01, 1.0000e-05, 1.0000e-05],\n",
      "        [9.9999e-01, 9.9999e-01, 3.5174e-01, 1.0000e-05, 1.0000e-05],\n",
      "        [1.0000e-05, 1.9632e-01, 8.5453e-01, 1.0000e-05, 1.0000e-05],\n",
      "        [3.6939e-01, 1.0000e-05, 1.0000e-05, 6.1499e-01, 1.0000e-05],\n",
      "        [1.0000e-05, 2.1364e-01, 1.0000e-05, 1.0000e-05, 9.9999e-01],\n",
      "        [1.0000e-05, 1.0000e-05, 2.5909e-01, 7.3471e-01, 1.0000e-05],\n",
      "        [7.4903e-01, 1.0000e-05, 9.9999e-01, 9.9999e-01, 1.0000e-05],\n",
      "        [2.9183e-01, 9.1507e-01, 1.0000e-05, 1.0000e-05, 3.9428e-01]])\n",
      "1e-08 0.99999999\n"
     ]
    }
   ],
   "source": [
    "# Test hardtanh0\n",
    "X = torch.randn(10, 5)\n",
    "Y = tpr.hardtanh0(X)\n",
    "Y = torch.nn.functional.hardtanh(X, 1.0e-5, 1.0 - 1.0e-5)\n",
    "print(Y)\n",
    "epsilon = 1.0e-8\n",
    "print(epsilon, 1.0 - epsilon)"
   ]
  },
  {
   "cell_type": "code",
   "execution_count": 34,
   "metadata": {},
   "outputs": [
    {
     "name": "stdout",
     "output_type": "stream",
     "text": [
      "(992, 594)\n",
      "[0.14495465 0.12523335 0.06191334 0.05126672 0.04550602 0.04230608\n",
      " 0.03890761 0.03485286 0.03292575 0.03089131 0.02703037 0.02361351\n",
      " 0.02243636 0.02014586 0.01879907 0.01791086 0.01680283 0.01550622\n",
      " 0.01341977 0.01264882 0.01157484 0.01134122 0.01081999 0.00934625\n",
      " 0.00888498 0.00868666 0.00855821 0.00801604 0.00750875 0.00704708\n",
      " 0.00656265 0.00601416 0.00540607 0.00517483 0.00503255 0.00478805\n",
      " 0.00460408 0.00417959 0.00390774 0.0037834  0.00373071 0.00352173\n",
      " 0.00332783 0.00308895 0.00279675 0.00272131 0.00252663 0.0024619\n",
      " 0.00239872 0.00227537]\n",
      "[0.14495465 0.270188   0.33210135 0.38336807 0.4288741  0.47118017\n",
      " 0.5100878  0.54494065 0.5778664  0.6087577  0.635788   0.65940154\n",
      " 0.6818379  0.70198375 0.7207828  0.73869365 0.7554965  0.7710027\n",
      " 0.78442246 0.7970713  0.80864614 0.81998736 0.8308073  0.8401536\n",
      " 0.84903854 0.8577252  0.8662834  0.87429947 0.8818082  0.8888553\n",
      " 0.8954179  0.9014321  0.9068382  0.912013   0.91704553 0.9218336\n",
      " 0.9264377  0.9306173  0.934525   0.9383084  0.94203913 0.9455609\n",
      " 0.9488887  0.95197767 0.95477444 0.95749575 0.9600224  0.9624843\n",
      " 0.964883   0.9671584 ]\n",
      "(992, 50) torch.Size([992, 594])\n",
      "['⋊ tʼ a q a ⋉']\n",
      "['⋊ tʼ a q a ⋉']\n"
     ]
    },
    {
     "data": {
      "image/png": "[encoded data removed]",
      "text/plain": [
       "<Figure size 432x288 with 1 Axes>"
      ]
     },
     "metadata": {
      "needs_background": "light"
     },
     "output_type": "display_data"
    }
   ],
   "source": [
    "# Dimensionality reduction of TPRs (xxx try convolutional autoencoder)\n",
    "from sklearn.decomposition import PCA\n",
    "X = [ex['stem'] for ex in config.dat_train]\n",
    "X = torch.stack(X, dim = 0)\n",
    "nbatch, dsym, nrole = X.shape\n",
    "X_ = X.view(nbatch, -1).data.numpy()\n",
    "print(X_.shape)\n",
    "\n",
    "pca = PCA(n_components = 50)\n",
    "pca.fit(X_)\n",
    "print(pca.explained_variance_ratio_)\n",
    "print(np.cumsum(pca.explained_variance_ratio_))\n",
    "#print(pca.singular_values_)\n",
    "\n",
    "Y_ = pca.transform(X_)\n",
    "Z_ = pca.inverse_transform(Y_)\n",
    "Z_ = torch.tensor(Z_, dtype=torch.float)\n",
    "print(Y_.shape, Z_.shape)\n",
    "\n",
    "Zi = Z_[0].view(dsym, nrole)\n",
    "plt.imshow(Zi.data)\n",
    "print(morph.Morph(form = X[0].unsqueeze(0))._str())\n",
    "print(morph.Morph(form = Zi.unsqueeze(0))._str())"
   ]
  },
  {
   "cell_type": "code",
   "execution_count": 21,
   "metadata": {},
   "outputs": [
    {
     "ename": "AttributeError",
     "evalue": "'NoneType' object has no attribute 'to'",
     "output_type": "error",
     "traceback": [
      "\u001b[0;31m---------------------------------------------------------------------------\u001b[0m",
      "\u001b[0;31mAttributeError\u001b[0m                            Traceback (most recent call last)",
      "\u001b[0;32m<ipython-input-21-4a072ade5ac3>\u001b[0m in \u001b[0;36m<module>\u001b[0;34m\u001b[0m\n\u001b[1;32m      3\u001b[0m \u001b[0mstem_str\u001b[0m \u001b[0;34m=\u001b[0m \u001b[0;34m[\u001b[0m\u001b[0;34m'planta'\u001b[0m\u001b[0;34m]\u001b[0m\u001b[0;34m\u001b[0m\u001b[0;34m\u001b[0m\u001b[0m\n\u001b[1;32m      4\u001b[0m \u001b[0mstem_str\u001b[0m \u001b[0;34m=\u001b[0m \u001b[0mform_embedder\u001b[0m\u001b[0;34m.\u001b[0m\u001b[0mstring2delim\u001b[0m\u001b[0;34m(\u001b[0m\u001b[0mstem_str\u001b[0m\u001b[0;34m,\u001b[0m \u001b[0msplit\u001b[0m\u001b[0;34m=\u001b[0m\u001b[0;32mTrue\u001b[0m\u001b[0;34m)\u001b[0m\u001b[0;34m\u001b[0m\u001b[0;34m\u001b[0m\u001b[0m\n\u001b[0;32m----> 5\u001b[0;31m \u001b[0mstem\u001b[0m \u001b[0;34m=\u001b[0m \u001b[0mMorph\u001b[0m\u001b[0;34m(\u001b[0m\u001b[0mform_str\u001b[0m \u001b[0;34m=\u001b[0m \u001b[0mstem_str\u001b[0m\u001b[0;34m)\u001b[0m\u001b[0;34m\u001b[0m\u001b[0;34m\u001b[0m\u001b[0m\n\u001b[0m\u001b[1;32m      6\u001b[0m \u001b[0mstem\u001b[0m\u001b[0;34m.\u001b[0m\u001b[0mpivot\u001b[0m \u001b[0;34m=\u001b[0m \u001b[0mtorch\u001b[0m\u001b[0;34m.\u001b[0m\u001b[0mzeros\u001b[0m\u001b[0;34m(\u001b[0m\u001b[0;34m(\u001b[0m\u001b[0;36m1\u001b[0m\u001b[0;34m,\u001b[0m\u001b[0mconfig\u001b[0m\u001b[0;34m.\u001b[0m\u001b[0mnrole\u001b[0m\u001b[0;34m)\u001b[0m\u001b[0;34m)\u001b[0m\u001b[0;34m\u001b[0m\u001b[0;34m\u001b[0m\u001b[0m\n\u001b[1;32m      7\u001b[0m \u001b[0mstem\u001b[0m\u001b[0;34m.\u001b[0m\u001b[0mcopy\u001b[0m \u001b[0;34m=\u001b[0m \u001b[0mtorch\u001b[0m\u001b[0;34m.\u001b[0m\u001b[0mzeros\u001b[0m\u001b[0;34m(\u001b[0m\u001b[0;34m(\u001b[0m\u001b[0;36m1\u001b[0m\u001b[0;34m,\u001b[0m\u001b[0mconfig\u001b[0m\u001b[0;34m.\u001b[0m\u001b[0mnrole\u001b[0m\u001b[0;34m)\u001b[0m\u001b[0;34m)\u001b[0m\u001b[0;34m\u001b[0m\u001b[0;34m\u001b[0m\u001b[0m\n",
      "\u001b[0;32m~/Code/Python/tensormorph_redup/tensormorph/morph.py\u001b[0m in \u001b[0;36m__init__\u001b[0;34m(self, form, form_str, length, pivot, copy)\u001b[0m\n\u001b[1;32m    164\u001b[0m         \u001b[0;31m#    form = torch.stack(form, 0)\u001b[0m\u001b[0;34m\u001b[0m\u001b[0;34m\u001b[0m\u001b[0;34m\u001b[0m\u001b[0m\n\u001b[1;32m    165\u001b[0m         \u001b[0;31m#    length = [len(x.split()) for x in form_str]\u001b[0m\u001b[0;34m\u001b[0m\u001b[0;34m\u001b[0m\u001b[0;34m\u001b[0m\u001b[0m\n\u001b[0;32m--> 166\u001b[0;31m         \u001b[0mself\u001b[0m\u001b[0;34m.\u001b[0m\u001b[0mform\u001b[0m \u001b[0;34m=\u001b[0m \u001b[0mform\u001b[0m\u001b[0;34m.\u001b[0m\u001b[0mto\u001b[0m\u001b[0;34m(\u001b[0m\u001b[0mdevice\u001b[0m \u001b[0;34m=\u001b[0m \u001b[0mconfig\u001b[0m\u001b[0;34m.\u001b[0m\u001b[0mdevice\u001b[0m\u001b[0;34m)\u001b[0m \u001b[0;31m# tpr\u001b[0m\u001b[0;34m\u001b[0m\u001b[0;34m\u001b[0m\u001b[0m\n\u001b[0m\u001b[1;32m    167\u001b[0m         \u001b[0mself\u001b[0m\u001b[0;34m.\u001b[0m\u001b[0mform_str\u001b[0m \u001b[0;34m=\u001b[0m \u001b[0mform_str\u001b[0m \u001b[0;31m# string\u001b[0m\u001b[0;34m\u001b[0m\u001b[0;34m\u001b[0m\u001b[0m\n\u001b[1;32m    168\u001b[0m         \u001b[0mself\u001b[0m\u001b[0;34m.\u001b[0m\u001b[0mlength\u001b[0m \u001b[0;34m=\u001b[0m \u001b[0mlength\u001b[0m \u001b[0;31m# string length\u001b[0m\u001b[0;34m\u001b[0m\u001b[0;34m\u001b[0m\u001b[0m\n",
      "\u001b[0;31mAttributeError\u001b[0m: 'NoneType' object has no attribute 'to'"
     ]
    }
   ],
   "source": [
    "# ----- fix me -----\n",
    "# Hand-wired infixation\n",
    "stem_str = ['planta']\n",
    "stem_str = form_embedder.string2delim(stem_str, split=True)\n",
    "stem = Morph(form_str = stem_str)\n",
    "stem.pivot = torch.zeros((1,config.nrole))\n",
    "stem.copy = torch.zeros((1,config.nrole))\n",
    "stem.pivot[:,2] = 1.0\n",
    "stem.copy[:,:stem.length[0]] = 1.0\n",
    "\n",
    "affix_str = ['um']\n",
    "affix_str = form_embedder.string2sep(affix_str)\n",
    "affix = Morph(form_str = affix_str)\n",
    "affix.pivot = torch.zeros((1,config.nrole))\n",
    "affix.copy = torch.zeros((1,config.nrole))\n",
    "affix.pivot[:,1] = 1.0\n",
    "affix.copy[:,:affix.length[0]] = 1.0\n",
    "\n",
    "morph_op = MorphOp()\n",
    "config.posn_attender.tau.data[:] = 2.0\n",
    "config.morph_attender.tau.data[:] = 2.0\n",
    "output = morph_op(stem, affix)\n",
    "output_str = decoder.decode2string(output.form)[0]\n",
    "print(f'combine({stem.form_str[0]}, {affix.form_str[0]})  ->  {output_str}')\n",
    "\n",
    "fix, ax = plt.subplots(1, 3, figsize=(12,4))\n",
    "ax[0].imshow(stem.form[0])\n",
    "ax[1].imshow(affix.form[0])\n",
    "ax[2].imshow(output.form.detach()[0])\n",
    "plt.show()"
   ]
  },
  {
   "cell_type": "code",
   "execution_count": 6,
   "metadata": {},
   "outputs": [
    {
     "data": {
      "image/png": "[encoded data removed]",
      "text/plain": [
       "<Figure size 432x288 with 1 Axes>"
      ]
     },
     "metadata": {
      "needs_background": "light"
     },
     "output_type": "display_data"
    },
    {
     "data": {
      "image/png": "[encoded data removed]",
      "text/plain": [
       "<Figure size 432x288 with 1 Axes>"
      ]
     },
     "metadata": {
      "needs_background": "light"
     },
     "output_type": "display_data"
    }
   ],
   "source": [
    "morph_a = torch.cat(morph_op.trace['a'], -1)[0]\n",
    "stem_b = torch.cat(stem.trace['b'], -1)[0]\n",
    "affix_b = torch.cat(affix.trace['b'], -1)[0]\n",
    "output_b = torch.cat(output.trace['b'], -1)[0]\n",
    "#tstep = torch.arange(config.nrole)\n",
    "\n",
    "fig,ax = plt.subplots(1); ax.set_ylim(0,1)\n",
    "ax.plot(morph_a, 'o--')\n",
    "ax.set_title('Morph index (stem = 0, affix = 1)', fontsize=16)\n",
    "ax.set_xlabel('timestep', fontsize=16)\n",
    "ax.set_ylabel('position', fontsize=16)\n",
    "plt.show()\n",
    "\n",
    "fig,ax = plt.subplots(1) #; ax.set_ylim(0,12)\n",
    "for b in [stem_b, affix_b, output_b]:\n",
    "    ax.plot(b, 'o--')\n",
    "ax.set_title('Position within morph (stem, affix, output)', fontsize=16)\n",
    "ax.set_xlabel('timestep', fontsize=16)\n",
    "ax.set_ylabel('position', fontsize=16)\n",
    "plt.show()"
   ]
  },
  {
   "cell_type": "code",
   "execution_count": 22,
   "metadata": {},
   "outputs": [
    {
     "ename": "AttributeError",
     "evalue": "'NoneType' object has no attribute 'to'",
     "output_type": "error",
     "traceback": [
      "\u001b[0;31m---------------------------------------------------------------------------\u001b[0m",
      "\u001b[0;31mAttributeError\u001b[0m                            Traceback (most recent call last)",
      "\u001b[0;32m<ipython-input-22-a654ba80afa5>\u001b[0m in \u001b[0;36m<module>\u001b[0;34m\u001b[0m\n\u001b[1;32m      2\u001b[0m \u001b[0mroot_str\u001b[0m \u001b[0;34m=\u001b[0m \u001b[0;34m[\u001b[0m\u001b[0;34m'ktb'\u001b[0m\u001b[0;34m]\u001b[0m\u001b[0;34m\u001b[0m\u001b[0;34m\u001b[0m\u001b[0m\n\u001b[1;32m      3\u001b[0m \u001b[0mroot_str\u001b[0m \u001b[0;34m=\u001b[0m \u001b[0mconfig\u001b[0m\u001b[0;34m.\u001b[0m\u001b[0mform_embedder\u001b[0m\u001b[0;34m.\u001b[0m\u001b[0mstring2delim\u001b[0m\u001b[0;34m(\u001b[0m\u001b[0mroot_str\u001b[0m\u001b[0;34m,\u001b[0m \u001b[0msplit\u001b[0m\u001b[0;34m=\u001b[0m\u001b[0;32mTrue\u001b[0m\u001b[0;34m)\u001b[0m\u001b[0;34m\u001b[0m\u001b[0;34m\u001b[0m\u001b[0m\n\u001b[0;32m----> 4\u001b[0;31m \u001b[0mroot\u001b[0m \u001b[0;34m=\u001b[0m \u001b[0mMorph\u001b[0m\u001b[0;34m(\u001b[0m\u001b[0mform_str\u001b[0m \u001b[0;34m=\u001b[0m \u001b[0mroot_str\u001b[0m\u001b[0;34m)\u001b[0m\u001b[0;34m\u001b[0m\u001b[0;34m\u001b[0m\u001b[0m\n\u001b[0m\u001b[1;32m      5\u001b[0m \u001b[0mroot\u001b[0m\u001b[0;34m.\u001b[0m\u001b[0mpivot\u001b[0m \u001b[0;34m=\u001b[0m \u001b[0mtorch\u001b[0m\u001b[0;34m.\u001b[0m\u001b[0mzeros\u001b[0m\u001b[0;34m(\u001b[0m\u001b[0;34m(\u001b[0m\u001b[0;36m1\u001b[0m\u001b[0;34m,\u001b[0m \u001b[0mconfig\u001b[0m\u001b[0;34m.\u001b[0m\u001b[0mnrole\u001b[0m\u001b[0;34m)\u001b[0m\u001b[0;34m)\u001b[0m\u001b[0;34m\u001b[0m\u001b[0;34m\u001b[0m\u001b[0m\n\u001b[1;32m      6\u001b[0m \u001b[0mroot\u001b[0m\u001b[0;34m.\u001b[0m\u001b[0mcopy\u001b[0m \u001b[0;34m=\u001b[0m \u001b[0mtorch\u001b[0m\u001b[0;34m.\u001b[0m\u001b[0mzeros\u001b[0m\u001b[0;34m(\u001b[0m\u001b[0;34m(\u001b[0m\u001b[0;36m1\u001b[0m\u001b[0;34m,\u001b[0m \u001b[0mconfig\u001b[0m\u001b[0;34m.\u001b[0m\u001b[0mnrole\u001b[0m\u001b[0;34m)\u001b[0m\u001b[0;34m)\u001b[0m\u001b[0;34m\u001b[0m\u001b[0;34m\u001b[0m\u001b[0m\n",
      "\u001b[0;32m~/Code/Python/tensormorph_redup/tensormorph/morph.py\u001b[0m in \u001b[0;36m__init__\u001b[0;34m(self, form, form_str, length, pivot, copy)\u001b[0m\n\u001b[1;32m    164\u001b[0m         \u001b[0;31m#    form = torch.stack(form, 0)\u001b[0m\u001b[0;34m\u001b[0m\u001b[0;34m\u001b[0m\u001b[0;34m\u001b[0m\u001b[0m\n\u001b[1;32m    165\u001b[0m         \u001b[0;31m#    length = [len(x.split()) for x in form_str]\u001b[0m\u001b[0;34m\u001b[0m\u001b[0;34m\u001b[0m\u001b[0;34m\u001b[0m\u001b[0m\n\u001b[0;32m--> 166\u001b[0;31m         \u001b[0mself\u001b[0m\u001b[0;34m.\u001b[0m\u001b[0mform\u001b[0m \u001b[0;34m=\u001b[0m \u001b[0mform\u001b[0m\u001b[0;34m.\u001b[0m\u001b[0mto\u001b[0m\u001b[0;34m(\u001b[0m\u001b[0mdevice\u001b[0m \u001b[0;34m=\u001b[0m \u001b[0mconfig\u001b[0m\u001b[0;34m.\u001b[0m\u001b[0mdevice\u001b[0m\u001b[0;34m)\u001b[0m \u001b[0;31m# tpr\u001b[0m\u001b[0;34m\u001b[0m\u001b[0;34m\u001b[0m\u001b[0m\n\u001b[0m\u001b[1;32m    167\u001b[0m         \u001b[0mself\u001b[0m\u001b[0;34m.\u001b[0m\u001b[0mform_str\u001b[0m \u001b[0;34m=\u001b[0m \u001b[0mform_str\u001b[0m \u001b[0;31m# string\u001b[0m\u001b[0;34m\u001b[0m\u001b[0;34m\u001b[0m\u001b[0m\n\u001b[1;32m    168\u001b[0m         \u001b[0mself\u001b[0m\u001b[0;34m.\u001b[0m\u001b[0mlength\u001b[0m \u001b[0;34m=\u001b[0m \u001b[0mlength\u001b[0m \u001b[0;31m# string length\u001b[0m\u001b[0;34m\u001b[0m\u001b[0;34m\u001b[0m\u001b[0m\n",
      "\u001b[0;31mAttributeError\u001b[0m: 'NoneType' object has no attribute 'to'"
     ]
    }
   ],
   "source": [
    "# Hand-wired root-and-pattern\n",
    "root_str = ['ktb']\n",
    "root_str = config.form_embedder.string2delim(root_str, split=True)\n",
    "root = Morph(form_str = root_str)\n",
    "root.pivot = torch.zeros((1, config.nrole))\n",
    "root.copy = torch.zeros((1, config.nrole))\n",
    "root.pivot.data[0,1] = 1.0\n",
    "root.pivot.data[0,3] = 1.0\n",
    "root.copy.data[0,:root.length[0]] = 1.0\n",
    "\n",
    "affix_str = ['au']\n",
    "affix_str = config.form_embedder.string2sep(affix_str)\n",
    "affix = Morph(form_str = affix_str,)\n",
    "affix.pivot = torch.zeros((1, config.nrole))\n",
    "affix.copy = torch.zeros((1, config.nrole))\n",
    "affix.pivot.data[0,:2] = 1.0\n",
    "affix.copy.data[0,:affix.length[0]] = 1.0\n",
    "\n",
    "output = morph_op(root, affix)\n",
    "plt.imshow(output.form.detach()[0])\n",
    "output_str = decoder.decode2string(output.form)\n",
    "print(f'combine({root.form_str[0]}, {affix.form_str[0]}) -> {output_str[0]}')"
   ]
  },
  {
   "cell_type": "code",
   "execution_count": null,
   "metadata": {},
   "outputs": [],
   "source": [
    "# ----- fix me -----"
   ]
  },
  {
   "cell_type": "code",
   "execution_count": 4,
   "metadata": {},
   "outputs": [
    {
     "name": "stdout",
     "output_type": "stream",
     "text": [
      "total parameters: 1318\n"
     ]
    },
    {
     "ename": "AttributeError",
     "evalue": "'Affixer' object has no attribute 'context2affix'",
     "output_type": "error",
     "traceback": [
      "\u001b[0;31m---------------------------------------------------------------------------\u001b[0m",
      "\u001b[0;31mAttributeError\u001b[0m                            Traceback (most recent call last)",
      "\u001b[0;32m<ipython-input-4-89013f384ab9>\u001b[0m in \u001b[0;36m<module>\u001b[0;34m\u001b[0m\n\u001b[1;32m     14\u001b[0m \u001b[0;34m\u001b[0m\u001b[0m\n\u001b[1;32m     15\u001b[0m \u001b[0mbias\u001b[0m \u001b[0;34m=\u001b[0m \u001b[0;36m3.0\u001b[0m\u001b[0;34m\u001b[0m\u001b[0;34m\u001b[0m\u001b[0m\n\u001b[0;32m---> 16\u001b[0;31m \u001b[0mbase_cogrammar\u001b[0m\u001b[0;34m.\u001b[0m\u001b[0maffixer\u001b[0m\u001b[0;34m.\u001b[0m\u001b[0minit\u001b[0m\u001b[0;34m(\u001b[0m\u001b[0mbias\u001b[0m\u001b[0;34m=\u001b[0m\u001b[0mbias\u001b[0m\u001b[0;34m)\u001b[0m\u001b[0;34m\u001b[0m\u001b[0;34m\u001b[0m\u001b[0m\n\u001b[0m\u001b[1;32m     17\u001b[0m \u001b[0mbase_cogrammar\u001b[0m\u001b[0;34m.\u001b[0m\u001b[0mtruncater\u001b[0m\u001b[0;34m.\u001b[0m\u001b[0minit\u001b[0m\u001b[0;34m(\u001b[0m\u001b[0mbias\u001b[0m\u001b[0;34m=\u001b[0m\u001b[0mbias\u001b[0m\u001b[0;34m)\u001b[0m\u001b[0;34m\u001b[0m\u001b[0;34m\u001b[0m\u001b[0m\n\u001b[1;32m     18\u001b[0m \u001b[0;34m\u001b[0m\u001b[0m\n",
      "\u001b[0;32m~/Code/Python/tensormorph_redup/src/affixer.py\u001b[0m in \u001b[0;36minit\u001b[0;34m(self, affix, bias, clamp)\u001b[0m\n\u001b[1;32m     51\u001b[0m     \u001b[0;31m# xxx fixme\u001b[0m\u001b[0;34m\u001b[0m\u001b[0;34m\u001b[0m\u001b[0;34m\u001b[0m\u001b[0m\n\u001b[1;32m     52\u001b[0m     \u001b[0;32mdef\u001b[0m \u001b[0minit\u001b[0m\u001b[0;34m(\u001b[0m\u001b[0mself\u001b[0m\u001b[0;34m,\u001b[0m \u001b[0maffix\u001b[0m\u001b[0;34m=\u001b[0m\u001b[0;32mNone\u001b[0m\u001b[0;34m,\u001b[0m \u001b[0mbias\u001b[0m\u001b[0;34m=\u001b[0m\u001b[0;36m10.0\u001b[0m\u001b[0;34m,\u001b[0m \u001b[0mclamp\u001b[0m\u001b[0;34m=\u001b[0m\u001b[0;32mTrue\u001b[0m\u001b[0;34m)\u001b[0m\u001b[0;34m:\u001b[0m\u001b[0;34m\u001b[0m\u001b[0;34m\u001b[0m\u001b[0m\n\u001b[0;32m---> 53\u001b[0;31m         for m in [self.context2affix, self.context2unpivot,\n\u001b[0m\u001b[1;32m     54\u001b[0m                   self.context2affix_copy]:\n\u001b[1;32m     55\u001b[0m             \u001b[0;32mfor\u001b[0m \u001b[0mp\u001b[0m \u001b[0;32min\u001b[0m \u001b[0mm\u001b[0m\u001b[0;34m.\u001b[0m\u001b[0mparameters\u001b[0m\u001b[0;34m(\u001b[0m\u001b[0;34m)\u001b[0m\u001b[0;34m:\u001b[0m\u001b[0;34m\u001b[0m\u001b[0;34m\u001b[0m\u001b[0m\n",
      "\u001b[0;32m/Library/anaconda3/lib/python3.7/site-packages/torch/nn/modules/module.py\u001b[0m in \u001b[0;36m__getattr__\u001b[0;34m(self, name)\u001b[0m\n\u001b[1;32m    592\u001b[0m                 \u001b[0;32mreturn\u001b[0m \u001b[0mmodules\u001b[0m\u001b[0;34m[\u001b[0m\u001b[0mname\u001b[0m\u001b[0;34m]\u001b[0m\u001b[0;34m\u001b[0m\u001b[0;34m\u001b[0m\u001b[0m\n\u001b[1;32m    593\u001b[0m         raise AttributeError(\"'{}' object has no attribute '{}'\".format(\n\u001b[0;32m--> 594\u001b[0;31m             type(self).__name__, name))\n\u001b[0m\u001b[1;32m    595\u001b[0m \u001b[0;34m\u001b[0m\u001b[0m\n\u001b[1;32m    596\u001b[0m     \u001b[0;32mdef\u001b[0m \u001b[0m__setattr__\u001b[0m\u001b[0;34m(\u001b[0m\u001b[0mself\u001b[0m\u001b[0;34m,\u001b[0m \u001b[0mname\u001b[0m\u001b[0;34m,\u001b[0m \u001b[0mvalue\u001b[0m\u001b[0;34m)\u001b[0m\u001b[0;34m:\u001b[0m\u001b[0;34m\u001b[0m\u001b[0;34m\u001b[0m\u001b[0m\n",
      "\u001b[0;31mAttributeError\u001b[0m: 'Affixer' object has no attribute 'context2affix'"
     ]
    }
   ],
   "source": [
    "# Hand-wired reduplication\n",
    "grammar = config.grammar\n",
    "cogrammar = grammar.cogrammar\n",
    "base_cogrammar = cogrammar.base_cogrammar\n",
    "red_cogrammar = cogrammar.red_cogrammar\n",
    "decoder = grammar.decoder\n",
    "\n",
    "par_vec = torch.nn.utils.parameters_to_vector(\n",
    "    grammar.parameters())\n",
    "print(f'total parameters: {par_vec.shape[0]}')\n",
    "\n",
    "cogrammar.pivoter.init(ftr='end', before=True)\n",
    "# xxx unpivoter\n",
    "\n",
    "bias = 3.0\n",
    "base_cogrammar.affixer.init(bias=bias)\n",
    "base_cogrammar.truncater.init(bias=bias)\n",
    "\n",
    "red_cogrammar.affixer.init(bias=bias)\n",
    "red_cogrammar.truncater.init(delete_before=False, delete_begin=True, delete_end=False, bias=bias)\n",
    "red_cogrammar.truncater.pivoter.init(direction='LR->', ftr='V', before=False, bias=bias)\n",
    "\n",
    "tau = 2.0\n",
    "for cogram in [cogrammar, base_cogrammar, red_cogrammar]:\n",
    "    cogram.combiner.morph_attender.tau.data.fill_(tau)\n",
    "    cogram.combiner.posn_attender.tau.data.fill_(tau)\n",
    "decoder.tau.data.fill_(tau)\n",
    "\n",
    "Output = cogrammar(Stem, Morphosyn)\n",
    "plt.imshow(Output[0].detach(), origin='upper', aspect='auto')\n",
    "output = decoder.decode(Output)\n",
    "output_seg = config.form_embedder.idvec2string(output[0], trim=True)\n",
    "print(output_seg)"
   ]
  },
  {
   "cell_type": "code",
   "execution_count": null,
   "metadata": {},
   "outputs": [],
   "source": []
  },
  {
   "cell_type": "code",
   "execution_count": 63,
   "metadata": {},
   "outputs": [
    {
     "name": "stdout",
     "output_type": "stream",
     "text": [
      "⋊ b a p o ⋉\n"
     ]
    },
    {
     "data": {
      "text/plain": [
       "<matplotlib.image.AxesImage at 0x122263650>"
      ]
     },
     "execution_count": 63,
     "metadata": {},
     "output_type": "execute_result"
    },
    {
     "data": {
      "image/png": "[encoded data removed]",
      "text/plain": [
       "<Figure size 432x288 with 1 Axes>"
      ]
     },
     "metadata": {
      "needs_background": "light"
     },
     "output_type": "display_data"
    }
   ],
   "source": [
    "config.recoder = Recorder()\n",
    "recorder = config.recorder\n",
    "\n",
    "grammar = config.grammar\n",
    "cogrammar = grammar.cogrammar\n",
    "affixer = cogrammar.affixer\n",
    "decoder = grammar.decoder\n",
    "\n",
    "tau = 2.0 # 2.0 is sufficient for very precise attention\n",
    "cogrammar.combiner.morph_attender.tau.data.fill_(tau)\n",
    "cogrammar.combiner.posn_attender.tau.data.fill_(tau)\n",
    "decoder.tau.data.fill_(tau)\n",
    "\n",
    "datapoint = config.val_dat[0]\n",
    "stem = datapoint['stem']\n",
    "Stem = datapoint['Stem'].unsqueeze(0)\n",
    "Morphosyn = datapoint['Morphosyn'].unsqueeze(0)\n",
    "\n",
    "#stem = '⋊ b a p o j i ⋉'\n",
    "#Stem = config.form_embedder.string2tpr(stem, delim=False).unsqueeze(0)\n",
    "print(stem)\n",
    "plt.imshow(Stem[0].detach(), origin='upper', aspect='auto')"
   ]
  },
  {
   "cell_type": "code",
   "execution_count": 16,
   "metadata": {},
   "outputs": [
    {
     "name": "stdout",
     "output_type": "stream",
     "text": [
      "Pivoter\n",
      "Parameter containing:\n",
      "tensor([10.,  0.,  0.,  0.,  0.])\n",
      "Parameter containing:\n",
      "tensor([10.,  0.,  0.,  0.,  0.])\n",
      "tensor([[4.5612e-05, 4.5389e-05, 2.2695e-05, 1.1197e-07, 2.2476e-05, 2.2420e-05,\n",
      "         0.0000e+00, 0.0000e+00, 0.0000e+00, 0.0000e+00, 0.0000e+00, 0.0000e+00,\n",
      "         0.0000e+00]], grad_fn=<AddBackward0>)\n",
      "\n",
      "Affix\n",
      "Parameter containing:\n",
      "tensor([-10., -10., -10., -10.,  10.,  10.,  10.,  10.,  10.,  10.,  10.,  10.,\n",
      "         10.])\n",
      "Parameter containing:\n",
      "tensor([ 10.,  10.,  10.,  10., -10., -10., -10., -10., -10., -10., -10., -10.,\n",
      "        -10.])\n",
      "tensor([[10., 10., 10., 10.,  0.,  0.,  0.,  0.,  0.,  0.,  0.,  0.,  0.],\n",
      "        [ 0.,  0.,  0.,  0.,  0.,  0.,  0.,  0.,  0.,  0.,  0.,  0.,  0.],\n",
      "        [ 0.,  0.,  0.,  0.,  0.,  0.,  0.,  0.,  0.,  0.,  0.,  0.,  0.],\n",
      "        [10.,  0., 10.,  0.,  0.,  0.,  0.,  0.,  0.,  0.,  0.,  0.,  0.],\n",
      "        [ 0., 10.,  0., 10.,  0.,  0.,  0.,  0.,  0.,  0.,  0.,  0.,  0.],\n",
      "        [ 0.,  0.,  0.,  0.,  0.,  0.,  0.,  0.,  0.,  0.,  0.,  0.,  0.],\n",
      "        [ 0.,  0.,  0.,  0.,  0.,  0.,  0.,  0.,  0.,  0.,  0.,  0.,  0.],\n",
      "        [ 0.,  0.,  0.,  0.,  0.,  0.,  0.,  0.,  0.,  0.,  0.,  0.,  0.],\n",
      "        [ 0.,  0.,  0.,  0.,  0.,  0.,  0.,  0.,  0.,  0.,  0.,  0.,  0.],\n",
      "        [ 0.,  0.,  0.,  0.,  0.,  0.,  0.,  0.,  0.,  0.,  0.,  0.,  0.],\n",
      "        [ 0., 10.,  0., 10.,  0.,  0.,  0.,  0.,  0.,  0.,  0.,  0.,  0.],\n",
      "        [ 0.,  0.,  0.,  0.,  0.,  0.,  0.,  0.,  0.,  0.,  0.,  0.,  0.],\n",
      "        [10.,  0.,  0.,  0.,  0.,  0.,  0.,  0.,  0.,  0.,  0.,  0.,  0.],\n",
      "        [ 0.,  0.,  0.,  0.,  0.,  0.,  0.,  0.,  0.,  0.,  0.,  0.,  0.],\n",
      "        [ 0.,  0.,  0.,  0.,  0.,  0.,  0.,  0.,  0.,  0.,  0.,  0.,  0.],\n",
      "        [ 0.,  0.,  0.,  0.,  0.,  0.,  0.,  0.,  0.,  0.,  0.,  0.,  0.],\n",
      "        [ 0.,  0.,  0.,  0.,  0.,  0.,  0.,  0.,  0.,  0.,  0.,  0.,  0.],\n",
      "        [ 0.,  0., 10.,  0.,  0.,  0.,  0.,  0.,  0.,  0.,  0.,  0.,  0.]])\n"
     ]
    },
    {
     "data": {
      "image/png": "[encoded data removed]",
      "text/plain": [
       "<Figure size 432x288 with 1 Axes>"
      ]
     },
     "metadata": {
      "needs_background": "light"
     },
     "output_type": "display_data"
    },
    {
     "name": "stdout",
     "output_type": "stream",
     "text": [
      "tensor([[2.4825e-03, 2.4764e-03, 2.4477e-03, 2.4192e-03, 9.8757e-01, 4.4837e-05,\n",
      "         0.0000e+00, 0.0000e+00, 0.0000e+00, 0.0000e+00, 0.0000e+00, 0.0000e+00,\n",
      "         0.0000e+00]], grad_fn=<AddBackward0>)\n",
      "\n",
      "Affixed output\n",
      "tensor([0.9999, 0.9999, 0.9999, 0.9998, 0.9998, 0.9998, 0.0000, 0.0000, 0.0000,\n",
      "        0.0000, 0.0000, 0.0000, 0.0000], grad_fn=<SelectBackward>)\n",
      "tensor([[1., 1., 1., 1., 1., 1., 1., 1., 1., 1., 0., 0., 0.],\n",
      "        [1., 0., 0., 0., 0., 0., 0., 0., 0., 0., 0., 0., 0.],\n",
      "        [0., 0., 0., 0., 0., 0., 0., 0., 0., 1., 0., 0., 0.],\n",
      "        [0., 1., 0., 1., 0., 1., 0., 1., 0., 0., 0., 0., 0.],\n",
      "        [0., 0., 1., 0., 1., 0., 1., 0., 1., 0., 0., 0., 0.],\n",
      "        [0., 0., 1., 0., 0., 0., 0., 0., 0., 0., 0., 0., 0.],\n",
      "        [0., 1., 0., 0., 0., 0., 0., 0., 0., 0., 0., 0., 0.],\n",
      "        [0., 0., 0., 0., 0., 0., 0., 0., 0., 0., 0., 0., 0.],\n",
      "        [0., 0., 0., 0., 0., 0., 0., 0., 0., 0., 0., 0., 0.],\n",
      "        [0., 0., 0., 0., 0., 0., 0., 0., 0., 0., 0., 0., 0.],\n",
      "        [0., 0., 0., 0., 0., 0., 1., 0., 1., 0., 0., 0., 0.],\n",
      "        [0., 0., 0., 0., 0., 0., 0., 0., 0., 0., 0., 0., 0.],\n",
      "        [0., 0., 0., 0., 0., 1., 0., 0., 0., 0., 0., 0., 0.],\n",
      "        [0., 0., 0., 0., 0., 0., 0., 0., 0., 0., 0., 0., 0.],\n",
      "        [0., 0., 0., 0., 1., 0., 0., 0., 0., 0., 0., 0., 0.],\n",
      "        [0., 0., 0., 1., 0., 0., 0., 0., 0., 0., 0., 0., 0.],\n",
      "        [0., 0., 0., 0., 0., 0., 0., 0., 0., 0., 0., 0., 0.],\n",
      "        [0., 0., 0., 0., 0., 0., 0., 1., 0., 0., 0., 0., 0.]])\n"
     ]
    },
    {
     "data": {
      "image/png": "[encoded data removed]",
      "text/plain": [
       "<Figure size 432x288 with 1 Axes>"
      ]
     },
     "metadata": {
      "needs_background": "light"
     },
     "output_type": "display_data"
    },
    {
     "name": "stdout",
     "output_type": "stream",
     "text": [
      "⋊ b a p o k i w i ⋉\n"
     ]
    }
   ],
   "source": [
    "# Test initialization\n",
    "# Pivot initialization\n",
    "print('Pivoter')\n",
    "affixer.pivoter.init()\n",
    "print(affixer.pivoter.pivoter_LR.context2alpha.bias)\n",
    "print(affixer.pivoter.pivoter_RL.context2alpha.bias)\n",
    "pivot = affixer.pivoter(Stem, Morphosyn)\n",
    "print(pivot[0])\n",
    "#plt.imshow(affixer.pivoter.bias.detach(), origin='upper', aspect='auto')\n",
    "print()\n",
    "\n",
    "# Affix initialization\n",
    "print('Affix')\n",
    "affixer.init(affix='k i w i')\n",
    "affixer.pivoter.init(ftr='end', before=1)\n",
    "print(affixer.context2unpivot.bias)\n",
    "print(affixer.context2affix_copy.bias)\n",
    "affix = affixer.context2affix.bias.detach().\\\n",
    "            view(config.dfill, config.nrole)\n",
    "print(affix)\n",
    "plt.imshow(affix.detach(), origin='upper', aspect='auto')\n",
    "plt.show()\n",
    "pivot = affixer.pivoter(Stem, Morphosyn)\n",
    "print(pivot[0])\n",
    "print()\n",
    "\n",
    "# Affixation\n",
    "print('Affixed output')\n",
    "config.recorder = Recorder()\n",
    "cogrammar.truncater.init(delete_before=0)\n",
    "print(cogrammar.truncater(Stem, Morphosyn)[0])\n",
    "Output = cogrammar(Stem, Morphosyn, max_len=10)\n",
    "print(np.round(Output[0].detach(),2))\n",
    "plt.imshow(Output[0].detach(), origin='upper', aspect='auto')\n",
    "plt.show()\n",
    "output = decoder.decode(Output)\n",
    "output_seg = config.form_embedder.idvec2string(output[0])\n",
    "print(output_seg)"
   ]
  },
  {
   "cell_type": "code",
   "execution_count": 17,
   "metadata": {},
   "outputs": [
    {
     "name": "stdout",
     "output_type": "stream",
     "text": [
      "tensor([0.9999, 0.9999, 0.9999, 0.9998, 0.9998, 0.9998, 0.0000, 0.0000, 0.0000,\n",
      "        0.0000, 0.0000, 0.0000, 0.0000])\n",
      "tensor([2.4825e-03, 2.4764e-03, 2.4477e-03, 2.4192e-03, 9.8757e-01, 4.4837e-05,\n",
      "        0.0000e+00, 0.0000e+00, 0.0000e+00, 0.0000e+00, 0.0000e+00, 0.0000e+00,\n",
      "        0.0000e+00])\n",
      "tensor([[0.0000, 0.9994, 1.9987, 2.9981, 3.9974, 4.9967, 4.9973, 4.9980, 4.9986,\n",
      "         4.9993, 5.0000, 5.9994]])\n"
     ]
    },
    {
     "data": {
      "image/png": "[encoded data removed]",
      "text/plain": [
       "<Figure size 432x288 with 1 Axes>"
      ]
     },
     "metadata": {
      "needs_background": "light"
     },
     "output_type": "display_data"
    },
    {
     "data": {
      "image/png": "[encoded data removed]",
      "text/plain": [
       "<Figure size 432x288 with 1 Axes>"
      ]
     },
     "metadata": {
      "needs_background": "light"
     },
     "output_type": "display_data"
    },
    {
     "name": "stdout",
     "output_type": "stream",
     "text": [
      "tensor([[9.9991e-01],\n",
      "        [9.9991e-01],\n",
      "        [9.9986e-01],\n",
      "        [9.9984e-01],\n",
      "        [9.9984e-01],\n",
      "        [9.9919e-01],\n",
      "        [9.9918e-01],\n",
      "        [9.9917e-01],\n",
      "        [9.9917e-01],\n",
      "        [9.9916e-01],\n",
      "        [9.9916e-01],\n",
      "        [6.2289e-04]])\n",
      "torch.Size([12, 1])\n"
     ]
    },
    {
     "data": {
      "text/plain": [
       "<matplotlib.image.AxesImage at 0x121a85c10>"
      ]
     },
     "execution_count": 17,
     "metadata": {},
     "output_type": "execute_result"
    },
    {
     "data": {
      "image/png": "[encoded data removed]",
      "text/plain": [
       "<Figure size 432x288 with 1 Axes>"
      ]
     },
     "metadata": {
      "needs_background": "light"
     },
     "output_type": "display_data"
    }
   ],
   "source": [
    "record = config.recorder.dump(save=False)\n",
    "print(record['root-cogrammar-copy_stem'][0].t())\n",
    "print(record['root-cogrammar-pivot'][0].t())\n",
    "print(record['root-cogrammar-combiner-stem_indx'][0].t())\n",
    "\n",
    "fig,ax = plt.subplots(1); ax.set_ylim(0,1)\n",
    "ax.plot(record['root-cogrammar-combiner-morph_indx'][0].detach(), 'o--')\n",
    "ax.set_title('Morph index (stem = 0, affix = 1)', fontsize=16)\n",
    "ax.set_xlabel('timestep', fontsize=16)\n",
    "ax.set_ylabel('position', fontsize=16)\n",
    "plt.show()\n",
    "\n",
    "fig,ax = plt.subplots(1); ax.set_ylim(0,12)\n",
    "ax.plot(record['root-cogrammar-combiner-stem_indx'][0].detach(), 'o--')\n",
    "ax.plot(record['root-cogrammar-combiner-affix_indx'][0].detach(), 'o--')\n",
    "ax.plot(record['root-cogrammar-combiner-output_indx'][0].detach(), 'o--')\n",
    "ax.set_title('Position within morph (stem, affix, output)', fontsize=16)\n",
    "ax.set_xlabel('timestep', fontsize=16)\n",
    "ax.set_ylabel('position', fontsize=16)\n",
    "plt.show()\n",
    "\n",
    "fig,ax = plt.subplots(1)\n",
    "delta0 = record['root-cogrammar-combiner-writer-delta0'][0]\n",
    "print(delta0)\n",
    "print(delta0.shape)\n",
    "ax.imshow(delta0.detach(), aspect='auto')"
   ]
  },
  {
   "cell_type": "code",
   "execution_count": 5,
   "metadata": {},
   "outputs": [
    {
     "data": {
      "image/png": "[encoded data removed]",
      "text/plain": [
       "<Figure size 504x288 with 2 Axes>"
      ]
     },
     "metadata": {
      "needs_background": "light"
     },
     "output_type": "display_data"
    },
    {
     "name": "stdout",
     "output_type": "stream",
     "text": [
      "⋊ b a p o ⋉  ->  ⟨⋊⟩ ⟨b⟩ ⟨a⟩ ⟨p⟩ o ⟨⋉⟩  ->  o ε ε ε ε ε ε ε ε ε ε ε ε\n"
     ]
    },
    {
     "data": {
      "image/png": "[encoded data removed]",
      "text/plain": [
       "<Figure size 432x288 with 1 Axes>"
      ]
     },
     "metadata": {
      "needs_background": "light"
     },
     "output_type": "display_data"
    }
   ],
   "source": [
    "# Truncation example\n",
    "tau = 10.0\n",
    "cogrammar = grammar.cogrammar\n",
    "decoder = grammar.decoder\n",
    "affixer = cogrammar.affixer\n",
    "affixer.pivoter.init() # don't pivot\n",
    "truncater = cogrammar.truncater\n",
    "truncater.init(delete_before=1, delete_begin=1, delete_end=1)\n",
    "truncater.pivoter.init(direction='<-RL', ftr='V')\n",
    "\n",
    "#recorder.init()\n",
    "pivot_vec, _, _ = truncater.pivoter(Stem, Morphosyn)\n",
    "copy_vec = truncater(Stem, Morphosyn)\n",
    "fig,ax = plt.subplots(1, 2, figsize=(7,4))\n",
    "ax[0].set_ylim(0,1); ax[1].set_ylim(0,1)\n",
    "ax[0].plot(pivot_vec.detach()[0], 'o--')\n",
    "ax[1].plot(copy_vec.detach()[0], 'o--')\n",
    "plt.show()\n",
    "\n",
    "#recorder.init()\n",
    "cogrammar.combiner.morph_attender.tau.data.fill_(tau)\n",
    "cogrammar.combiner.posn_attender.tau.data.fill_(tau)\n",
    "Trunc = cogrammar(Stem, Morphosyn, max_len=10)\n",
    "plt.imshow(Trunc[0].detach(), origin='upper', aspect='auto')\n",
    "\n",
    "#recorder.init()\n",
    "decoder.tau.data.fill_(tau)\n",
    "stem_ = decoder.decode(Stem)\n",
    "stem_seg = config.form_embedder.idvec2string(stem_[0], copy=copy_vec[0])\n",
    "trunc = decoder.decode(Trunc)\n",
    "trunc_seg = config.form_embedder.idvec2string(trunc[0])\n",
    "print(stem, ' -> ', stem_seg, ' -> ', trunc_seg)"
   ]
  },
  {
   "cell_type": "code",
   "execution_count": 7,
   "metadata": {},
   "outputs": [
    {
     "ename": "RuntimeError",
     "evalue": "Error(s) in loading state_dict for BiPivoter:\n\tMissing key(s) in state_dict: \"pivoter_LR.context2alpha.weight\", \"pivoter_LR.context2alpha.bias\", \"pivoter_LR.context2beta.weight\", \"pivoter_LR.context2beta.bias\", \"pivoter_LR.matcher.context2Wpos.weight\", \"pivoter_LR.matcher.context2Wpos.bias\", \"pivoter_LR.matcher.context2Wneg.weight\", \"pivoter_LR.matcher.context2Wneg.bias\", \"pivoter_LR.matcher.context2tau.weight\", \"pivoter_LR.matcher.context2tau.bias\", \"pivoter_RL.context2alpha.weight\", \"pivoter_RL.context2alpha.bias\", \"pivoter_RL.context2beta.weight\", \"pivoter_RL.context2beta.bias\", \"pivoter_RL.matcher.context2Wpos.weight\", \"pivoter_RL.matcher.context2Wpos.bias\", \"pivoter_RL.matcher.context2Wneg.weight\", \"pivoter_RL.matcher.context2Wneg.bias\", \"pivoter_RL.matcher.context2tau.weight\", \"pivoter_RL.matcher.context2tau.bias\". \n\tUnexpected key(s) in state_dict: \"context2tau.weight\", \"context2tau.bias\", \"context2beta.weight\", \"context2beta.bias\". \n\tsize mismatch for matcher.context2Wpos.weight: copying a param with shape torch.Size([5, 1]) from checkpoint, the shape in current model is torch.Size([1, 1]).\n\tsize mismatch for matcher.context2Wpos.bias: copying a param with shape torch.Size([5]) from checkpoint, the shape in current model is torch.Size([1]).\n\tsize mismatch for matcher.context2Wneg.weight: copying a param with shape torch.Size([5, 1]) from checkpoint, the shape in current model is torch.Size([1, 1]).\n\tsize mismatch for matcher.context2Wneg.bias: copying a param with shape torch.Size([5]) from checkpoint, the shape in current model is torch.Size([1]).",
     "output_type": "error",
     "traceback": [
      "\u001b[0;31m---------------------------------------------------------------------------\u001b[0m",
      "\u001b[0;31mRuntimeError\u001b[0m                              Traceback (most recent call last)",
      "\u001b[0;32m<ipython-input-7-7e80dcab436a>\u001b[0m in \u001b[0;36m<module>\u001b[0;34m\u001b[0m\n\u001b[1;32m     14\u001b[0m     \u001b[0;34m'context2beta.bias'\u001b[0m\u001b[0;34m:\u001b[0m \u001b[0mtorch\u001b[0m\u001b[0;34m.\u001b[0m\u001b[0mtensor\u001b[0m\u001b[0;34m(\u001b[0m\u001b[0;34m[\u001b[0m\u001b[0;36m0.0\u001b[0m\u001b[0;34m,\u001b[0m\u001b[0;34m]\u001b[0m\u001b[0;34m)\u001b[0m\u001b[0;34m\u001b[0m\u001b[0;34m\u001b[0m\u001b[0m\n\u001b[1;32m     15\u001b[0m }\n\u001b[0;32m---> 16\u001b[0;31m \u001b[0mpivoter1\u001b[0m\u001b[0;34m.\u001b[0m\u001b[0mload_state_dict\u001b[0m\u001b[0;34m(\u001b[0m\u001b[0mstate_dict_new\u001b[0m\u001b[0;34m)\u001b[0m\u001b[0;34m\u001b[0m\u001b[0;34m\u001b[0m\u001b[0m\n\u001b[0m\u001b[1;32m     17\u001b[0m \u001b[0;32mif\u001b[0m \u001b[0;36m0\u001b[0m\u001b[0;34m:\u001b[0m\u001b[0;34m\u001b[0m\u001b[0;34m\u001b[0m\u001b[0m\n\u001b[1;32m     18\u001b[0m     \u001b[0;32mfor\u001b[0m \u001b[0mp\u001b[0m\u001b[0;34m,\u001b[0m\u001b[0mv\u001b[0m \u001b[0;32min\u001b[0m \u001b[0mpivoter1_pars\u001b[0m\u001b[0;34m.\u001b[0m\u001b[0mitems\u001b[0m\u001b[0;34m(\u001b[0m\u001b[0;34m)\u001b[0m\u001b[0;34m:\u001b[0m\u001b[0;34m\u001b[0m\u001b[0;34m\u001b[0m\u001b[0m\n",
      "\u001b[0;32m/Library/anaconda3/lib/python3.7/site-packages/torch/nn/modules/module.py\u001b[0m in \u001b[0;36mload_state_dict\u001b[0;34m(self, state_dict, strict)\u001b[0m\n\u001b[1;32m    845\u001b[0m         \u001b[0;32mif\u001b[0m \u001b[0mlen\u001b[0m\u001b[0;34m(\u001b[0m\u001b[0merror_msgs\u001b[0m\u001b[0;34m)\u001b[0m \u001b[0;34m>\u001b[0m \u001b[0;36m0\u001b[0m\u001b[0;34m:\u001b[0m\u001b[0;34m\u001b[0m\u001b[0;34m\u001b[0m\u001b[0m\n\u001b[1;32m    846\u001b[0m             raise RuntimeError('Error(s) in loading state_dict for {}:\\n\\t{}'.format(\n\u001b[0;32m--> 847\u001b[0;31m                                self.__class__.__name__, \"\\n\\t\".join(error_msgs)))\n\u001b[0m\u001b[1;32m    848\u001b[0m         \u001b[0;32mreturn\u001b[0m \u001b[0m_IncompatibleKeys\u001b[0m\u001b[0;34m(\u001b[0m\u001b[0mmissing_keys\u001b[0m\u001b[0;34m,\u001b[0m \u001b[0munexpected_keys\u001b[0m\u001b[0;34m)\u001b[0m\u001b[0;34m\u001b[0m\u001b[0;34m\u001b[0m\u001b[0m\n\u001b[1;32m    849\u001b[0m \u001b[0;34m\u001b[0m\u001b[0m\n",
      "\u001b[0;31mRuntimeError\u001b[0m: Error(s) in loading state_dict for BiPivoter:\n\tMissing key(s) in state_dict: \"pivoter_LR.context2alpha.weight\", \"pivoter_LR.context2alpha.bias\", \"pivoter_LR.context2beta.weight\", \"pivoter_LR.context2beta.bias\", \"pivoter_LR.matcher.context2Wpos.weight\", \"pivoter_LR.matcher.context2Wpos.bias\", \"pivoter_LR.matcher.context2Wneg.weight\", \"pivoter_LR.matcher.context2Wneg.bias\", \"pivoter_LR.matcher.context2tau.weight\", \"pivoter_LR.matcher.context2tau.bias\", \"pivoter_RL.context2alpha.weight\", \"pivoter_RL.context2alpha.bias\", \"pivoter_RL.context2beta.weight\", \"pivoter_RL.context2beta.bias\", \"pivoter_RL.matcher.context2Wpos.weight\", \"pivoter_RL.matcher.context2Wpos.bias\", \"pivoter_RL.matcher.context2Wneg.weight\", \"pivoter_RL.matcher.context2Wneg.bias\", \"pivoter_RL.matcher.context2tau.weight\", \"pivoter_RL.matcher.context2tau.bias\". \n\tUnexpected key(s) in state_dict: \"context2tau.weight\", \"context2tau.bias\", \"context2beta.weight\", \"context2beta.bias\". \n\tsize mismatch for matcher.context2Wpos.weight: copying a param with shape torch.Size([5, 1]) from checkpoint, the shape in current model is torch.Size([1, 1]).\n\tsize mismatch for matcher.context2Wpos.bias: copying a param with shape torch.Size([5]) from checkpoint, the shape in current model is torch.Size([1]).\n\tsize mismatch for matcher.context2Wneg.weight: copying a param with shape torch.Size([5, 1]) from checkpoint, the shape in current model is torch.Size([1, 1]).\n\tsize mismatch for matcher.context2Wneg.bias: copying a param with shape torch.Size([5]) from checkpoint, the shape in current model is torch.Size([1])."
     ]
    }
   ],
   "source": [
    "pivoter1_pars = pivoter1.state_dict()\n",
    "state_dict_new = {\n",
    "    'matcher.context2Wpos.weight': torch.tensor([0.0, 0.0, 0.0, 0.0, 3.0]).unsqueeze(1),\n",
    "    'matcher.context2Wpos.bias': torch.tensor([0.0, 0.0, 0.0, 0.0, 0.0]),\n",
    "    'matcher.context2Wneg.weight': torch.tensor([0.0, 0.0, 0.0, 0.0, 0.0]).unsqueeze(1),\n",
    "    'matcher.context2Wneg.bias': torch.tensor([0.0, 0.0, 0.0, 0.0, 0.0]),\n",
    "    'matcher.context2tau.weight': torch.tensor([1.0,]).reshape(1,1),\n",
    "    'matcher.context2tau.bias': torch.tensor([0.0,]),\n",
    "    'context2tau.weight': torch.tensor([1.0,]).reshape(1,1),\n",
    "    'context2tau.bias': torch.tensor([0.0,]),\n",
    "    'context2alpha.weight': torch.tensor([3.0,]).reshape(1,1),\n",
    "    'context2alpha.bias': torch.tensor([0.0,]),\n",
    "    'context2beta.weight': torch.tensor([3.0,]).reshape(1,1),\n",
    "    'context2beta.bias': torch.tensor([0.0,])    \n",
    "}\n",
    "pivoter1.load_state_dict(state_dict_new)\n",
    "if 0:\n",
    "    for p,v in pivoter1_pars.items():\n",
    "        print(p,v)\n",
    "\n",
    "pivot = pivoter1(Stem, Morph)[0].detach().numpy()[0][0:15]\n",
    "print(pivot)\n",
    "#print(pivot)\n",
    "#print(stem)\n",
    "fig, ax = plt.subplots(1)\n",
    "plt.plot(pivot)\n",
    "ax.set_ylim(0,0.5)\n",
    "plt.show()\n",
    "print(stem)\n",
    "\n",
    "print(config.recorder.record)"
   ]
  },
  {
   "cell_type": "code",
   "execution_count": 8,
   "metadata": {},
   "outputs": [
    {
     "ename": "RuntimeError",
     "evalue": "Error(s) in loading state_dict for FixedPivoter:\n\tsize mismatch for context2alpha.weight: copying a param with shape torch.Size([1, 1]) from checkpoint, the shape in current model is torch.Size([5, 1]).\n\tsize mismatch for context2alpha.bias: copying a param with shape torch.Size([1]) from checkpoint, the shape in current model is torch.Size([5]).\n\tsize mismatch for context2beta.weight: copying a param with shape torch.Size([1, 1]) from checkpoint, the shape in current model is torch.Size([5, 1]).\n\tsize mismatch for context2beta.bias: copying a param with shape torch.Size([1]) from checkpoint, the shape in current model is torch.Size([5]).\n\tsize mismatch for matcher.context2Wpos.weight: copying a param with shape torch.Size([5, 1]) from checkpoint, the shape in current model is torch.Size([1, 1]).\n\tsize mismatch for matcher.context2Wpos.bias: copying a param with shape torch.Size([5]) from checkpoint, the shape in current model is torch.Size([1]).\n\tsize mismatch for matcher.context2Wneg.weight: copying a param with shape torch.Size([5, 1]) from checkpoint, the shape in current model is torch.Size([1, 1]).\n\tsize mismatch for matcher.context2Wneg.bias: copying a param with shape torch.Size([5]) from checkpoint, the shape in current model is torch.Size([1]).",
     "output_type": "error",
     "traceback": [
      "\u001b[0;31m---------------------------------------------------------------------------\u001b[0m",
      "\u001b[0;31mRuntimeError\u001b[0m                              Traceback (most recent call last)",
      "\u001b[0;32m<ipython-input-8-670fb621438d>\u001b[0m in \u001b[0;36m<module>\u001b[0;34m\u001b[0m\n\u001b[1;32m      1\u001b[0m \u001b[0;31m#help(pivoter.FixedPivoter)\u001b[0m\u001b[0;34m\u001b[0m\u001b[0;34m\u001b[0m\u001b[0;34m\u001b[0m\u001b[0m\n\u001b[0;32m----> 2\u001b[0;31m \u001b[0mpivoter2\u001b[0m \u001b[0;34m=\u001b[0m \u001b[0mpivoter\u001b[0m\u001b[0;34m.\u001b[0m\u001b[0mFixedPivoter\u001b[0m\u001b[0;34m(\u001b[0m\u001b[0;36m1\u001b[0m\u001b[0;34m,\u001b[0m \u001b[0;36m5\u001b[0m\u001b[0;34m,\u001b[0m \u001b[0;36m1\u001b[0m\u001b[0;34m,\u001b[0m \u001b[0mstate_dict_new\u001b[0m\u001b[0;34m)\u001b[0m\u001b[0;34m\u001b[0m\u001b[0;34m\u001b[0m\u001b[0m\n\u001b[0m\u001b[1;32m      3\u001b[0m \u001b[0mpivot\u001b[0m \u001b[0;34m=\u001b[0m \u001b[0mpivoter2\u001b[0m\u001b[0;34m(\u001b[0m\u001b[0mStem\u001b[0m\u001b[0;34m,\u001b[0m \u001b[0mMorph\u001b[0m\u001b[0;34m)\u001b[0m\u001b[0;34m[\u001b[0m\u001b[0;36m0\u001b[0m\u001b[0;34m]\u001b[0m\u001b[0;34m.\u001b[0m\u001b[0mdetach\u001b[0m\u001b[0;34m(\u001b[0m\u001b[0;34m)\u001b[0m\u001b[0;34m.\u001b[0m\u001b[0mnumpy\u001b[0m\u001b[0;34m(\u001b[0m\u001b[0;34m)\u001b[0m\u001b[0;34m[\u001b[0m\u001b[0;36m0\u001b[0m\u001b[0;34m]\u001b[0m\u001b[0;34m[\u001b[0m\u001b[0;36m0\u001b[0m\u001b[0;34m:\u001b[0m\u001b[0;36m15\u001b[0m\u001b[0;34m]\u001b[0m\u001b[0;34m\u001b[0m\u001b[0;34m\u001b[0m\u001b[0m\n\u001b[1;32m      4\u001b[0m \u001b[0mprint\u001b[0m\u001b[0;34m(\u001b[0m\u001b[0mpivot\u001b[0m\u001b[0;34m)\u001b[0m\u001b[0;34m\u001b[0m\u001b[0;34m\u001b[0m\u001b[0m\n\u001b[1;32m      5\u001b[0m \u001b[0;31m#print(pivot)\u001b[0m\u001b[0;34m\u001b[0m\u001b[0;34m\u001b[0m\u001b[0;34m\u001b[0m\u001b[0m\n",
      "\u001b[0;32m~/Code/Python/tensormorph_redup/src/pivoter.py\u001b[0m in \u001b[0;36m__init__\u001b[0;34m(self, dcontext, nfeature, npattern, fixed_state_dict)\u001b[0m\n\u001b[1;32m    269\u001b[0m             \u001b[0mparam\u001b[0m\u001b[0;34m.\u001b[0m\u001b[0mrequires_grad\u001b[0m \u001b[0;34m=\u001b[0m \u001b[0;32mFalse\u001b[0m\u001b[0;34m\u001b[0m\u001b[0;34m\u001b[0m\u001b[0m\n\u001b[1;32m    270\u001b[0m             \u001b[0mparam\u001b[0m\u001b[0;34m.\u001b[0m\u001b[0mfill_\u001b[0m\u001b[0;34m(\u001b[0m\u001b[0;36m0.0\u001b[0m\u001b[0;34m)\u001b[0m\u001b[0;34m\u001b[0m\u001b[0;34m\u001b[0m\u001b[0m\n\u001b[0;32m--> 271\u001b[0;31m         \u001b[0mself\u001b[0m\u001b[0;34m.\u001b[0m\u001b[0mload_state_dict\u001b[0m\u001b[0;34m(\u001b[0m\u001b[0mfixed_state_dict\u001b[0m\u001b[0;34m,\u001b[0m \u001b[0mstrict\u001b[0m\u001b[0;34m=\u001b[0m\u001b[0;32mFalse\u001b[0m\u001b[0;34m)\u001b[0m\u001b[0;34m\u001b[0m\u001b[0;34m\u001b[0m\u001b[0m\n\u001b[0m\u001b[1;32m    272\u001b[0m         \u001b[0mself\u001b[0m\u001b[0;34m.\u001b[0m\u001b[0mtau\u001b[0m \u001b[0;34m=\u001b[0m \u001b[0mtorch\u001b[0m\u001b[0;34m.\u001b[0m\u001b[0mones\u001b[0m\u001b[0;34m(\u001b[0m\u001b[0;36m1\u001b[0m\u001b[0;34m)\u001b[0m \u001b[0;34m*\u001b[0m \u001b[0;36m10.0\u001b[0m \u001b[0;31m# xxx todo: fit this\u001b[0m\u001b[0;34m\u001b[0m\u001b[0;34m\u001b[0m\u001b[0m\n\u001b[1;32m    273\u001b[0m         \u001b[0mself\u001b[0m\u001b[0;34m.\u001b[0m\u001b[0mmatcher\u001b[0m \u001b[0;34m=\u001b[0m \u001b[0mWinnowMatcher\u001b[0m\u001b[0;34m(\u001b[0m\u001b[0;36m1\u001b[0m\u001b[0;34m,\u001b[0m\u001b[0;36m1\u001b[0m\u001b[0;34m)\u001b[0m \u001b[0;31m# xxx not used\u001b[0m\u001b[0;34m\u001b[0m\u001b[0;34m\u001b[0m\u001b[0m\n",
      "\u001b[0;32m/Library/anaconda3/lib/python3.7/site-packages/torch/nn/modules/module.py\u001b[0m in \u001b[0;36mload_state_dict\u001b[0;34m(self, state_dict, strict)\u001b[0m\n\u001b[1;32m    845\u001b[0m         \u001b[0;32mif\u001b[0m \u001b[0mlen\u001b[0m\u001b[0;34m(\u001b[0m\u001b[0merror_msgs\u001b[0m\u001b[0;34m)\u001b[0m \u001b[0;34m>\u001b[0m \u001b[0;36m0\u001b[0m\u001b[0;34m:\u001b[0m\u001b[0;34m\u001b[0m\u001b[0;34m\u001b[0m\u001b[0m\n\u001b[1;32m    846\u001b[0m             raise RuntimeError('Error(s) in loading state_dict for {}:\\n\\t{}'.format(\n\u001b[0;32m--> 847\u001b[0;31m                                self.__class__.__name__, \"\\n\\t\".join(error_msgs)))\n\u001b[0m\u001b[1;32m    848\u001b[0m         \u001b[0;32mreturn\u001b[0m \u001b[0m_IncompatibleKeys\u001b[0m\u001b[0;34m(\u001b[0m\u001b[0mmissing_keys\u001b[0m\u001b[0;34m,\u001b[0m \u001b[0munexpected_keys\u001b[0m\u001b[0;34m)\u001b[0m\u001b[0;34m\u001b[0m\u001b[0;34m\u001b[0m\u001b[0m\n\u001b[1;32m    849\u001b[0m \u001b[0;34m\u001b[0m\u001b[0m\n",
      "\u001b[0;31mRuntimeError\u001b[0m: Error(s) in loading state_dict for FixedPivoter:\n\tsize mismatch for context2alpha.weight: copying a param with shape torch.Size([1, 1]) from checkpoint, the shape in current model is torch.Size([5, 1]).\n\tsize mismatch for context2alpha.bias: copying a param with shape torch.Size([1]) from checkpoint, the shape in current model is torch.Size([5]).\n\tsize mismatch for context2beta.weight: copying a param with shape torch.Size([1, 1]) from checkpoint, the shape in current model is torch.Size([5, 1]).\n\tsize mismatch for context2beta.bias: copying a param with shape torch.Size([1]) from checkpoint, the shape in current model is torch.Size([5]).\n\tsize mismatch for matcher.context2Wpos.weight: copying a param with shape torch.Size([5, 1]) from checkpoint, the shape in current model is torch.Size([1, 1]).\n\tsize mismatch for matcher.context2Wpos.bias: copying a param with shape torch.Size([5]) from checkpoint, the shape in current model is torch.Size([1]).\n\tsize mismatch for matcher.context2Wneg.weight: copying a param with shape torch.Size([5, 1]) from checkpoint, the shape in current model is torch.Size([1, 1]).\n\tsize mismatch for matcher.context2Wneg.bias: copying a param with shape torch.Size([5]) from checkpoint, the shape in current model is torch.Size([1])."
     ]
    }
   ],
   "source": [
    "#help(pivoter.FixedPivoter)\n",
    "pivoter2 = pivoter.FixedPivoter(1, 5, 1, state_dict_new)\n",
    "pivot = pivoter2(Stem, Morph)[0].detach().numpy()[0][0:15]\n",
    "print(pivot)\n",
    "#print(pivot)\n",
    "#print(stem)\n",
    "fig, ax = plt.subplots(1)\n",
    "plt.plot(pivot)\n",
    "ax.set_ylim(0,0.5)\n",
    "plt.show()\n",
    "print(stem)"
   ]
  },
  {
   "cell_type": "code",
   "execution_count": 15,
   "metadata": {},
   "outputs": [
    {
     "name": "stdout",
     "output_type": "stream",
     "text": [
      "tensor([[0.0516, 0.0516, 0.0516, 0.1691, 0.0516, 0.0516, 0.1691, 0.0516, 0.0000,\n",
      "         0.0000, 0.0000, 0.0000, 0.0000, 0.0000, 0.0000, 0.0000, 0.0000, 0.0000,\n",
      "         0.0000, 0.0000, 0.0000, 0.0000, 0.0000, 0.0000, 0.0000, 0.0000]])\n",
      "tensor([[0.0516, 0.0449, 0.0390, 0.1110, 0.0214, 0.0186, 0.0529, 0.0102, 0.0000,\n",
      "         0.0000, 0.0000, 0.0000, 0.0000, 0.0000, 0.0000, 0.0000, 0.0000, 0.0000,\n",
      "         0.0000, 0.0000, 0.0000, 0.0000, 0.0000, 0.0000, 0.0000, 0.0000]])\n",
      "tensor([[0.0516, 0.0490, 0.0466, 0.1449, 0.0374, 0.0355, 0.1103, 0.0284, 0.0000,\n",
      "         0.0000, 0.0000, 0.0000, 0.0000, 0.0000, 0.0000, 0.0000, 0.0000, 0.0000,\n",
      "         0.0000, 0.0000, 0.0000, 0.0000, 0.0000, 0.0000, 0.0000, 0.0000]])\n",
      "tensor([[0.0516, 0.0449, 0.0390, 0.1110, 0.0214, 0.0186, 0.0529, 0.0102, 0.0000,\n",
      "         0.0000, 0.0000, 0.0000, 0.0000, 0.0000, 0.0000, 0.0000, 0.0000, 0.0000,\n",
      "         0.0000, 0.0000, 0.0000, 0.0000, 0.0000, 0.0000, 0.0000, 0.0000]])\n"
     ]
    }
   ],
   "source": [
    "match = config.recorder.record['root-cogrammar-affixer-pivoter-match']\n",
    "scan_LR = config.recorder.record['root-cogrammar-affixer-pivoter-scan_LR']\n",
    "print(match)\n",
    "print(scan_LR)\n",
    "W_LR = pivoter.inhibiter.W_LR\n",
    "W_RL = pivoter.inhibiter.W_RL\n",
    "match2 = torch.exp(torch.log(match) + match @ W_LR)\n",
    "print(match2)\n",
    "match3 = match * torch.exp(torch.exp(torch.FloatTensor([1,])) * match @ W_LR)\n",
    "print(match3)"
   ]
  },
  {
   "cell_type": "code",
   "execution_count": 16,
   "metadata": {},
   "outputs": [
    {
     "name": "stdout",
     "output_type": "stream",
     "text": [
      "tensor([[0.0067],\n",
      "        [0.0067],\n",
      "        [0.0067],\n",
      "        [0.0067],\n",
      "        [0.1269]]) tensor([[0.0067],\n",
      "        [0.0067],\n",
      "        [0.0067],\n",
      "        [0.0067],\n",
      "        [0.0067]])\n",
      "tensor([[0.2142, 0.2142, 0.2142, 0.0940, 0.2142, 0.2142, 0.0940, 0.2142, 0.1874,\n",
      "         0.1874, 0.1874, 0.1874, 0.1874, 0.1874, 0.1874, 0.1874, 0.1874, 0.1874,\n",
      "         0.1874, 0.1874, 0.1874, 0.1874, 0.1874, 0.1874, 0.1874, 0.1874]])\n",
      "tensor([[0.8072, 0.8072, 0.8072, 0.9103, 0.8072, 0.8072, 0.9103, 0.8072, 0.8291,\n",
      "         0.8291, 0.8291, 0.8291, 0.8291, 0.8291, 0.8291, 0.8291, 0.8291, 0.8291,\n",
      "         0.8291, 0.8291, 0.8291, 0.8291, 0.8291, 0.8291, 0.8291, 0.8291]])\n"
     ]
    }
   ],
   "source": [
    "Wpos_weight = 1.0 * state_dict_new['matcher.context2Wpos.weight']\n",
    "Wpos_bias = state_dict_new['matcher.context2Wpos.bias']\n",
    "Wneg_weight = 1.0 * state_dict_new['matcher.context2Wneg.weight']\n",
    "Wneg_bias = state_dict_new['matcher.context2Wneg.bias']\n",
    "\n",
    "#Wpos = torch.relu(Wpos_weight) + torch.sigmoid(Wpos_weight) # + Wpos_bias.unsqueeze(1))\n",
    "#Wneg = torch.relu(Wneg_weight) + torch.sigmoid(Wneg_weight) # + Wneg_bias.unsqueeze(1))\n",
    "Wpos = torch.nn.functional.softplus(Wpos_weight - 5.0)\n",
    "Wneg = torch.nn.functional.softplus(Wneg_weight - 5.0)\n",
    "print(Wpos, Wneg)\n",
    "\n",
    "def dist1(X, Wpos, Wneg):\n",
    "    nfeature = Wpos.shape[0]\n",
    "    val = Wpos * (X.narrow(1,0,nfeature) - 1.0)**2.0 + \\\n",
    "          Wneg * (X.narrow(1,0,nfeature) + 1.0)**2.0\n",
    "    val = torch.sum(val,1)\n",
    "    #val = val**0.5\n",
    "    return val\n",
    "\n",
    "def dist2(X, Wpos, Wneg):\n",
    "    nfeature = Wpos.shape[0]\n",
    "    val = torch.sum(Wpos * X.narrow(1,0,nfeature), 1) + \\\n",
    "          torch.sum(-Wneg * X.narrow(1,0,nfeature), 1)\n",
    "    return val\n",
    "\n",
    "dist = dist1(Stem, Wpos, Wneg)\n",
    "match = torch.exp(-dist)\n",
    "print(dist)\n",
    "print(match)\n",
    "#log_match = -dist(Stem, Wpos, Wneg)\n",
    "#print(log_match)\n",
    "#match = torch.exp(5.0 * log_match)\n",
    "#print(match)"
   ]
  },
  {
   "cell_type": "code",
   "execution_count": 17,
   "metadata": {},
   "outputs": [
    {
     "name": "stdout",
     "output_type": "stream",
     "text": [
      "tensor([[0.0797, 0.0797, 0.0797, 0.2610, 0.0797, 0.0797, 0.2610, 0.0797, 0.0000,\n",
      "         0.0000, 0.0000, 0.0000, 0.0000, 0.0000, 0.0000, 0.0000, 0.0000, 0.0000,\n",
      "         0.0000, 0.0000, 0.0000, 0.0000, 0.0000, 0.0000, 0.0000, 0.0000]])\n",
      "tensor([[-2.5297, -2.6094, -2.6891, -1.5824, -3.0297, -3.1094, -2.0028, -3.4500,\n",
      "            -inf,    -inf,    -inf,    -inf,    -inf,    -inf,    -inf,    -inf,\n",
      "            -inf,    -inf,    -inf,    -inf,    -inf,    -inf,    -inf,    -inf,\n",
      "            -inf,    -inf]])\n",
      "tensor([[0.1161, 0.1072, 0.0990, 0.2994, 0.0704, 0.0650, 0.1966, 0.0463, 0.0000,\n",
      "         0.0000, 0.0000, 0.0000, 0.0000, 0.0000, 0.0000, 0.0000, 0.0000, 0.0000,\n",
      "         0.0000, 0.0000, 0.0000, 0.0000, 0.0000, 0.0000, 0.0000, 0.0000]])\n"
     ]
    }
   ],
   "source": [
    "log_match1 = config.recorder.record['root-cogrammar-affixer-pivoter-matcher-log_match']\n",
    "match2 = torch.softmax(log_match1, 1)\n",
    "print(match2)\n",
    "#match2 = torch.exp(match1)\n",
    "inhib_LR = match2 @ W_LR\n",
    "match3 = torch.log(match2) + inhib_LR\n",
    "print(match3)\n",
    "match4 = torch.softmax(match3, 1)\n",
    "print(match4)"
   ]
  },
  {
   "cell_type": "code",
   "execution_count": null,
   "metadata": {},
   "outputs": [],
   "source": []
  }
 ],
 "metadata": {
  "kernelspec": {
   "display_name": "Python 3 (ipykernel)",
   "language": "python",
   "name": "python3"
  },
  "language_info": {
   "codemirror_mode": {
    "name": "ipython",
    "version": 3
   },
   "file_extension": ".py",
   "mimetype": "text/x-python",
   "name": "python",
   "nbconvert_exporter": "python",
   "pygments_lexer": "ipython3",
   "version": "3.9.7"
  }
 },
 "nbformat": 4,
 "nbformat_minor": 4
}
