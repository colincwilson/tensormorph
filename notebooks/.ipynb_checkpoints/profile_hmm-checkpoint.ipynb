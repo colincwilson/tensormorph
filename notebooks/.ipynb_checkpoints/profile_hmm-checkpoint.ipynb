{
 "cells": [
  {
   "cell_type": "code",
   "execution_count": 1,
   "id": "figured-wellington",
   "metadata": {},
   "outputs": [],
   "source": [
    "import torch"
   ]
  },
  {
   "cell_type": "code",
   "execution_count": 16,
   "id": "cross-float",
   "metadata": {},
   "outputs": [
    {
     "name": "stdout",
     "output_type": "stream",
     "text": [
      "tensor([-0.0000, -2.3026, -4.6052, -6.9078])\n"
     ]
    }
   ],
   "source": [
    "n = 4 # input length\n",
    "m = 5 # output length\n",
    "\n",
    "# Move probabilities\n",
    "p_emit = torch.tensor(0.8)\n",
    "p_insert = torch.tensor(0.1)\n",
    "p_delete = torch.tensor(0.1)\n",
    "\n",
    "# Dynamic programming table\n",
    "emit = torch.log(torch.zeros(n, m))\n",
    "insert = torch.log(torch.zeros(n, m))\n",
    "delete = torch.log(torch.zeros(n, m))\n",
    "\n",
    "# Initial occupancies\n",
    "delete0 = torch.arange(n) * torch.log(p_delete)\n",
    "print(delete0)\n",
    "\n",
    "# Recurrence"
   ]
  },
  {
   "cell_type": "code",
   "execution_count": null,
   "id": "previous-physics",
   "metadata": {},
   "outputs": [],
   "source": []
  }
 ],
 "metadata": {
  "kernelspec": {
   "display_name": "Python 3",
   "language": "python",
   "name": "python3"
  },
  "language_info": {
   "codemirror_mode": {
    "name": "ipython",
    "version": 3
   },
   "file_extension": ".py",
   "mimetype": "text/x-python",
   "name": "python",
   "nbconvert_exporter": "python",
   "pygments_lexer": "ipython3",
   "version": "3.7.4"
  }
 },
 "nbformat": 4,
 "nbformat_minor": 5
}
