{
 "cells": [
  {
   "cell_type": "code",
   "execution_count": 1,
   "metadata": {},
   "outputs": [
    {
     "name": "stdout",
     "output_type": "stream",
     "text": [
      "done\n"
     ]
    }
   ],
   "source": [
    "import numpy as np\n",
    "import graphviz\n",
    "import torch\n",
    "print('done')"
   ]
  },
  {
   "cell_type": "code",
   "execution_count": 38,
   "metadata": {},
   "outputs": [
    {
     "ename": "TypeError",
     "evalue": "render() missing 1 required positional argument: 'format'",
     "output_type": "error",
     "traceback": [
      "\u001b[0;31m---------------------------------------------------------------------------\u001b[0m",
      "\u001b[0;31mTypeError\u001b[0m                                 Traceback (most recent call last)",
      "\u001b[0;32m<ipython-input-38-f48304b28955>\u001b[0m in \u001b[0;36m<module>\u001b[0;34m\u001b[0m\n\u001b[0;32m----> 1\u001b[0;31m \u001b[0mgraph1\u001b[0m \u001b[0;34m=\u001b[0m \u001b[0mgraphviz\u001b[0m\u001b[0;34m.\u001b[0m\u001b[0mrender\u001b[0m\u001b[0;34m(\u001b[0m\u001b[0mengine\u001b[0m\u001b[0;34m=\u001b[0m\u001b[0;34m'dot'\u001b[0m\u001b[0;34m,\u001b[0m \u001b[0mfilepath\u001b[0m\u001b[0;34m=\u001b[0m\u001b[0;34m'~/Desktop/graph1.dot'\u001b[0m\u001b[0;34m)\u001b[0m\u001b[0;34m\u001b[0m\u001b[0;34m\u001b[0m\u001b[0m\n\u001b[0m",
      "\u001b[0;31mTypeError\u001b[0m: render() missing 1 required positional argument: 'format'"
     ]
    }
   ],
   "source": [
    "graph1 = graphviz.render(engine='dot', format='png', filepath='~/Desktop/graph1.dot')"
   ]
  },
  {
   "cell_type": "code",
   "execution_count": 36,
   "metadata": {},
   "outputs": [
    {
     "name": "stdout",
     "output_type": "stream",
     "text": [
      "digraph {\n",
      "\tnode [shape=circle]\n",
      "\tsubgraph cluster_1 {\n",
      "\t\tx0 [label=x0]\n",
      "\t\tx1 [label=x1]\n",
      "\t\tx2 [label=x2]\n",
      "\t\tx3 [label=x3]\n",
      "\t\tx4 [label=x4]\n",
      "\t}\n",
      "\tsubgraph cluster_2 {\n",
      "\t\ty0 [label=y0]\n",
      "\t\ty1 [label=y1]\n",
      "\t\ty2 [label=y2]\n",
      "\t\ty3 [label=y3]\n",
      "\t\ty4 [label=y4]\n",
      "\t}\n",
      "\tsubgraph cluster_3 {\n",
      "\t\tz0 [label=z0]\n",
      "\t\tz1 [label=z1]\n",
      "\t\tz2 [label=z2]\n",
      "\t\tz3 [label=z3]\n",
      "\t\tz4 [label=z4]\n",
      "\t}\n",
      "\tx0 -> y0\n",
      "\tx0 -> x1 [style=invis]\n",
      "\ty0 -> y1\n",
      "\tz0 -> z1 [style=invis]\n",
      "\tx0 -> z0\n",
      "\ty0 -> z1 [arrowhead=dot]\n",
      "\tx1 -> y1\n",
      "\tx1 -> x2 [style=invis]\n",
      "\ty1 -> y2\n",
      "\tz1 -> z2 [style=invis]\n",
      "\tx1 -> z1\n",
      "\ty1 -> z2 [arrowhead=dot]\n",
      "\tx2 -> y2\n",
      "\tx2 -> x3 [style=invis]\n",
      "\ty2 -> y3\n",
      "\tz2 -> z3 [style=invis]\n",
      "\tx2 -> z2\n",
      "\ty2 -> z3 [arrowhead=dot]\n",
      "\tx3 -> y3\n",
      "\tx3 -> x4 [style=invis]\n",
      "\ty3 -> y4\n",
      "\tz3 -> z4 [style=invis]\n",
      "\tx3 -> z3\n",
      "\ty3 -> z4 [arrowhead=dot]\n",
      "\tx4 -> y4\n",
      "\tx4 -> z4\n",
      "}\n"
     ]
    }
   ],
   "source": [
    "graph1 = graphviz.Digraph(node_attr = {'shape': 'circle'})\n",
    "n = 5\n",
    "\n",
    "with graph1.subgraph(name='cluster_1') as c:\n",
    "    for i in range(n):\n",
    "        c.node(f'x{i}', f'x{i}')\n",
    "\n",
    "with graph1.subgraph(name='cluster_2') as c:\n",
    "    for i in range(n):\n",
    "        c.node(f'y{i}', f'y{i}')\n",
    "\n",
    "with graph1.subgraph(name='cluster_3') as c:\n",
    "    for i in range(n):\n",
    "        c.node(f'z{i}', f'z{i}')\n",
    "\n",
    "for i in range(n):\n",
    "    graph1.edge(f'x{i}', f'y{i}')\n",
    "    if i < (n-1):\n",
    "        graph1.edge(f'x{i}', f'x{i+1}', None, {'style': 'invis'})\n",
    "        graph1.edge(f'y{i}', f'y{i+1}')\n",
    "        graph1.edge(f'z{i}', f'z{i+1}', None, {'style': 'invis'})\n",
    "    graph1.edge(f'x{i}', f'z{i}')\n",
    "    if i < (n-1):\n",
    "        graph1.edge(f'y{i}', f'z{i+1}', None, {'arrowhead': 'dot'})\n",
    "\n",
    "        \n",
    "print(graph1)"
   ]
  },
  {
   "cell_type": "code",
   "execution_count": 29,
   "metadata": {},
   "outputs": [
    {
     "name": "stdout",
     "output_type": "stream",
     "text": [
      "tensor([[0.1000, 0.1000, 0.1000, 0.2000, 0.1000, 0.2000, 0.1000, 0.0000]])\n",
      "tensor([[-7.6271, -7.6271, -7.6271, -0.6956, -7.6271, -0.6956, -7.6271,    -inf]])\n",
      "torch.Size([8, 8])\n",
      "tensor([[-6.6363e+01, -6.7363e+01, -6.8363e+01, -4.8587e-02, -7.1363e+01,\n",
      "         -3.0486e+00, -7.4363e+01,        -inf]])\n",
      "tensor([[1.5093e-29, 5.5525e-30, 2.0426e-30, 9.5257e-01, 1.0170e-31, 4.7426e-02,\n",
      "         5.0632e-33, 0.0000e+00]])\n"
     ]
    }
   ],
   "source": [
    "n = 8\n",
    "match = torch.tensor([0.1, 0.1, 0.1, 0.2, 0.1, 0.2, 0.1, 0.0]).unsqueeze(0)\n",
    "print(match)\n",
    "log_match = torch.log(match)\n",
    "log_match = torch.nn.functional.log_softmax(10.0*log_match,1)\n",
    "print(log_match)\n",
    "\n",
    "W_inhib = -1.0 * torch.ones((n, n))\n",
    "W_LR = torch.tril(W_inhib, diagonal = -1).t().detach()\n",
    "W_RL = torch.tril(W_inhib, diagonal = -1).detach()\n",
    "print(W_LR.shape)\n",
    "\n",
    "log_match2 = log_match + (match @ W_LR)\n",
    "log_match2 = torch.nn.functional.log_softmax(10.0*log_match2,1)\n",
    "print(log_match2)\n",
    "print(torch.exp(log_match2))"
   ]
  },
  {
   "cell_type": "code",
   "execution_count": null,
   "metadata": {},
   "outputs": [],
   "source": []
  }
 ],
 "metadata": {
  "kernelspec": {
   "display_name": "Python 3",
   "language": "python",
   "name": "python3"
  },
  "language_info": {
   "codemirror_mode": {
    "name": "ipython",
    "version": 3
   },
   "file_extension": ".py",
   "mimetype": "text/x-python",
   "name": "python",
   "nbconvert_exporter": "python",
   "pygments_lexer": "ipython3",
   "version": "3.7.4"
  }
 },
 "nbformat": 4,
 "nbformat_minor": 4
}
