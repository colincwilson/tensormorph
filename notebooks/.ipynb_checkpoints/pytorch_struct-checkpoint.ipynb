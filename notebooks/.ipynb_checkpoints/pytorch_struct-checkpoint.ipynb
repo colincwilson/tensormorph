{
 "cells": [
  {
   "cell_type": "code",
   "execution_count": 22,
   "metadata": {},
   "outputs": [
    {
     "name": "stdout",
     "output_type": "stream",
     "text": [
      "done\n"
     ]
    }
   ],
   "source": [
    "import numpy as np\n",
    "import torch\n",
    "import torch_struct\n",
    "from torch_struct import AlignmentCRF\n",
    "import matplotlib.pyplot as plt\n",
    "\n",
    "print('done')"
   ]
  },
  {
   "cell_type": "code",
   "execution_count": 21,
   "metadata": {},
   "outputs": [
    {
     "name": "stdout",
     "output_type": "stream",
     "text": [
      "tensor([3.2920, 2.8255, 2.3655], grad_fn=<SqueezeBackward1>)\n"
     ]
    },
    {
     "data": {
      "image/png": "[encoded data removed]",
      "text/plain": [
       "<Figure size 432x288 with 1 Axes>"
      ]
     },
     "metadata": {
      "needs_background": "light"
     },
     "output_type": "display_data"
    }
   ],
   "source": [
    "batch, N, M = 3, 4, 4 # 3, 15, 20\n",
    "def show_deps(tree):\n",
    "    plt.imshow(tree.detach())\n",
    "\n",
    "log_potentials = torch.rand(batch, N, M, 3)\n",
    "log_potentials[:,:,:,0] = -1.0\n",
    "log_potentials[:,:,:,2] = -1.0\n",
    "dist = torch_struct.AlignmentCRF(log_potentials) #, local=True, max_gap=1\n",
    "show_deps(dist.argmax[0])\n",
    "\n",
    "print(dist.partition)"
   ]
  },
  {
   "cell_type": "code",
   "execution_count": 38,
   "metadata": {},
   "outputs": [
    {
     "name": "stdout",
     "output_type": "stream",
     "text": [
      "(64, 14, 14, 3)\n",
      "-10.0\n",
      "-30.75607 -54.598984 -2.885073\n"
     ]
    },
    {
     "data": {
      "image/png": "[encoded data removed]",
      "text/plain": [
       "<Figure size 432x288 with 1 Axes>"
      ]
     },
     "metadata": {
      "needs_background": "light"
     },
     "output_type": "display_data"
    }
   ],
   "source": [
    "# Dump from tensormorph for debugging\n",
    "log_potentials = np.load('/Users/colin/Desktop/log_potentials.npy')\n",
    "print(log_potentials.shape)\n",
    "plt.imshow(log_potentials[0,:,:,1], origin='lower')\n",
    "print(np.mean(log_potentials[0,:,:,0]))\n",
    "print(np.mean(log_potentials[0,:,:,1]),\n",
    "      np.min(log_potentials[0,:,:,1]),\n",
    "      np.max(log_potentials[0,:,:,1]))"
   ]
  },
  {
   "cell_type": "code",
   "execution_count": 39,
   "metadata": {},
   "outputs": [
    {
     "data": {
      "image/png": "[encoded data removed]",
      "text/plain": [
       "<Figure size 432x288 with 1 Axes>"
      ]
     },
     "metadata": {
      "needs_background": "light"
     },
     "output_type": "display_data"
    }
   ],
   "source": [
    "log_potentials_ = torch.FloatTensor(log_potentials)\n",
    "dist = torch_struct.AlignmentCRF(log_potentials_[:1])\n",
    "show_deps(dist.argmax[0])"
   ]
  },
  {
   "cell_type": "code",
   "execution_count": null,
   "metadata": {},
   "outputs": [],
   "source": []
  }
 ],
 "metadata": {
  "kernelspec": {
   "display_name": "Python 3",
   "language": "python",
   "name": "python3"
  },
  "language_info": {
   "codemirror_mode": {
    "name": "ipython",
    "version": 3
   },
   "file_extension": ".py",
   "mimetype": "text/x-python",
   "name": "python",
   "nbconvert_exporter": "python",
   "pygments_lexer": "ipython3",
   "version": "3.7.4"
  }
 },
 "nbformat": 4,
 "nbformat_minor": 4
}
