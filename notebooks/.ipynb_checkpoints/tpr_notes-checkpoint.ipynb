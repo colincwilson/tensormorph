{
 "cells": [
  {
   "cell_type": "markdown",
   "metadata": {},
   "source": [
    "### Notes on tensor-product representations and transformations"
   ]
  },
  {
   "cell_type": "code",
   "execution_count": 8,
   "metadata": {},
   "outputs": [],
   "source": [
    "import sys, types\n",
    "import numpy as np\n",
    "import torch\n",
    "sys.path.append('./../tensormorph')"
   ]
  },
  {
   "cell_type": "markdown",
   "metadata": {},
   "source": [
    "#### **Localist/distributed conversion**\n",
    "\n",
    "Given TPR $\\mathbf{X}$ [nbatch $\\times$ dfill $\\times$ drole] with distributed roles, and matrix $\\mathbf{U}$ [drole $\\times$ drole] with unbinding vectors in columns, convert to localist TPR $\\mathbf{X}_{loc}$ in parallel -- that is, each batch member of $\\mathbf{X}$ is converted from the form $\\sum_i \\mathbf{x}_i \\otimes \\mathbf{r}_i$ to the form $\\sum_i \\mathbf{x}_i \\otimes \\mathbf{e}_i$ where $\\mathbf{e}_i$ is the $i$th basis vector.\n",
    "\n",
    "$$\\mathbf{X}_{loc} = \\mathbf{X} \\mathbf{U}$$\n",
    "\n",
    "The inverse transformation, from localist back to distributed, is:\n",
    "\n",
    "$$\\mathbf{X} = \\mathbf{X}_{loc} \\mathbf{R'}$$"
   ]
  },
  {
   "cell_type": "code",
   "execution_count": 35,
   "metadata": {},
   "outputs": [
    {
     "name": "stdout",
     "output_type": "stream",
     "text": [
      "[[[ 1.  0. -0. -0. -0.  0.  0. -0. -0.  0.]\n",
      "  [-0.  0. -0.  1.  0.  0.  0. -0.  0.  0.]\n",
      "  [-0.  1.  0. -0.  0. -0.  0. -0.  0. -0.]\n",
      "  [ 0. -0.  0. -0.  1. -0. -0. -0.  0. -0.]\n",
      "  [ 0.  0.  1. -0.  0.  0.  0.  0. -0.  0.]]]\n",
      "tensor(1.0747e-13)\n"
     ]
    }
   ],
   "source": [
    "import randVecs\n",
    "dfill, drole = 5, 10\n",
    "#F_ = randVecs.randvecs(dfill, sphere=True)\n",
    "F_ = np.eye(dfill)\n",
    "R_ = randVecs.randvecs(drole, sphere=True)\n",
    "F = torch.FloatTensor(F_)\n",
    "R = torch.FloatTensor(R_)\n",
    "U = torch.FloatTensor(np.linalg.inv(R_).T)\n",
    "\n",
    "filler_idx = [0, 2, 4, 1, 3]\n",
    "fillers = [F[:,idx].unsqueeze(0) for idx in filler_idx]\n",
    "roles = [R[:,i].unsqueeze(0) for i in range(len(filler_idx))]\n",
    "X = torch.zeros((1, dfill, drole))\n",
    "for i in range(len(filler_idx)):\n",
    "    X = X + torch.bmm(fillers[i].unsqueeze(2),\n",
    "                      roles[i].unsqueeze(1))\n",
    "Xloc = X @ U\n",
    "Xloc_ = np.round(Xloc.numpy(), 2)\n",
    "print(Xloc_)\n",
    "\n",
    "Xrec = Xloc @ R.t()\n",
    "print(torch.max((X-Xrec)**2.0))"
   ]
  },
  {
   "cell_type": "markdown",
   "metadata": {},
   "source": [
    "#### **Batch array shift**\n",
    "\n",
    "Shift elements of each array in a batch forward (lag/delay) or backward (lead/advance) by one position, padding with zeros. Assumes localist representation of position."
   ]
  },
  {
   "cell_type": "code",
   "execution_count": 49,
   "metadata": {},
   "outputs": [
    {
     "name": "stdout",
     "output_type": "stream",
     "text": [
      "tensor([[0., 1., 0., 0., 0., 0., 0., 0., 0., 0.],\n",
      "        [0., 0., 1., 0., 0., 0., 0., 0., 0., 0.],\n",
      "        [0., 0., 0., 1., 0., 0., 0., 0., 0., 0.],\n",
      "        [0., 0., 0., 0., 1., 0., 0., 0., 0., 0.],\n",
      "        [0., 0., 0., 0., 0., 1., 0., 0., 0., 0.],\n",
      "        [0., 0., 0., 0., 0., 0., 1., 0., 0., 0.],\n",
      "        [0., 0., 0., 0., 0., 0., 0., 1., 0., 0.],\n",
      "        [0., 0., 0., 0., 0., 0., 0., 0., 1., 0.],\n",
      "        [0., 0., 0., 0., 0., 0., 0., 0., 0., 1.],\n",
      "        [0., 0., 0., 0., 0., 0., 0., 0., 0., 0.]])\n",
      "tensor([ 0.5318, -0.4355, -2.3029, -1.4555, -1.9131,  1.2790, -0.2150,  0.1050,\n",
      "         1.6445,  0.4503])\n",
      "tensor([ 0.0000,  0.5318, -0.4355, -2.3029, -1.4555, -1.9131,  1.2790, -0.2150,\n",
      "         0.1050,  1.6445])\n",
      "tensor([-0.4355, -2.3029, -1.4555, -1.9131,  1.2790, -0.2150,  0.1050,  1.6445,\n",
      "         0.4503,  0.0000])\n"
     ]
    }
   ],
   "source": [
    "drole = 10\n",
    "Slag = torch.FloatTensor(np.eye(N=drole, k=+1))\n",
    "Slead = torch.FloatTensor(np.eye(N=drole, k=-1))\n",
    "print(Slead)\n",
    "X = torch.randn((1, 2, drole))\n",
    "print(X[0][1])\n",
    "Xlag = X @ Slag\n",
    "print(Xlag[0][1])\n",
    "Xlead = X @ Slead\n",
    "print(Xlead[0][1])"
   ]
  },
  {
   "cell_type": "code",
   "execution_count": null,
   "metadata": {},
   "outputs": [],
   "source": []
  }
 ],
 "metadata": {
  "kernelspec": {
   "display_name": "Python 3",
   "language": "python",
   "name": "python3"
  },
  "language_info": {
   "codemirror_mode": {
    "name": "ipython",
    "version": 3
   },
   "file_extension": ".py",
   "mimetype": "text/x-python",
   "name": "python",
   "nbconvert_exporter": "python",
   "pygments_lexer": "ipython3",
   "version": "3.7.7"
  }
 },
 "nbformat": 4,
 "nbformat_minor": 4
}
