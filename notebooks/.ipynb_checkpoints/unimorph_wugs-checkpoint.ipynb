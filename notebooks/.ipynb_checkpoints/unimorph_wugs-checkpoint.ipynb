{
 "cells": [
  {
   "cell_type": "code",
   "execution_count": 11,
   "id": "b5270b9d-2c3f-4f30-a373-73ff13679d5f",
   "metadata": {},
   "outputs": [],
   "source": [
    "import re, sys\n",
    "import pandas as pd\n",
    "import edlib"
   ]
  },
  {
   "cell_type": "code",
   "execution_count": 14,
   "id": "3b9d8992-6ee6-4daa-b321-fb0ab57b39ef",
   "metadata": {},
   "outputs": [
    {
     "name": "stdout",
     "output_type": "stream",
     "text": [
      "                      lemma                  wordform   morphosyn  \\\n",
      "2                     h ɪ t                     h ɪ t  V;PST;2;SG   \n",
      "8                 p l ʌ ŋ k               p l ʌ ŋ k t  V;PST;3;SG   \n",
      "9                      k ɔː                    k ɔː d  V.PTCP;PST   \n",
      "16                 k ʊ ʃ n̩                k ʊ ʃ n̩ d  V;PST;1;SG   \n",
      "17                 w ɔː f t              w ɔː f t ɪ d  V;PST;3;SG   \n",
      "...                     ...                       ...         ...   \n",
      "41645  r ə s ɪ p r ʊ k eɪ t  r ə s ɪ p r ʊ k eɪ t ɪ d  V;PST;3;SG   \n",
      "41646               d ɛ n t               d ɛ n t ɪ d  V.PTCP;PST   \n",
      "41650   k ɔ m p r ɪ h ɛ n d   k ɔ m p r ɪ h ɛ n d ɪ d  V;PST;3;SG   \n",
      "41651              d ʒ ɛ lˠ                d ʒ ɛ lˠ d  V;PST;1;SG   \n",
      "41656            ə s p aɪ ə              ə s p aɪ ə d  V;PST;2;SG   \n",
      "\n",
      "        lemma_orth wordform_orth  \n",
      "2              hit           hit  \n",
      "8            plunk       plunked  \n",
      "9              caw         cawed  \n",
      "16         cushion     cushioned  \n",
      "17            waft        wafted  \n",
      "...            ...           ...  \n",
      "41645  reciprocate  reciprocated  \n",
      "41646         dent        dented  \n",
      "41650   comprehend  comprehended  \n",
      "41651          gel        gelled  \n",
      "41656       aspire       aspired  \n",
      "\n",
      "[16732 rows x 5 columns]\n",
      "     lemma wordform   morphosyn  avg_score\n",
      "0    ɡɑːst  ɡɑːstɪd  V;PST;1;SG      6.500\n",
      "1    ɡɑːst    ɡɑːst  V;PST;1;SG      1.720\n",
      "2    krɛnd  krɛndɪd  V;PST;1;SG      5.405\n",
      "3    krɛnd    krɛnt  V;PST;1;SG      6.690\n",
      "4     snɛl    snɛld  V;PST;1;SG      6.125\n",
      "..     ...      ...         ...        ...\n",
      "155   skɛl    skɛlt  V;PST;1;SG      1.540\n",
      "156  dʒɪŋk   dʒɪŋkt  V;PST;1;SG      4.130\n",
      "157  dʒɪŋk    dʒʌŋk  V;PST;1;SG      0.000\n",
      "158  dʒɛnd  dʒɛndɪd  V;PST;1;SG      5.080\n",
      "159  dʒɛnd    dʒɛnt  V;PST;1;SG      5.920\n",
      "\n",
      "[160 rows x 4 columns]\n"
     ]
    }
   ],
   "source": [
    "ddir = '~/Languages/UniMorph/sigmorphon2021/2021Task0/part2/'\n",
    "lex = pd.read_table(ddir + 'eng.train',\n",
    "    names = ['lemma', 'wordform', 'morphosyn', 'lemma_orth', 'wordform_orth'])\n",
    "lex = lex[(lex['morphosyn'].str.contains('PST'))]\n",
    "\n",
    "wug = pd.read_table(ddir + 'eng.judgements.dev',\n",
    "    names = ['lemma', 'wordform', 'morphosyn', 'avg_score'])\n",
    "print(lex)\n",
    "print(wug)"
   ]
  },
  {
   "cell_type": "code",
   "execution_count": null,
   "id": "1ab418ec-a334-405a-9e8f-f86dc63e8463",
   "metadata": {},
   "outputs": [],
   "source": []
  }
 ],
 "metadata": {
  "kernelspec": {
   "display_name": "Python 3",
   "language": "python",
   "name": "python3"
  },
  "language_info": {
   "codemirror_mode": {
    "name": "ipython",
    "version": 3
   },
   "file_extension": ".py",
   "mimetype": "text/x-python",
   "name": "python",
   "nbconvert_exporter": "python",
   "pygments_lexer": "ipython3",
   "version": "3.7.4"
  }
 },
 "nbformat": 4,
 "nbformat_minor": 5
}
