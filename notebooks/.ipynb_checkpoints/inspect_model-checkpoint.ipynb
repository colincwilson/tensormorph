{
 "cells": [
  {
   "cell_type": "code",
   "execution_count": 1,
   "id": "communist-frederick",
   "metadata": {},
   "outputs": [
    {
     "name": "stdout",
     "output_type": "stream",
     "text": [
      "imported\n"
     ]
    }
   ],
   "source": [
    "import argparse, os, re, sys\n",
    "from pathlib import Path\n",
    "import numpy as np\n",
    "import matplotlib.pyplot as plt\n",
    "import pandas as pd\n",
    "import torch\n",
    "\n",
    "# Simulate running model as with 00train_model.py\n",
    "os.chdir(Path.home() / 'Code/Python/tensormorph')\n",
    "sys.path.append('../phon')\n",
    "sys.path.append('./tensormorph')\n",
    "from tensormorph import *\n",
    "\n",
    "# Plotting config\n",
    "plt.rcParams['image.cmap'] = 'viridis'\n",
    "\n",
    "# Convert tensor to numpy with rounding\n",
    "def t2np(x, digits=2):\n",
    "    y = x.data.numpy()\n",
    "    y = np.round(y, digits)\n",
    "    return y\n",
    "\n",
    "print('imported')"
   ]
  },
  {
   "cell_type": "code",
   "execution_count": 6,
   "id": "royal-hypothetical",
   "metadata": {},
   "outputs": [],
   "source": [
    "%%capture\n",
    "# Initialize environment\n",
    "# xxx todo: read args from pkl\n",
    "args_ = {#'data_dir': '/Users/colin/Projects/AMP2021/english_verbs/data',\n",
    "         #'data': 'english_verb_all1',\n",
    "        #'data_dir': '/Users/colin/Code/Python/tensormorph_data',\n",
    "        'data': 'chamorro/chamorro_um',\n",
    "         'features': 'hayes_features.csv',\n",
    "         #'morphosyn': 'unimorph',\n",
    "         'morphosyn': None,\n",
    "         'dmorphophon': 0,\n",
    "         'reduplication': False,\n",
    "         'config': 'model_config.yaml'}\n",
    "args = argparse.Namespace(**args_)\n",
    "config = tensormorph.init(args)"
   ]
  },
  {
   "cell_type": "code",
   "execution_count": 7,
   "id": "6f28831d-211d-4f51-8391-6b40f5080ad4",
   "metadata": {},
   "outputs": [
    {
     "data": {
      "text/plain": [
       "<matplotlib.image.AxesImage at 0x13c711fa0>"
      ]
     },
     "execution_count": 7,
     "metadata": {},
     "output_type": "execute_result"
    },
    {
     "data": {
      "image/png": "[encoded data removed]",
      "text/plain": [
       "<Figure size 432x288 with 1 Axes>"
      ]
     },
     "metadata": {
      "needs_background": "light"
     },
     "output_type": "display_data"
    }
   ],
   "source": [
    "plt.imshow(config.F)"
   ]
  },
  {
   "cell_type": "code",
   "execution_count": 6,
   "id": "primary-ratio",
   "metadata": {},
   "outputs": [
    {
     "data": {
      "text/plain": [
       "<All keys matched successfully>"
      ]
     },
     "execution_count": 6,
     "metadata": {},
     "output_type": "execute_result"
    }
   ],
   "source": [
    "# Load model\n",
    "# (if receive error, probably config option dmorphophon is set incorrectly)\n",
    "#fmodel = Path.home() / 'Desktop/tmorph_output' / 'model.pt'\n",
    "#fmodel = '/Users/colin/Desktop/tmorph_output/model_verb_best.pt'\n",
    "#fmodel = '/Users/colin/Desktop/tmorph_output/model_noun_best.pt'\n",
    "#fmodel = '/Users/colin/Desktop/tmorph_output/model_noun_best3.pt'\n",
    "#fmodel = '/home/cwilso23/Desktop/tmorph_output/model.pt'\n",
    "fmodel = Path.home() / 'Projects/AMP2021/english_verbs/fit/model_reg1.pt'\n",
    "\n",
    "grammar = config.grammar\n",
    "grammar.load_state_dict(torch.load(fmodel))\n",
    "#grammar.eval()"
   ]
  },
  {
   "cell_type": "code",
   "execution_count": 7,
   "id": "0ccb99f2-4f8d-4d22-a733-69f8f2ba04fa",
   "metadata": {},
   "outputs": [
    {
     "name": "stdout",
     "output_type": "stream",
     "text": [
      "('⋊ b ɛ ɹ s t • ⋉', '⟨⋊⟩ ⟨t⟩ ə ⟨d⟩ • ', '⋊ b ɛ ɹ s t t d ')\n",
      "Mslot2dim_attn\n",
      "           slot0\n",
      "number  0.216167\n",
      "person  0.296966\n",
      "pos     0.671414\n",
      "tense   0.762236\n"
     ]
    }
   ],
   "source": [
    "# Trace model on split\n",
    "split = 'test'\n",
    "dat_embed = getattr(config, f'dat_{split}')\n",
    "batch = data_util.morph_batcher(dat_embed)\n",
    "config.recorder = recorder.Recorder()\n",
    "pred = config.grammar(batch)"
   ]
  },
  {
   "cell_type": "code",
   "execution_count": 18,
   "id": "c0a8807c-2f4c-4900-b705-610352c38205",
   "metadata": {},
   "outputs": [
    {
     "name": "stdout",
     "output_type": "stream",
     "text": [
      "stem_pivot [0.01 0.01 0.02 0.   0.01 0.95 0.   0.   0.   0.   0.   0.   0.   0.\n",
      " 0.   0.   0.   0.   0.   0.   0.   0.  ]\n",
      "affix_copy [0.01 0.01 0.66 0.05 0.45 0.51 0.5  0.5  0.5  0.5  0.   0.   0.   0.\n",
      " 0.   0.   0.   0.   0.   0.   0.   0.  ]\n",
      "affix_pivot [0.02 0.02 0.12 0.37 0.01 0.01 0.02 0.03 0.12 0.27 1.   1.   1.   1.\n",
      " 1.   1.   1.   1.   1.   1.   1.   1.  ]\n",
      "affix_str ⟨⋊⟩ ⟨t⟩ ə ⟨d⟩ • \n",
      "\n",
      "('ə', -203.3)\n"
     ]
    },
    {
     "data": {
      "image/png": "[encoded data removed]",
      "text/plain": [
       "<Figure size 432x288 with 1 Axes>"
      ]
     },
     "metadata": {
      "needs_background": "light"
     },
     "output_type": "display_data"
    }
   ],
   "source": [
    "# Visualize stem, affix, output for batch member in split\n",
    "idx = 0\n",
    "Stem = config.grammar.cogrammar.stem\n",
    "stem_pivot = t2np(Stem.pivot)[idx]\n",
    "print(f'stem_pivot {stem_pivot}')\n",
    "\n",
    "Affix = config.grammar.cogrammar.affix\n",
    "affix_str = Affix._str()[idx]\n",
    "affix_form = t2np(Affix.form[idx]) # t2np(torch.tanh(Affix.form[idx]))\n",
    "affix_logprob = t2np(config.decoder(Affix.form))[idx]\n",
    "affix_copy = t2np(Affix.copy)[idx]\n",
    "affix_pivot = t2np(Affix.pivot)[idx]\n",
    "\n",
    "print(f'affix_copy {affix_copy}')\n",
    "print(f'affix_pivot {affix_pivot}')\n",
    "print(f'affix_str {affix_str}')\n",
    "print()\n",
    "\n",
    "plt.imshow(affix_form)\n",
    "#plt.imshow(affix_logprob)\n",
    "\n",
    "posn = 2\n",
    "affix_sym_logprob = list(zip(config.syms, affix_logprob[:,posn]))\n",
    "affix_sym_logprob = filter(lambda x: x[0] not in ['ϵ', '⋊', '⋉'], affix_sym_logprob)\n",
    "affix_sym_logprob = sorted(affix_sym_logprob, key = lambda x: -x[1])\n",
    "#affix_sym_logprob = affix_sym_logprob.sort(lambda x: x[1] if x[0] not in  else -np.inf)\n",
    "print(affix_sym_logprob[0])"
   ]
  },
  {
   "cell_type": "code",
   "execution_count": 28,
   "id": "49266e35-4d8f-4acd-a3d4-a35468b3ed60",
   "metadata": {},
   "outputs": [],
   "source": [
    "params = grammar.state_dict()\n",
    "phon_params = {k:v for (k,v) in params.items() if re.search('phonology', k)}\n",
    "base_params = {k:v for (k,v) in params.items() if k not in phon_params}\n",
    "\n",
    "import torch.optim as optim\n",
    "optimizer = optim.Adagrad([{'params': base_params.values()},\n",
    "                           {'params': phon_params.values(), 'lr':1.0e-1}], lr=1.0e-2)"
   ]
  },
  {
   "cell_type": "code",
   "execution_count": 5,
   "id": "military-sleep",
   "metadata": {},
   "outputs": [
    {
     "name": "stdout",
     "output_type": "stream",
     "text": [
      "1 1\n"
     ]
    }
   ],
   "source": [
    "# Morphosyn tags in train and test data\n",
    "train_tags = set([ex['morphosyn_str'] for ex in config.dat_train])\n",
    "test_tags = set([ex['morphosyn_str'] for ex in config.dat_test])\n",
    "print(len(train_tags), len(test_tags))"
   ]
  },
  {
   "cell_type": "code",
   "execution_count": 8,
   "id": "adaptive-connection",
   "metadata": {},
   "outputs": [
    {
     "name": "stdout",
     "output_type": "stream",
     "text": [
      "tensor([0.0776])\n",
      "tensor([1.6571])\n",
      "tensor([0.7596])\n"
     ]
    }
   ],
   "source": [
    "print(grammar.morph_attender.tau.data)\n",
    "print(grammar.posn_attender.tau.data)\n",
    "print(grammar.decoder.tau.data)"
   ]
  },
  {
   "cell_type": "code",
   "execution_count": 36,
   "id": "positive-guidance",
   "metadata": {},
   "outputs": [
    {
     "name": "stdout",
     "output_type": "stream",
     "text": [
      "('⋊ t* a t ɨ m ə • ⋉', '⟨⋊⟩ ⟨⋉⟩', '⋊ t* a t ɨ m ə ⋉')\n",
      "Mslot2dim_attn\n",
      "                               slot0\n",
      "language-specific features  0.759694\n",
      "⋊ k a m • a ⋉\n",
      "⟨⋊⟩ ⟨n⟩ n ɨ tʰ a • \n",
      "⋊ k a m n ɨ n t a ⋉\n"
     ]
    },
    {
     "data": {
      "text/plain": [
       "<matplotlib.image.AxesImage at 0x7fe9cbb52b90>"
      ]
     },
     "execution_count": 36,
     "metadata": {},
     "output_type": "execute_result"
    },
    {
     "data": {
      "image/png": "[encoded data removed]",
      "text/plain": [
       "<Figure size 432x288 with 1 Axes>"
      ]
     },
     "metadata": {
      "needs_background": "light"
     },
     "output_type": "display_data"
    }
   ],
   "source": [
    "# Trace processing for specified data split\n",
    "split = 'test'\n",
    "config.recorder = recorder.Recorder()\n",
    "dat_embed = getattr(config, f'dat_{split}')\n",
    "batch = data_util.morph_batcher(dat_embed)\n",
    "pred = config.grammar(batch)\n",
    "\n",
    "# Stem and affix traces\n",
    "stem = config.grammar.cogrammar.stem\n",
    "stem_form = torch.tanh(stem.form)\n",
    "stem_str = stem._str()\n",
    "affix = config.grammar.cogrammar.affix\n",
    "affix_form = torch.tanh(affix.form)\n",
    "affix_str = affix._str()\n",
    "output = config.grammar.cogrammar.output\n",
    "output_form = torch.tanh(output.form)\n",
    "output_str = output._str()\n",
    "\n",
    "batch_id = 4\n",
    "print(stem_str[batch_id])\n",
    "print(affix_str[batch_id])\n",
    "print(output_str[batch_id])\n",
    "#print(stem.pivot[batch_id])\n",
    "#print(affix.pivot[batch_id])\n",
    "#print(affix_form[batch_id][0])\n",
    "plt.imshow(affix_form[batch_id].data.numpy())"
   ]
  },
  {
   "cell_type": "code",
   "execution_count": 40,
   "id": "charged-satellite",
   "metadata": {},
   "outputs": [
    {
     "name": "stdout",
     "output_type": "stream",
     "text": [
      "tensor([[ 0.0268, -0.3434,  0.2209,  0.2480,  0.0454,  0.0847,  0.1221,  0.2094,\n",
      "          0.0618, -0.5308,  0.1950,  0.1726,  0.1838,  0.1388,  0.1843,  0.1434,\n",
      "          0.2480,  0.1452,  0.2721,  0.2705,  0.1321,  0.0131, -0.1658,  0.1461,\n",
      "          0.1345,  0.1242, -0.1729,  0.0701,  0.4245,  0.2029]],\n",
      "       grad_fn=<AddmmBackward>)\n",
      "Phonology(\n",
      "  (matcher): Matcher3(\n",
      "    (matcher_prev): LiteralMatcher(\n",
      "      (context2W): Linear(in_features=1, out_features=720, bias=True)\n",
      "    )\n",
      "    (matcher_cntr): LiteralMatcher(\n",
      "      (context2W): Linear(in_features=1, out_features=720, bias=True)\n",
      "    )\n",
      "    (matcher_next): LiteralMatcher(\n",
      "      (context2W): Linear(in_features=1, out_features=720, bias=True)\n",
      "    )\n",
      "  )\n",
      "  (mod): Linear(in_features=1, out_features=180, bias=True)\n",
      "  (w_chng): Linear(in_features=1, out_features=720, bias=True)\n",
      "  (w_deln): Linear(in_features=1, out_features=30, bias=True)\n",
      "  (w_epen): Linear(in_features=1, out_features=120, bias=True)\n",
      "  (v_chng): Linear(in_features=1, out_features=720, bias=True)\n",
      "  (v_epen): Linear(in_features=1, out_features=2880, bias=True)\n",
      "  (no_chng): Linear(in_features=1, out_features=24, bias=True)\n",
      "  (no_deln): Linear(in_features=1, out_features=1, bias=True)\n",
      "  (no_epen): Linear(in_features=1, out_features=1, bias=True)\n",
      ")\n"
     ]
    }
   ],
   "source": [
    "# Learned phonology\n",
    "phon = config.grammar.cogrammar.phonology\n",
    "context0 = torch.zeros(1, 1)\n",
    "w_deln = phon.w_deln(context0)\n",
    "print(w_deln)\n",
    "print(phon)"
   ]
  },
  {
   "cell_type": "code",
   "execution_count": 10,
   "id": "interested-headset",
   "metadata": {},
   "outputs": [
    {
     "ename": "AttributeError",
     "evalue": "'Affixer' object has no attribute 'affix_context'",
     "output_type": "error",
     "traceback": [
      "\u001b[0;31m---------------------------------------------------------------------------\u001b[0m",
      "\u001b[0;31mAttributeError\u001b[0m                            Traceback (most recent call last)",
      "\u001b[0;32m<ipython-input-10-b2544f23eb5f>\u001b[0m in \u001b[0;36m<module>\u001b[0;34m\u001b[0m\n\u001b[1;32m      2\u001b[0m \u001b[0maffixer\u001b[0m \u001b[0;34m=\u001b[0m \u001b[0mgrammar\u001b[0m\u001b[0;34m.\u001b[0m\u001b[0mcogrammar\u001b[0m\u001b[0;34m.\u001b[0m\u001b[0mcogrammar\u001b[0m\u001b[0;34m.\u001b[0m\u001b[0maffixer\u001b[0m\u001b[0;34m\u001b[0m\u001b[0;34m\u001b[0m\u001b[0m\n\u001b[1;32m      3\u001b[0m \u001b[0mpivoter\u001b[0m \u001b[0;34m=\u001b[0m \u001b[0maffixer\u001b[0m\u001b[0;34m.\u001b[0m\u001b[0mpivoter\u001b[0m\u001b[0;34m\u001b[0m\u001b[0;34m\u001b[0m\u001b[0m\n\u001b[0;32m----> 4\u001b[0;31m \u001b[0maffix_context\u001b[0m \u001b[0;34m=\u001b[0m \u001b[0maffixer\u001b[0m\u001b[0;34m.\u001b[0m\u001b[0maffix_context\u001b[0m\u001b[0;34m\u001b[0m\u001b[0;34m\u001b[0m\u001b[0m\n\u001b[0m\u001b[1;32m      5\u001b[0m \u001b[0maffix_context_len\u001b[0m \u001b[0;34m=\u001b[0m \u001b[0mtorch\u001b[0m\u001b[0;34m.\u001b[0m\u001b[0mnorm\u001b[0m\u001b[0;34m(\u001b[0m\u001b[0maffix_context\u001b[0m\u001b[0;34m,\u001b[0m \u001b[0mp\u001b[0m\u001b[0;34m=\u001b[0m\u001b[0;36m2\u001b[0m\u001b[0;34m,\u001b[0m \u001b[0mdim\u001b[0m\u001b[0;34m=\u001b[0m\u001b[0;34m-\u001b[0m\u001b[0;36m1\u001b[0m\u001b[0;34m)\u001b[0m\u001b[0;34m\u001b[0m\u001b[0;34m\u001b[0m\u001b[0m\n\u001b[1;32m      6\u001b[0m \u001b[0maffix_Wpivot\u001b[0m \u001b[0;34m=\u001b[0m \u001b[0maffixer\u001b[0m\u001b[0;34m.\u001b[0m\u001b[0maffix_Wpivot\u001b[0m \u001b[0;34m+\u001b[0m \u001b[0maffixer\u001b[0m\u001b[0;34m.\u001b[0m\u001b[0maffix_Wpivot0\u001b[0m\u001b[0;34m\u001b[0m\u001b[0;34m\u001b[0m\u001b[0m\n",
      "\u001b[0;32m~/anaconda3/lib/python3.7/site-packages/torch/nn/modules/module.py\u001b[0m in \u001b[0;36m__getattr__\u001b[0;34m(self, name)\u001b[0m\n\u001b[1;32m    946\u001b[0m                 \u001b[0;32mreturn\u001b[0m \u001b[0mmodules\u001b[0m\u001b[0;34m[\u001b[0m\u001b[0mname\u001b[0m\u001b[0;34m]\u001b[0m\u001b[0;34m\u001b[0m\u001b[0;34m\u001b[0m\u001b[0m\n\u001b[1;32m    947\u001b[0m         raise AttributeError(\"'{}' object has no attribute '{}'\".format(\n\u001b[0;32m--> 948\u001b[0;31m             type(self).__name__, name))\n\u001b[0m\u001b[1;32m    949\u001b[0m \u001b[0;34m\u001b[0m\u001b[0m\n\u001b[1;32m    950\u001b[0m     \u001b[0;32mdef\u001b[0m \u001b[0m__setattr__\u001b[0m\u001b[0;34m(\u001b[0m\u001b[0mself\u001b[0m\u001b[0;34m,\u001b[0m \u001b[0mname\u001b[0m\u001b[0;34m:\u001b[0m \u001b[0mstr\u001b[0m\u001b[0;34m,\u001b[0m \u001b[0mvalue\u001b[0m\u001b[0;34m:\u001b[0m \u001b[0mUnion\u001b[0m\u001b[0;34m[\u001b[0m\u001b[0mTensor\u001b[0m\u001b[0;34m,\u001b[0m \u001b[0;34m'Module'\u001b[0m\u001b[0;34m]\u001b[0m\u001b[0;34m)\u001b[0m \u001b[0;34m->\u001b[0m \u001b[0;32mNone\u001b[0m\u001b[0;34m:\u001b[0m\u001b[0;34m\u001b[0m\u001b[0;34m\u001b[0m\u001b[0m\n",
      "\u001b[0;31mAttributeError\u001b[0m: 'Affixer' object has no attribute 'affix_context'"
     ]
    }
   ],
   "source": [
    "# Affixes\n",
    "affixer = grammar.cogrammar.cogrammar.affixer\n",
    "pivoter = affixer.pivoter\n",
    "affix_context = affixer.affix_context\n",
    "affix_context_len = torch.norm(affix_context, p=2, dim=-1)\n",
    "affix_Wpivot = affixer.affix_Wpivot + affixer.affix_Wpivot0\n",
    "print(np.round(affix_Wpivot[1].data.numpy(), 2))\n",
    "#plt.imshow(affix_Wpivot.data)\n",
    "print(affix_context_len)\n",
    "print(np.round(affix_context[1].data.numpy(), 2))\n",
    "plt.imshow(affix_context.data)"
   ]
  },
  {
   "cell_type": "code",
   "execution_count": 44,
   "id": "marine-collaboration",
   "metadata": {},
   "outputs": [
    {
     "data": {
      "image/png": "[encoded data removed]",
      "text/plain": [
       "<Figure size 432x288 with 1 Axes>"
      ]
     },
     "metadata": {
      "needs_background": "light"
     },
     "output_type": "display_data"
    },
    {
     "name": "stdout",
     "output_type": "stream",
     "text": [
      "tensor([[0.2108, 0.2780, 0.9922],\n",
      "        [0.6976, 0.9847, 0.7576],\n",
      "        [0.9887, 0.0322, 0.2735],\n",
      "        [0.9851, 0.9940, 0.5832]])\n"
     ]
    },
    {
     "data": {
      "text/plain": [
       "<matplotlib.image.AxesImage at 0x7fe0074f4dd0>"
      ]
     },
     "execution_count": 44,
     "metadata": {},
     "output_type": "execute_result"
    },
    {
     "data": {
      "image/png": "[encoded data removed]",
      "text/plain": [
       "<Figure size 432x288 with 1 Axes>"
      ]
     },
     "metadata": {
      "needs_background": "light"
     },
     "output_type": "display_data"
    }
   ],
   "source": [
    "Mdim2units = config.morphosyn_embedder.Mdim2units\n",
    "plt.imshow(Mdim2units.data)\n",
    "plt.show()\n",
    "\n",
    "Mslot2dim_attn = grammar.cogrammar.Mslot2dim_attn\n",
    "print(torch.sigmoid(Mslot2dim_attn).data)\n",
    "plt.imshow(Mslot2dim_attn.data)"
   ]
  },
  {
   "cell_type": "code",
   "execution_count": 45,
   "id": "occupied-partition",
   "metadata": {},
   "outputs": [
    {
     "name": "stdout",
     "output_type": "stream",
     "text": [
      "tensor([ 0.0318, -0.8099, -0.1776,  0.1390, -0.8765,  0.2778, -0.0192, -0.3023,\n",
      "        -0.1107,  0.6539,  0.0000,  0.0000,  0.0000,  0.0000,  0.0000,  0.0000,\n",
      "         0.0000,  0.0000,  0.0000,  0.0000,  0.0000,  0.0000])\n",
      "tensor([0.9992, 0.9985, 0.9985, 0.9956, 0.9951, 0.9739, 0.9106, 0.9469, 0.9421,\n",
      "        0.5391], grad_fn=<SliceBackward>)\n",
      "tensor([8.4460e-05, 1.0995e-04, 6.5580e-04, 6.0320e-03, 4.0268e-02, 6.5765e-02,\n",
      "        6.6981e-02, 2.1168e-02, 1.2967e-01, 6.6927e-01],\n",
      "       grad_fn=<SliceBackward>)\n"
     ]
    },
    {
     "data": {
      "image/png": "[encoded data removed]",
      "text/plain": [
       "<Figure size 432x288 with 1 Axes>"
      ]
     },
     "metadata": {
      "needs_background": "light"
     },
     "output_type": "display_data"
    }
   ],
   "source": [
    "decoder = grammar.decoder\n",
    "affixer = grammar.cogrammar.cogrammar.affixer\n",
    "#context2affix_form = affixer.context2affix_form\n",
    "\n",
    "ex = config.dat_train[0]; #print(ex)\n",
    "#print(ex['morphosyn_str'])\n",
    "#print(ex['morphosyn'])\n",
    "Stem = morph.Morph(ex['stem'].unsqueeze(0))\n",
    "tag = 'PST;FH;1[+]INCL;PL' # 'PRS;2;PL'\n",
    "morphosyn, morphospec = config.morphosyn_embedder.embed(tag)\n",
    "Stem, Affix = affixer(Stem, morphosyn.unsqueeze(0))\n",
    "plt.imshow(Affix.form.data[0,:,:10])\n",
    "print(Affix.form.data[0,1,:])\n",
    "print(Affix.copy[0,:10])\n",
    "print(Affix.pivot[0,:10])"
   ]
  },
  {
   "cell_type": "code",
   "execution_count": 46,
   "id": "visible-grant",
   "metadata": {},
   "outputs": [
    {
     "name": "stdout",
     "output_type": "stream",
     "text": [
      "case=ϵ\tϵ a ⋉\n",
      "\n",
      "case=abl\tm a n t a • ⋉\n",
      "\n",
      "case=acc\ta a ⋉\n",
      "\n",
      "case=ben\tp a p ⋉\n",
      "\n",
      "case=causv\tr a j k u ⋉\n",
      "\n",
      "case=com\tn t i n ⋉\n",
      "\n",
      "case=compv\th h n a ⋉\n",
      "\n",
      "case=ess\tp i ⋉\n",
      "\n",
      "case=exclv\tʎ a ⋉\n",
      "\n",
      "case=gen\ta p ⋉\n",
      "\n",
      "case=ins\tw a n ⋉ •\n",
      "\n",
      "case=inter\tp u r a ⋉\n",
      "\n",
      "case=nom\t⋉\n",
      "\n",
      "case=priv\tn n a q ⋉\n",
      "\n",
      "case=term\ta a m a ⋉\n",
      "\n",
      "number=ϵ\tϵ a ⋉\n",
      "\n",
      "number=pl\ta a ⋉\n",
      "\n",
      "number=sg\tk a ⋉\n",
      "\n",
      "pos=ϵ\tϵ a ⋉\n",
      "\n",
      "pos=n\tn k i k u\n",
      "\n",
      "possession=ϵ\tϵ ϵ n\n",
      "\n",
      "possession=pss1pe\t⋉\n",
      "\n",
      "possession=pss1pi\t⋉\n",
      "\n",
      "possession=pss1s\ta r ⋉\n",
      "\n",
      "possession=pss2p\ti k k u n •\n",
      "\n",
      "possession=pss2s\ti ⋉\n",
      "\n",
      "possession=pss3p\t⋉\n",
      "\n",
      "possession=pss3s\tϵ l ⋉\n",
      "\n",
      "<zero>\tϵ a ⋉\n",
      "\n",
      "['ϵ a ⋉ ⋉ ⋉ ϵ ϵ ϵ ϵ ϵ ϵ ϵ ϵ ϵ ϵ ϵ ϵ ϵ ϵ ϵ ϵ ϵ']\n"
     ]
    },
    {
     "data": {
      "image/png": "[encoded data removed]",
      "text/plain": [
       "<Figure size 432x288 with 1 Axes>"
      ]
     },
     "metadata": {
      "needs_background": "light"
     },
     "output_type": "display_data"
    }
   ],
   "source": [
    "# Highest-probability decoding up to cumulative probability threshold\n",
    "def top_sym(probs, theta=0.95):\n",
    "    m, n = probs.shape\n",
    "    tops = [ ]\n",
    "    for r in range(n):\n",
    "        prob = probs[:,r]\n",
    "        #print(prob)\n",
    "        indx = np.argsort(prob)[::-1]\n",
    "        prob = [prob[i] for i in indx]\n",
    "        cumprob = np.cumsum(prob)\n",
    "        top = [(config.syms[indx[i]], prob[i]) for i in range(m)\n",
    "                   if cumprob[i]<theta or i==0]\n",
    "        top = '('+ '|'.join([x[0] for x in top]) +')'\n",
    "        tops.append(top)\n",
    "    return ' '.join(tops)\n",
    "\n",
    "# Hard decoded string for each morphosyn embedding unit\n",
    "unit2label = config.morphosyn_embedder.unit2label\n",
    "for i in range(config.dmorphosyn+1):\n",
    "    morphosyn1 = torch.zeros(1, config.dmorphosyn)\n",
    "    if i < config.dmorphosyn:\n",
    "        lab = unit2label[i]\n",
    "        morphosyn1[0,i] = 1.0\n",
    "    else:\n",
    "        lab = '<zero>'\n",
    "    Stem, Affix = affixer(Stem, morphosyn1)\n",
    "    print(f'{lab}\\t{Affix._str()[0]}')\n",
    "    #Affix_probs = torch.softmax(decoder(Affix.form), dim=1)\n",
    "    #print(f'{lab}\\t{top_sym(Affix_probs.data.numpy()[0])}')\n",
    "    #if lab=='person=1+incl': break\n",
    "    print()\n",
    "\n",
    "affix_tpr_raw = torch.atanh(Affix.form).data[0,:,:10].numpy()\n",
    "#plt.imshow(affix_tpr_raw)\n",
    "#print(np.max(affix_tpr_raw), np.min(affix_tpr_raw))\n",
    "\n",
    "affix_logits = decoder(Affix.form)\n",
    "affix_idx = decoder.decode(Affix.form)\n",
    "affix_str = config.form_embedder.idvec2string(affix_idx, trim=0)\n",
    "affix_probs = torch.softmax(affix_logits, dim = 1)\n",
    "#plt.imshow(affix_logits.data[0,:,:10])\n",
    "plt.imshow(affix_probs.data[0,:,:10])\n",
    "print(affix_str)\n",
    "#print(config.form_embedder.id2sym[2])"
   ]
  },
  {
   "cell_type": "code",
   "execution_count": 47,
   "id": "commercial-constraint",
   "metadata": {},
   "outputs": [
    {
     "name": "stdout",
     "output_type": "stream",
     "text": [
      "n;abl;pl \t k u n + a ⋉ + n m n t a • ⋉\n",
      "n;abl;sg \t k i n + p + m a n t a ⋉\n",
      "n;acc;pl \t k u n + a a n a + t a n\n",
      "n;acc;sg \t k i + p + t a ⋉\n",
      "n;ben;pl \t k u n + a a ϵ a + t a ⋊ ⋉\n",
      "n;ben;sg \t k i + p + p a q\n",
      "n;causv;pl \t k u n k u + a a n + r a j k u ⋉\n",
      "n;causv;sg \t k i +  + r a ϵ ϵ u ⋉\n",
      "n;com;pl \t k u n + a ⋉ + n ⋉\n",
      "n;com;sg \t k i + p + t t i\n",
      "n;compv;pl \t k u n + a u n a + h u n a ⋉\n",
      "n;compv;sg \t k i n +  + h i n\n",
      "n;ess;pl \t k u n + a u ϵ a + p i ⋉\n",
      "n;ess;sg \t k i + p + p i ⋉\n",
      "n;exclv;pl \t k u n + a u n a + ʎ a ⋉\n",
      "n;exclv;sg \t k i + k + ʎ a ⋉\n",
      "n;gen;pl \t k u n + a a + t ⋉\n",
      "n;gen;sg \t k i + p + p ⋉\n",
      "n;ins;pl \t k u n + a a n a + w a n ⋉\n",
      "n;ins;sg \t k i + p ϵ n + w a n ⋉\n",
      "n;inter;pl \t k u n + a u n a + p u r a ⋉\n",
      "n;inter;sg \t k u + p + p u\n",
      "n;nom;pl \t k u n + a u + ⋉\n",
      "n;nom;sg \t k i +  + ⋉\n",
      "n;priv;pl \t k u n k + a ⋉ + n n a q ⋉\n",
      "n;priv;sg \t k i n + p + n n n q\n",
      "n;pss1pe;abl;pl \t j k u k ⋉ + k u n a ⋉ + m a n t a • ⋉\n",
      "n;pss1pe;abl;sg \t j k u + p + m a n t a ⋉\n",
      "n;pss1pe;acc;pl \t j k u k u + k u n a + t a ⋉\n",
      "n;pss1pe;acc;sg \t j k u + p + t a ⋉\n",
      "n;pss1pe;ben;pl \t j k u k u + k u n a + p a q q\n",
      "n;pss1pe;ben;sg \t j k u + p + p a q ⋉\n",
      "n;pss1pe;causv;pl \t j k u k u + k u n a ⋉ + r j j k u ⋉\n",
      "n;pss1pe;causv;sg \t j k u k + k a + r a w k u ⋉\n",
      "n;pss1pe;com;pl \t j k u k u + k u n a ⋉ + n i n n ⋉\n",
      "n;pss1pe;com;sg \t j k u k + p + n t i n ⋉\n",
      "n;pss1pe;compv;pl \t j k u k u + k u n a ⋉ + h i n a ⋉\n",
      "n;pss1pe;compv;sg \t j ϵ u + p + h i n a ⋉\n",
      "n;pss1pe;ess;pl \t j k u k u + k u n a + p i ⋉\n",
      "n;pss1pe;ess;sg \t j k u + p i + p i ⋉\n",
      "n;pss1pe;exclv;pl \t j k u k u + k u n a + ʎ a ⋉\n",
      "n;pss1pe;exclv;sg \t j k u + k + ʎ i ⋉\n",
      "n;pss1pe;gen;pl \t j k u k u + k u n a + p p ⋉\n",
      "n;pss1pe;gen;sg \t j k u + p + p ⋉\n",
      "n;pss1pe;ins;pl \t j k u k u + k u n a + w w n ⋉\n",
      "n;pss1pe;ins;sg \t j k u + p + w a n ⋉\n",
      "n;pss1pe;inter;pl \t j k u k u + k u n a ⋉ + p u u a ⋉\n",
      "n;pss1pe;inter;sg \t j k u k + p + p u r a ⋉\n",
      "n;pss1pe;nom;pl \t j k u k u + k u n a + ⋉\n",
      "n;pss1pe;nom;sg \t j k u + p + ⋉\n",
      "n;pss1pe;priv;pl \t j k u k u + k u n a ⋉ + n n a q ⋉\n",
      "n;pss1pe;priv;sg \t j k u k + p + n n a q ⋉\n",
      "n;pss1pe;term;pl \t j k u k u + k u n a ⋉ + k ⋊ m a ⋉\n",
      "n;pss1pe;term;sg \t j k u k + k + k a m a ⋉\n",
      "n;pss1pi;abl;pl \t n tʃ i p a • + n k u n a • + n m a n a •\n",
      "n;pss1pi;abl;sg \t n tʃ i k a + k ⋉ + m m n t a • ⋉\n",
      "n;pss1pi;acc;pl \t n tʃ i k a • + k k u n a + n a ⋉\n",
      "n;pss1pi;acc;sg \t n tʃ i k + k ⋉ + t a ⋉\n",
      "n;pss1pi;ben;pl \t n k i k a • + k k u n ⋉ • + n a ⋊ a q •\n",
      "n;pss1pi;ben;sg \t n tʃ i k + k ⋉ + p a q ⋉\n",
      "n;pss1pi;causv;pl \t n k i k i • + k k u n a • ⋉ + r j j k u ⋉\n",
      "n;pss1pi;causv;sg \t n tʃ i k u + k ⋉ + r a j k u ⋉\n",
      "n;pss1pi;com;pl \t n tʃ i k a • + n k u n a • + n t i n ⋉ •\n",
      "n;pss1pi;com;sg \t n tʃ i k a + k ⋉ + n g i n ⋉\n",
      "n;pss1pi;compv;pl \t n tʃ i m a • + k ⋉ + j h i n a •\n",
      "n;pss1pi;compv;sg \t n tʃ i k a + k ⋉ + h h n a ⋉\n",
      "n;pss1pi;ess;pl \t n tʃ i k a + k k u n a + n i p i ⋉\n",
      "n;pss1pi;ess;sg \t n tʃ i k + k ⋉ + k i ⋉\n",
      "n;pss1pi;exclv;pl \t n tʃ i k a • + k k u n ⋉ + ɲ a i a ⋉\n",
      "n;pss1pi;exclv;sg \t ɲ tʃ i k + k ⋉ + ʎ a u\n",
      "n;pss1pi;gen;pl \t n tʃ i k a + k k u n a + n a p ⋉\n",
      "n;pss1pi;gen;sg \t n tʃ i k + k ⋉ + p ⋉\n",
      "n;pss1pi;ins;pl \t n k u k a • + k k u n ⋉ • + g w w a n •\n",
      "n;pss1pi;ins;sg \t n tʃ i k + k ⋉ + g a g ⋉\n",
      "n;pss1pi;inter;pl \t n tʃ u k a • + k k u n a • + n p u r a •\n",
      "n;pss1pi;inter;sg \t n tʃ i k a + k ⋉ + p ⋉\n",
      "n;pss1pi;nom;pl \t n tʃ i k a • + k k u n a + ⋉\n",
      "n;pss1pi;nom;sg \t n tʃ i k + k ⋉ + g\n",
      "n;pss1pi;priv;pl \t n tʃ i k a • + k k u n a • + n g g q ⋉ •\n",
      "n;pss1pi;priv;sg \t n tʃ i k a + k ⋉ + n n a q ⋉\n",
      "n;pss1pi;term;pl \t n tʃ i m a • + k k u n a • + k k a m a •\n",
      "n;pss1pi;term;sg \t n tʃ i k a + k ⋉ + k ⋉\n",
      "n;pss1s;abl;pl \t j k u k a + n a ⋉ + n m a n a • ⋉\n",
      "n;pss1s;abl;sg \t j k u + ⋉ + m a n t a ⋉\n",
      "n;pss1s;acc;pl \t j k u k + n a ⋉ + n a ⋉\n",
      "n;pss1s;acc;sg \t j ⋉ + ⋉ + t a ⋉\n",
      "n;pss1s;ben;pl \t j k u k + n a + n q ⋊ ⋉\n",
      "n;pss1s;ben;sg \t j k u + ⋉ + ⋉\n",
      "n;pss1s;causv;pl \t j k u k + n a ϵ r ϵ ⋉ + r a j k u ⋉\n",
      "n;pss1s;causv;sg \t j k u + ⋉ + r a j k ϵ ⋉\n",
      "n;pss1s;com;pl \t j k u k a + n a + n t i n ⋉\n",
      "n;pss1s;com;sg \t j k u + ⋉ + n t i n ⋉\n",
      "n;pss1s;compv;pl \t j k u k a + n a ϵ r + j h i n a\n",
      "n;pss1s;compv;sg \t j h u + ⋉ + h s n ϵ ⋉\n",
      "n;pss1s;ess;pl \t j k u k a + n a ⋉ + n i ⋉\n",
      "n;pss1s;ess;sg \t j k u + ⋉ + p i ⋉\n",
      "n;pss1s;exclv;pl \t j k u k + n a ⋉ + ʎ ʎ ⋉\n",
      "n;pss1s;exclv;sg \t j k u + ⋉ + ʎ a ⋉\n",
      "n;pss1s;gen;pl \t j k u k a + n a + n p ⋉\n",
      "n;pss1s;gen;sg \t j ⋉ + ⋉ + p a\n",
      "n;pss1s;ins;pl \t j k u k + n a + w a w ⋉\n",
      "n;pss1s;ins;sg \t j k u + ⋉ + w q n ⋉\n",
      "n;pss1s;inter;pl \t j k u k a + n ⋉ + a p u r a\n",
      "n;pss1s;inter;sg \t j k u + ⋉ + p u u ϵ ⋉\n",
      "n;pss1s;nom;pl \t j k u k a + n a + n ⋉\n",
      "n;pss1s;nom;sg \t j ⋉ + ⋉ + ⋉\n",
      "n;pss1s;priv;pl \t j k u k a + n g ϵ ϵ t + n n n q q\n",
      "n;pss1s;priv;sg \t j k u + ⋉ + n n a q\n",
      "n;pss1s;term;pl \t j k u k a + n g + a k a m a\n",
      "n;pss1s;term;sg \t j k u + k + k a m\n",
      "n;pss2p;abl;pl \t j k i tʃ a • + i k k u n • + n g m a n •\n",
      "n;pss2p;abl;sg \t j k i tʃ a + tʃ i k ⋉ + m a n t a • ⋉\n",
      "n;pss2p;acc;pl \t j k i tʃ a • + i k k u n • + n a ⋉\n",
      "n;pss2p;acc;sg \t j k i tʃ + tʃ i k ⋉ + t a ⋉\n",
      "n;pss2p;ben;pl \t j k i tʃ ⋉ • + i k k u t • + n k k a q •\n",
      "n;pss2p;ben;sg \t j k i tʃ + tʃ a k ⋉ + p a q ⋉\n",
      "n;pss2p;causv;pl \t j k i tʃ i • + i k k u t • + j j j u k u\n",
      "n;pss2p;causv;sg \t j k i tʃ + tʃ i k ⋉ + j a j k ⋉\n",
      "n;pss2p;com;pl \t j k i tʃ a • + i k k u n • + a t t i n •\n",
      "n;pss2p;com;sg \t j k i tʃ + tʃ i k ⋉ + m i i n ⋉\n",
      "n;pss2p;compv;pl \t j k i tʃ a • + i k k u n • + s h i n a •\n",
      "n;pss2p;compv;sg \t j k i tʃ + tʃ i k ⋉ + h s i a ⋉\n",
      "n;pss2p;ess;pl \t j k i tʃ a • + i k k u n • + n a p i ⋉\n",
      "n;pss2p;ess;sg \t j k i tʃ + tʃ i k ⋉ + p i ⋉\n",
      "n;pss2p;exclv;pl \t j k i tʃ ⋉ • + i k k u n • + ʎ a ʎ a n\n",
      "n;pss2p;exclv;sg \t j k i tʃ + tʃ i k ⋉ + ʎ a ⋉\n",
      "n;pss2p;gen;pl \t j k i tʃ a • + i k k u n • + n a p ⋉\n",
      "n;pss2p;gen;sg \t j k i tʃ + tʃ a k ⋉ + p a ⋉\n",
      "n;pss2p;ins;pl \t j k i tʃ ⋉ • + i k k u n • + g w w a n •\n",
      "n;pss2p;ins;sg \t j k i tʃ + tʃ i k ⋉ + g a g ⋉\n",
      "n;pss2p;inter;pl \t j k i tʃ a • + i k ⋉ + a p u r a •\n",
      "n;pss2p;inter;sg \t j k i tʃ + tʃ i k ⋉ + p u u a ⋉\n",
      "n;pss2p;nom;pl \t j k i tʃ a • + i k k u n • + a k ϵ ϵ n\n",
      "n;pss2p;nom;sg \t j k i tʃ + tʃ i k + ⋉\n",
      "n;pss2p;priv;pl \t j k i tʃ a • + i k k u n • + n g g a q •\n",
      "n;pss2p;priv;sg \t j k i tʃ + tʃ i k ⋉ + i n a q ⋉\n",
      "n;pss2p;term;pl \t j k i tʃ a • + i k k u n • + a k a m a •\n",
      "n;pss2p;term;sg \t j k i tʃ + tʃ i k ⋉ + i k g a ⋉\n",
      "n;pss2s;abl;pl \t j k i k a + k u n a ⋉ + g a n t a • ⋉\n",
      "n;pss2s;abl;sg \t j k ⋊ + i a + g a a t a a\n",
      "n;pss2s;acc;pl \t j k i k + k u n a + k a a\n",
      "n;pss2s;acc;sg \t k k i + i a + t t a\n",
      "n;pss2s;ben;pl \t j k i k + k u n a + k a ⋊ ⋉\n",
      "n;pss2s;ben;sg \t k k i + i a + p q ⋊ ⋉\n",
      "n;pss2s;causv;pl \t j k i k u + k u n a ⋉ + j j j k u u\n",
      "n;pss2s;causv;sg \t j k i k + i a + j a j k u ⋉\n",
      "n;pss2s;com;pl \t j k i k u + k u n a ⋉ + g i i n ⋉\n",
      "n;pss2s;com;sg \t j k i + i ⋉ + g t i n ⋉\n",
      "n;pss2s;compv;pl \t j k i k u + k u n a ⋉ + j i i n ⋉\n",
      "n;pss2s;compv;sg \t j k i + i ⋉ + h i n a ⋉\n",
      "n;pss2s;ess;pl \t j k i k + k u n a + k i i\n",
      "n;pss2s;ess;sg \t k k i + i i + p i ⋉\n",
      "n;pss2s;exclv;pl \t j k i k + k u n a + ʎ a ⋉\n",
      "n;pss2s;exclv;sg \t j k i + i a + ʎ ʎ ⋉\n",
      "n;pss2s;gen;pl \t j k i k + k u n a + k p ⋉\n",
      "n;pss2s;gen;sg \t j k i + i ⋉ + p p\n",
      "n;pss2s;ins;pl \t j k i k + k u n a + w w n ⋉\n",
      "n;pss2s;ins;sg \t j k i + i a + w a n ⋉\n",
      "n;pss2s;inter;pl \t j k i k u + k u n a ⋉ + k u r a ⋉\n",
      "n;pss2s;inter;sg \t j k i + i ⋉ + p u u a ⋉\n",
      "n;pss2s;nom;pl \t j k i k u + k u n a + ⋉\n",
      "n;pss2s;nom;sg \t j k i + i ⋉ + k\n",
      "n;pss2s;priv;pl \t j k i k u + k u n a ⋉ + g g a q ⋉\n",
      "n;pss2s;priv;sg \t j k i q + i ⋉ + g n a q ⋉\n",
      "n;pss2s;term;pl \t j k i k u + k u n a ⋉ + k k a m ⋉\n",
      "n;pss2s;term;sg \t j k ⋊ + i a + k q m a ⋉\n",
      "n;pss3p;abl;pl \t n k u k i + g u n a t + m a n t a • ⋉\n",
      "n;pss3p;abl;sg \t n k u k + p i + m a n t a ⋉\n",
      "n;pss3p;acc;pl \t n k u k i + k u n a t + t a ⋉\n",
      "n;pss3p;acc;sg \t n k u + k i + t a ⋉\n",
      "n;pss3p;ben;pl \t n k u k i + k u n a t + p a q ⋉\n",
      "n;pss3p;ben;sg \t n k u + p i + p a q ⋉\n",
      "n;pss3p;causv;pl \t n k u k i + k u n a ⋉ + r j j k ⋉\n",
      "n;pss3p;causv;sg \t n k u k + k i + r a j k u ⋉\n",
      "n;pss3p;com;pl \t n k u k i + g u n a n + n i n n ⋉\n",
      "n;pss3p;com;sg \t n k u k + k i + n i i n ⋉\n",
      "n;pss3p;compv;pl \t n k u k i + k u n a ⋉ + j i n a ⋉\n",
      "n;pss3p;compv;sg \t n i u k + k i + h i n a ⋉\n",
      "n;pss3p;ess;pl \t n k u k i + k u n a t + p i ⋉\n",
      "n;pss3p;ess;sg \t n k u + p i + p i ⋉\n",
      "n;pss3p;exclv;pl \t n k u k i + k u n a t + ʎ a ⋉\n",
      "n;pss3p;exclv;sg \t n k u + k i + ʎ i ⋉\n",
      "n;pss3p;gen;pl \t n k u k i + k u n a t + p p ⋉\n",
      "n;pss3p;gen;sg \t n k u + p i + p ⋉\n",
      "n;pss3p;ins;pl \t n k u k i + k u n a t + w w n ⋉\n",
      "n;pss3p;ins;sg \t n k u + p i + w a n ⋉\n",
      "n;pss3p;inter;pl \t n k u k i + k u n a ⋉ + p u u a ⋉\n",
      "n;pss3p;inter;sg \t n k u k + p + p u u a ⋉\n",
      "n;pss3p;nom;pl \t n k u k i + k u n a t + ⋉\n",
      "n;pss3p;nom;sg \t n k u + p i + ⋉\n",
      "n;pss3p;priv;pl \t n k u k i + k u n a t + n g a q ⋉\n",
      "n;pss3p;priv;sg \t n k u k + k i + n n a q ⋉\n",
      "n;pss3p;term;pl \t n k u k i + k u n a ⋉ + k k a m ⋉\n",
      "n;pss3p;term;sg \t n k u k + k i + k a m a ⋉\n",
      "n;pss3s;abl;pl \t n k u k a + n a ⋉ + n m a t a •\n",
      "n;pss3s;abl;sg \t n ⋉ +  + m a n t a ⋉\n",
      "n;pss3s;acc;pl \t n k u k + n a ⋉ + n a ⋉\n",
      "n;pss3s;acc;sg \t n ⋉ +  + t a ⋉\n",
      "n;pss3s;ben;pl \t n k u k + n a ⋉ + n a q q\n",
      "n;pss3s;ben;sg \t n ⋉ +  + p a q\n",
      "n;pss3s;causv;pl \t n k u k + n a ⋉ + r a j k u ⋉\n",
      "n;pss3s;causv;sg \t n ⋉ +  + r j j k u ⋉\n",
      "n;pss3s;com;pl \t n k u k + n a ⋉ + n t i n ⋉\n",
      "n;pss3s;com;sg \t n ⋉ +  + n t i n\n",
      "n;pss3s;compv;pl \t n k u k + n a ⋉ + h h i n a\n",
      "n;pss3s;compv;sg \t n h u +  + h i n\n",
      "n;pss3s;ess;pl \t n k u k + n a ⋉ + m i ⋉\n",
      "n;pss3s;ess;sg \t n ⋉ +  + p i ⋉\n",
      "n;pss3s;exclv;pl \t n k u k + n a ⋉ + ʎ a ⋉\n",
      "n;pss3s;exclv;sg \t n ⋉ +  + ʎ a ⋉\n",
      "n;pss3s;gen;pl \t n k u k + n a + n p ⋉\n",
      "n;pss3s;gen;sg \t n ⋉ +  + p a\n",
      "n;pss3s;ins;pl \t n k u k + n a ⋉ + w a n ⋉\n",
      "n;pss3s;ins;sg \t n ⋉ +  + w q n ⋉\n",
      "n;pss3s;inter;pl \t n k u k + n a + p p u r a\n",
      "n;pss3s;inter;sg \t n ⋉ +  + p u u\n",
      "n;pss3s;nom;pl \t n k u k + n a + n\n",
      "n;pss3s;nom;sg \t n ⋉ +  + ⋉\n",
      "n;pss3s;priv;pl \t n k u k + n a ⋉ + n n a q ⋉\n",
      "n;pss3s;priv;sg \t n ⋉ +  + n n a q\n",
      "n;pss3s;term;pl \t n k u k + n a ⋉ + g k a m a\n",
      "n;pss3s;term;sg \t n ⋉ +  + k a m\n",
      "n;term;pl \t k u n + a ⋉ + k m m a ⋉\n",
      "n;term;sg \t k i + k + k a m\n"
     ]
    }
   ],
   "source": [
    "# Hard decoded string for each morphosyn vector and slot\n",
    "morphosyns = {ex['morphosyn_str']:ex['morphosyn'] for ex in config.dat_train}\n",
    "morphosyns = [(m, morphosyns[m]) for m in morphosyns.keys()]\n",
    "morphosyns = sorted(morphosyns, key = lambda x: x[0])\n",
    "\n",
    "nslot = 3\n",
    "for (m_str, m) in morphosyns:\n",
    "    affix_strs = [ ]\n",
    "    for slot in range(nslot):\n",
    "        dim_attn = torch.sigmoid(Mslot2dim_attn[:,slot])\n",
    "        mask = Mdim2units @ dim_attn\n",
    "        Stem, Affix = affixer(Stem, (m * mask).unsqueeze(0))\n",
    "        affix_str = Affix._str()[0]\n",
    "        #affix_str = re.sub('⟨.*⟩ ', '', affix_str)\n",
    "        affix_strs.append(affix_str)\n",
    "    print(m_str, '\\t', ' + '.join(affix_strs))\n",
    "\n",
    "#print([(dim, np.round(dim_attn[i].item(),2)) for i,dim in \n",
    "#        enumerate(config.morphosyn_embedder.dims)])"
   ]
  },
  {
   "cell_type": "code",
   "execution_count": null,
   "id": "about-robinson",
   "metadata": {},
   "outputs": [],
   "source": [
    "# todo: add labels to figures\n",
    "# todo: print morphological derivation as labeled trees"
   ]
  },
  {
   "cell_type": "code",
   "execution_count": 49,
   "id": "sixth-australia",
   "metadata": {},
   "outputs": [
    {
     "name": "stdout",
     "output_type": "stream",
     "text": [
      "         mod      deln     epen2     epen1\n",
      "0   0.325556  0.271068  0.238584  0.164791\n",
      "1   0.315113  0.343003  0.200809  0.141074\n",
      "2   0.894280  0.007583  0.051830  0.046308\n",
      "3   0.259069  0.469714  0.157760  0.113457\n",
      "4   0.865021  0.042772  0.057496  0.034711\n",
      "5   0.254937  0.246657  0.290963  0.207444\n",
      "6   0.385221  0.490939  0.071697  0.052143\n",
      "7   0.356523  0.161140  0.282876  0.199462\n",
      "8   0.307890  0.298916  0.222671  0.170522\n",
      "9   0.313176  0.420724  0.161215  0.104885\n",
      "10  0.176209  0.122316  0.426092  0.275383\n",
      "11  0.646330  0.005904  0.068093  0.279673\n",
      "12  0.250810  0.171316  0.375313  0.202560\n",
      "13  0.279103  0.289849  0.243026  0.188022\n",
      "14  0.302009  0.157009  0.326053  0.214928\n",
      "15  0.376179  0.248493  0.230132  0.145196\n",
      "16  0.322330  0.241391  0.245706  0.190573\n",
      "17  0.203470  0.223354  0.345532  0.227644\n",
      "18  0.222287  0.120869  0.448479  0.208365\n",
      "19  0.431866  0.190722  0.240082  0.137330\n"
     ]
    },
    {
     "data": {
      "image/png": "[encoded data removed]",
      "text/plain": [
       "<Figure size 432x288 with 1 Axes>"
      ]
     },
     "metadata": {
      "needs_background": "light"
     },
     "output_type": "display_data"
    },
    {
     "name": "stdout",
     "output_type": "stream",
     "text": [
      "['ϵ ϵ k ϵ ϵ ϵ ϵ ϵ ϵ ϵ ϵ i ϵ ϵ ϵ ϵ ϵ ϵ ϵ ϵ']\n"
     ]
    },
    {
     "data": {
      "image/png": "[encoded data removed]",
      "text/plain": [
       "<Figure size 432x288 with 1 Axes>"
      ]
     },
     "metadata": {
      "needs_background": "light"
     },
     "output_type": "display_data"
    },
    {
     "name": "stdout",
     "output_type": "stream",
     "text": [
      "['ϵ ϵ i ϵ ϵ ϵ ϵ ϵ ϵ ϵ ϵ p ϵ ϵ ϵ ϵ ϵ ϵ ϵ ϵ']\n"
     ]
    }
   ],
   "source": [
    "# Phonology module\n",
    "# xxx get code for printing rules from tensorphon\n",
    "phon = grammar.phonology\n",
    "context0 = torch.ones(1,1)\n",
    "\n",
    "change_logits = phon.change(context0) \\\n",
    "                    .view(1, phon.nchange, phon.npattern)\n",
    "#print(change_logits.shape)\n",
    "change_probs = torch.softmax(change_logits, dim = 1)\n",
    "change_probs = pd.DataFrame(change_probs[0].t().data.numpy())\n",
    "change_probs.columns = phon.change_types\n",
    "print(change_probs)\n",
    "\n",
    "w = phon.W(context0) \\\n",
    "        .view(1, phon.npattern)\n",
    "w = torch.exp(w)\n",
    "#print(w)\n",
    "\n",
    "ftr1 = phon.ftr1(context0) \\\n",
    "            .view(1, config.dsym, phon.npattern)\n",
    "ftr1 = torch.tanh(ftr1)\n",
    "plt.imshow(ftr1[0].data)\n",
    "plt.show()\n",
    "print(morph.Morph(ftr1)._str(trim=0))\n",
    "\n",
    "ftr2 = phon.ftr2(context0) \\\n",
    "            .view(1, config.dsym, phon.npattern)\n",
    "ftr2 = torch.tanh(ftr2)\n",
    "plt.imshow(ftr2[0].data)\n",
    "plt.show()\n",
    "print(morph.Morph(ftr2)._str(trim=0))\n",
    "\n",
    "#matcher = phon.matcher\n",
    "#matcher_cntr = matcher.matcher_cntr\n",
    "#print(matcher_cntr.Wpos)\n",
    "# xxx print matchers"
   ]
  },
  {
   "cell_type": "code",
   "execution_count": 41,
   "id": "accepted-vinyl",
   "metadata": {},
   "outputs": [
    {
     "name": "stdout",
     "output_type": "stream",
     "text": [
      "tensor([-1.4522, -0.0627, -0.6569, -0.1416, -0.5255,  0.6240])\n",
      "tensor([[-1.4522, -0.0627],\n",
      "        [-0.6569, -0.1416],\n",
      "        [-0.5255,  0.6240]])\n"
     ]
    }
   ],
   "source": [
    "X = torch.randn(10, 6)\n",
    "print(X[1])\n",
    "Y = X.view(-1, 3, 2)\n",
    "print(Y[1])"
   ]
  },
  {
   "cell_type": "code",
   "execution_count": null,
   "id": "genuine-childhood",
   "metadata": {},
   "outputs": [],
   "source": []
  }
 ],
 "metadata": {
  "kernelspec": {
   "display_name": "Python 3 (ipykernel)",
   "language": "python",
   "name": "python3"
  },
  "language_info": {
   "codemirror_mode": {
    "name": "ipython",
    "version": 3
   },
   "file_extension": ".py",
   "mimetype": "text/x-python",
   "name": "python",
   "nbconvert_exporter": "python",
   "pygments_lexer": "ipython3",
   "version": "3.9.7"
  }
 },
 "nbformat": 4,
 "nbformat_minor": 5
}
