{
 "cells": [
  {
   "cell_type": "code",
   "execution_count": 1,
   "metadata": {},
   "outputs": [
    {
     "name": "stdout",
     "output_type": "stream",
     "text": [
      "done\n"
     ]
    }
   ],
   "source": [
    "import re,sys\n",
    "import numpy as np\n",
    "import pandas as pd\n",
    "\n",
    "print('done')"
   ]
  },
  {
   "cell_type": "code",
   "execution_count": 12,
   "metadata": {},
   "outputs": [
    {
     "name": "stdout",
     "output_type": "stream",
     "text": [
      "            stem         output           pred\n",
      "70      qirejbix     qiqirejbix     qekirejbix\n",
      "72         qille        qiqille        qekille\n",
      "86          qigu         qiqigu         qekigu\n",
      "171     qisotzeq     qiqisotzeq     qekisotzeq\n",
      "320        cowre        cocowre        cokowre\n",
      "324   cuznebowel   cucuznebowel   cukuznebowel\n",
      "340        qifuq        qiqifuq        qekifuq\n",
      "366       cufpyz       cucufpyz       cukufpyz\n",
      "375      qidywuw      qiqidywuw      qekidywuw\n",
      "415          cop          cocop          cokop\n",
      "427        cuwvu        cucuwvu        cukuwvu\n",
      "464           cu           cucu           cuku\n",
      "490        qukaz        ququkaz        qoqukaz\n",
      "523   qisipugzat   qiqisipugzat   qekisipugzat\n",
      "535       qyzaqe       qyqyzaqe       qykyzaqe\n",
      "565    qitxiwqah    qiqitxiwqah    qekitxiwqah\n",
      "586          qyk          qyqyk          qykyk\n",
      "610      qykwahe      qyqykwahe      qykykwahe\n",
      "618       cuzsuq       cucuzsuq       cukuzsuq\n",
      "624       coktyl       cocoktyl       cokoktyl\n",
      "639       quvkym       ququvkym       qoquvkym\n",
      "645           co           coco           coko\n",
      "649   qucyzjemaz   ququcyzjemaz   qoqucyzjemaz\n",
      "662      qusnoly      ququsnoly      qoqusnoly\n",
      "665  cofmorqevar  cocofmorqevar  cokofmorqevar\n",
      "676      cojypry      cocojypry      cokojypry\n",
      "\n",
      "               stem            output              pred\n",
      "0             qinoh           qiqinoh           qekinoh\n",
      "10             cuzu            cucuzu            cukuzu\n",
      "32      coqaxynufov     cocoqaxynufov     cokoqaxynufov\n",
      "71           quhoqi          ququhoqi          qoquhoqi\n",
      "108              qu              ququ              qoqu\n",
      "132           cuhho           cucuhho           cukuhho\n",
      "147  qigsaczusrafug  qiqigsaczusrafug  qikigsaczusrafug\n",
      "169              qi              qiqi              qeqi\n",
      "207     qiguvragcut     qiqiguvragcut     qekiguvragcut\n",
      "235         quvaryn         ququvaryn         qoquvaryn\n",
      "236    cujzaqvyveji    cucujzaqvyveji    cukujzaqvyveji\n"
     ]
    }
   ],
   "source": [
    "data_dir = '/home/cwilso23/Desktop/Redup_neural_FSTs/Easy_COSL/tensormorph/'\n",
    "data_select = 'Partial and initial - CV - Input-Output - 1000 Mixed No Boundary.txt'\n",
    "train_dat = re.sub('.txt', '_train.txt', data_select)\n",
    "train_dat = pd.read_csv(data_dir + train_dat)\n",
    "train_dat = train_dat[['stem', 'output', 'pred']]\n",
    "\n",
    "test_dat = re.sub('.txt', '_test.txt', data_select)\n",
    "test_dat = pd.read_csv(data_dir + test_dat)\n",
    "test_dat = test_dat[['stem', 'output', 'pred']]\n",
    "\n",
    "for dat in [train_dat, test_dat]:\n",
    "    for field in ['stem', 'output', 'pred']:\n",
    "        dat[field] = [re.sub(' ', '', x) for x in dat[field]]\n",
    "\n",
    "print(train_dat[(train_dat['pred'] != train_dat['output'])])\n",
    "print()\n",
    "print(test_dat[(test_dat['pred'] != test_dat['output'])])"
   ]
  },
  {
   "cell_type": "code",
   "execution_count": null,
   "metadata": {},
   "outputs": [],
   "source": []
  }
 ],
 "metadata": {
  "kernelspec": {
   "display_name": "Python 3",
   "language": "python",
   "name": "python3"
  },
  "language_info": {
   "codemirror_mode": {
    "name": "ipython",
    "version": 3
   },
   "file_extension": ".py",
   "mimetype": "text/x-python",
   "name": "python",
   "nbconvert_exporter": "python",
   "pygments_lexer": "ipython3",
   "version": "3.7.6"
  }
 },
 "nbformat": 4,
 "nbformat_minor": 4
}
