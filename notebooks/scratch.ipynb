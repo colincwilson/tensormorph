{
 "cells": [
  {
   "cell_type": "code",
   "execution_count": 1,
   "metadata": {},
   "outputs": [
    {
     "name": "stdout",
     "output_type": "stream",
     "text": [
      "The autoreload extension is already loaded. To reload it, use:\n",
      "  %reload_ext autoreload\n"
     ]
    }
   ],
   "source": [
    "# reload modules before running\n",
    "%load_ext autoreload\n",
    "%autoreload"
   ]
  },
  {
   "cell_type": "code",
   "execution_count": 7,
   "metadata": {},
   "outputs": [
    {
     "name": "stdout",
     "output_type": "stream",
     "text": [
      "done\n"
     ]
    }
   ],
   "source": [
    "import re, sys, types\n",
    "import numpy as np\n",
    "import torch\n",
    "#import torch_struct\n",
    "#from torch_struct import AlignmentCRF\n",
    "\n",
    "sys.path.append('../tensormorph')\n",
    "import config\n",
    "#from recorder import Recorder\n",
    "import tpr, tensormorph\n",
    "from morph import MorphOp, Morph\n",
    "from birnn_pivoter import *\n",
    "import distance\n",
    "\n",
    "import matplotlib.pyplot as plt\n",
    "print('done')"
   ]
  },
  {
   "cell_type": "code",
   "execution_count": 4,
   "metadata": {},
   "outputs": [
    {
     "name": "stdout",
     "output_type": "stream",
     "text": [
      "weight_ih_l0 torch.Size([9, 2])\n",
      "weight_hh_l0 torch.Size([9, 3])\n",
      "bias_ih_l0 torch.Size([9])\n",
      "bias_hh_l0 torch.Size([9])\n",
      "weight_ih_l0_reverse torch.Size([9, 2])\n",
      "weight_hh_l0_reverse torch.Size([9, 3])\n",
      "bias_ih_l0_reverse torch.Size([9])\n",
      "bias_hh_l0_reverse torch.Size([9])\n"
     ]
    }
   ],
   "source": [
    "# GRU parameterization\n",
    "gru1 = torch.nn.GRU(input_size = 2, hidden_size = 3, batch_first = True, bidirectional = True)\n",
    "for x in gru1.state_dict():\n",
    "    print(x, gru1.state_dict()[x].shape)"
   ]
  },
  {
   "cell_type": "code",
   "execution_count": 5,
   "metadata": {},
   "outputs": [
    {
     "data": {
      "text/plain": [
       "torch.Size([10, 6, 1])"
      ]
     },
     "execution_count": 5,
     "metadata": {},
     "output_type": "execute_result"
    }
   ],
   "source": [
    "# Batch matrix-vector multiplication\n",
    "M = torch.randn(10, 6, 4)\n",
    "v = torch.randn(10, 4)\n",
    "torch.matmul(M, v.unsqueeze(-1)).shape\n",
    "#(M @ v.unsqueeze(1)).squeeze(-1)"
   ]
  },
  {
   "cell_type": "code",
   "execution_count": 15,
   "metadata": {},
   "outputs": [
    {
     "name": "stdout",
     "output_type": "stream",
     "text": [
      "[('⋊⋉', 0, 0), ('⋊C', 0, 0), ('⋊V', 1, 0), ('C⋉', 0, 1), ('CC', 0, 1), ('CV', 0, 0), ('V⋉', 0, 0), ('VC', 0, 0), ('VV', 1, 0)]\n",
      "{'⋊⋉': ['⋊VV⋉'], '⋊C': ['⋊VVC'], '⋊V': ['⋊VVV'], 'C⋉': ['CVV⋉'], 'CC': ['CVVC'], 'CV': ['CVVV'], 'V⋉': ['VVV⋉'], 'VC': ['VVVC'], 'VV': ['VVVV']}\n"
     ]
    }
   ],
   "source": [
    "# Prosodic Morphology violation profiles\n",
    "pivot = ['⋊', 'C', 'V']\n",
    "pivot_next = ['⋉', 'C', 'V']\n",
    "affix_begin = ['C', 'V']\n",
    "affix_end = ['C', 'V']\n",
    "\n",
    "def onset(x):\n",
    "    violn = [x[i]=='V' and x[i-1]!='C' for i in range(1,len(x))]\n",
    "    return np.sum(violn)\n",
    "\n",
    "def nocoda(x):\n",
    "    violn = [x[i]=='C' and x[i+1]!='V' for i in range(len(x)-1)]\n",
    "    return np.sum(violn)\n",
    "\n",
    "inpt = [x+y for x in pivot for y in pivot_next]\n",
    "inpt_violn = [(x, onset(x), nocoda(x)) for x in inpt]\n",
    "print(inpt_violn)\n",
    "\n",
    "outpt = {x: [x[0]+y+z+x[1]] for x in inpt for y in affix_begin for z in affix_end}\n",
    "print(outpt)"
   ]
  },
  {
   "cell_type": "code",
   "execution_count": 8,
   "metadata": {},
   "outputs": [
    {
     "name": "stdout",
     "output_type": "stream",
     "text": [
      "\n",
      "train: 145| val: 1| test: 49\n",
      "segments: ['a', 'b', 'c', 'd', 'dz', 'e', 'f', 'g', 'h', 'i', 'k', 'l', 'm', 'n', 'o', 'p', 'r', 's', 't', 'ts', 'u', 'z', 'ŋ', 'ʔ']\n",
      "vowels: ['i', 'e', 'a', 'o', 'u']\n",
      "max_len: 20\n",
      "['ε', '⋊', '⋉', 'a', 'o', 'e', 'u', 'i', 'ŋ', 'r', 'n', 'm', 'l', 'ʔ', 'c', 'k', 'g', 'z', 't', 's', 'p', 'f', 'd', 'b', 'dz', 'ts', 'h'] 27\n",
      "['a', 'o', 'e', 'u', 'i']\n",
      "['sym', 'begin/end', 'C/V', 'syllabic', 'consonantal', 'sonorant', 'continuant', 'delayed.release', 'approximant', 'trill', 'nasal', 'voice', 'spread.gl', 'constr.gl', 'LABIAL', 'round', 'labiodental', 'CORONAL', 'anterior', 'distributed', 'strident', 'lateral', 'DORSAL', 'high', 'low', 'front', 'back', 'tense']\n",
      "[[ 0.  0.  0.  0.  0.  0.  0.  0.  0.  0.  0.  0.  0.  0.  0.  0.  0.  0.\n",
      "   0.  0.  0.  0.  0.  0.  0.  0.  0.  0.]\n",
      " [ 1.  1.  0.  0.  0.  0.  0.  0.  0.  0.  0.  0.  0.  0.  0.  0.  0.  0.\n",
      "   0.  0.  0.  0.  0.  0.  0.  0.  0.  0.]\n",
      " [ 1. -1.  0.  0.  0.  0.  0.  0.  0.  0.  0.  0.  0.  0.  0.  0.  0.  0.\n",
      "   0.  0.  0.  0.  0.  0.  0.  0.  0.  0.]\n",
      " [ 1.  0. -1.  1. -1.  1.  1.  0.  1. -1. -1.  1. -1. -1. -1. -1. -1. -1.\n",
      "   0.  0.  0. -1.  1. -1.  1. -1. -1.  0.]\n",
      " [ 1.  0. -1.  1. -1.  1.  1.  0.  1. -1. -1.  1. -1. -1.  1.  1. -1. -1.\n",
      "   0.  0.  0. -1.  1. -1. -1. -1.  1.  1.]\n",
      " [ 1.  0. -1.  1. -1.  1.  1.  0.  1. -1. -1.  1. -1. -1. -1. -1. -1. -1.\n",
      "   0.  0.  0. -1.  1. -1. -1.  1. -1.  1.]\n",
      " [ 1.  0. -1.  1. -1.  1.  1.  0.  1. -1. -1.  1. -1. -1.  1.  1. -1. -1.\n",
      "   0.  0.  0. -1.  1.  1. -1. -1.  1.  1.]\n",
      " [ 1.  0. -1.  1. -1.  1.  1.  0.  1. -1. -1.  1. -1. -1. -1. -1. -1. -1.\n",
      "   0.  0.  0. -1.  1.  1. -1.  1. -1.  1.]\n",
      " [ 1.  0.  1. -1.  1.  1. -1.  0. -1. -1.  1.  1. -1. -1. -1. -1. -1. -1.\n",
      "   0.  0.  0. -1.  1.  1. -1.  0.  0.  0.]\n",
      " [ 1.  0.  1. -1.  1.  1.  1.  0.  1.  1. -1.  1. -1. -1. -1. -1. -1.  1.\n",
      "   1. -1. -1. -1. -1.  0.  0.  0.  0.  0.]\n",
      " [ 1.  0.  1. -1.  1.  1. -1.  0. -1. -1.  1.  1. -1. -1. -1. -1. -1.  1.\n",
      "   1. -1. -1. -1. -1.  0.  0.  0.  0.  0.]\n",
      " [ 1.  0.  1. -1.  1.  1. -1.  0. -1. -1.  1.  1. -1. -1.  1. -1. -1. -1.\n",
      "   0.  0.  0. -1. -1.  0.  0.  0.  0.  0.]\n",
      " [ 1.  0.  1. -1.  1.  1.  1.  0.  1. -1. -1.  1. -1. -1. -1. -1. -1.  1.\n",
      "   1. -1. -1.  1. -1.  0.  0.  0.  0.  0.]\n",
      " [ 1.  0.  1. -1.  1. -1. -1. -1. -1. -1. -1. -1. -1.  1. -1. -1. -1. -1.\n",
      "   0.  0.  0. -1. -1.  0.  0.  0.  0.  0.]\n",
      " [ 1.  0.  1. -1.  1. -1. -1. -1. -1. -1. -1. -1. -1. -1. -1. -1. -1.  1.\n",
      "  -1.  1. -1. -1.  1.  1. -1.  1. -1.  0.]\n",
      " [ 1.  0.  1. -1.  1. -1. -1. -1. -1. -1. -1. -1. -1. -1. -1. -1. -1. -1.\n",
      "   0.  0.  0. -1.  1.  1. -1.  0.  0.  0.]\n",
      " [ 1.  0.  1. -1.  1. -1. -1. -1. -1. -1. -1.  1. -1. -1. -1. -1. -1. -1.\n",
      "   0.  0.  0. -1.  1.  1. -1.  0.  0.  0.]\n",
      " [ 1.  0.  1. -1.  1. -1.  1.  1. -1. -1. -1.  1. -1. -1. -1. -1. -1.  1.\n",
      "   1. -1.  1. -1. -1.  0.  0.  0.  0.  0.]\n",
      " [ 1.  0.  1. -1.  1. -1. -1. -1. -1. -1. -1. -1. -1. -1. -1. -1. -1.  1.\n",
      "   1. -1. -1. -1. -1.  0.  0.  0.  0.  0.]\n",
      " [ 1.  0.  1. -1.  1. -1.  1.  1. -1. -1. -1. -1. -1. -1. -1. -1. -1.  1.\n",
      "   1. -1.  1. -1. -1.  0.  0.  0.  0.  0.]\n",
      " [ 1.  0.  1. -1.  1. -1. -1. -1. -1. -1. -1. -1. -1. -1.  1. -1. -1. -1.\n",
      "   0.  0.  0. -1. -1.  0.  0.  0.  0.  0.]\n",
      " [ 1.  0.  1. -1.  1. -1.  1.  1. -1. -1. -1. -1. -1. -1.  1. -1.  1. -1.\n",
      "   0.  0.  0. -1. -1.  0.  0.  0.  0.  0.]\n",
      " [ 1.  0.  1. -1.  1. -1. -1. -1. -1. -1. -1.  1. -1. -1. -1. -1. -1.  1.\n",
      "   1. -1. -1. -1. -1.  0.  0.  0.  0.  0.]\n",
      " [ 1.  0.  1. -1.  1. -1. -1. -1. -1. -1. -1.  1. -1. -1.  1. -1. -1. -1.\n",
      "   0.  0.  0. -1. -1.  0.  0.  0.  0.  0.]\n",
      " [ 1.  0.  1. -1.  1. -1. -1.  1. -1. -1. -1.  1. -1. -1. -1. -1. -1.  1.\n",
      "   1. -1.  1. -1. -1.  0.  0.  0.  0.  0.]\n",
      " [ 1.  0.  1. -1.  1. -1. -1.  1. -1. -1. -1. -1. -1. -1. -1. -1. -1.  1.\n",
      "   1. -1.  1. -1. -1.  0.  0.  0.  0.  0.]\n",
      " [ 1.  0.  1. -1. -1. -1.  1.  1. -1. -1. -1. -1.  1. -1. -1. -1. -1. -1.\n",
      "   0.  0.  0. -1. -1.  0.  0.  0.  0.  0.]]\n",
      "['sym', 'begin/end', 'C/V', 'syllabic', 'consonantal', 'sonorant', 'continuant', 'delayed.release', 'approximant', 'trill', 'nasal', 'voice', 'spread.gl', 'constr.gl', 'LABIAL', 'round', 'labiodental', 'CORONAL', 'anterior', 'distributed', 'strident', 'lateral', 'DORSAL', 'high', 'low', 'front', 'back', 'tense']\n"
     ]
    }
   ],
   "source": [
    "args = types.SimpleNamespace()\n",
    "args.data = 'chamorro/chamorro_um'\n",
    "args.features = 'hayes_features'\n",
    "args.reduplication = False\n",
    "args.global_config = '../global_config.yaml'\n",
    "tensormorph.init(args)\n",
    "form_embedder = config.form_embedder\n",
    "decoder = config.decoder\n",
    "print(config.ftrs)"
   ]
  },
  {
   "cell_type": "code",
   "execution_count": 28,
   "metadata": {},
   "outputs": [
    {
     "name": "stdout",
     "output_type": "stream",
     "text": [
      "['⋊ d a ŋ k u l u ⋉'] -> ['⋊ d u m a ŋ k u l u ⋉']\n"
     ]
    },
    {
     "data": {
      "text/plain": [
       "<matplotlib.image.AxesImage at 0x12be4ffd0>"
      ]
     },
     "execution_count": 28,
     "metadata": {},
     "output_type": "execute_result"
    },
    {
     "data": {
      "image/png": "[encoded data removed]",
      "text/plain": [
       "<Figure size 432x288 with 1 Axes>"
      ]
     },
     "metadata": {
      "needs_background": "light"
     },
     "output_type": "display_data"
    }
   ],
   "source": [
    "stem_str = ['d a ŋ k u l u']\n",
    "output_str = ['d u m a ŋ k u l u']\n",
    "stem_str = form_embedder.string2delim(stem_str, split=False)\n",
    "output_str = form_embedder.string2delim(output_str, split=False)\n",
    "stem = Morph(form_str = stem_str)\n",
    "output = Morph(form_str = output_str)\n",
    "print(stem.form_str, '->', output.form_str)\n",
    "plt.imshow(output.form[0])"
   ]
  },
  {
   "cell_type": "code",
   "execution_count": 21,
   "metadata": {},
   "outputs": [
    {
     "name": "stdout",
     "output_type": "stream",
     "text": [
      "['⋊ d a ŋ k u l u ⋉'] -> ['⋊ d u m a ŋ k u l u ⋉']\n"
     ]
    },
    {
     "ename": "RuntimeError",
     "evalue": "Can't call numpy() on Variable that requires grad. Use var.detach().numpy() instead.",
     "output_type": "error",
     "traceback": [
      "\u001b[0;31m---------------------------------------------------------------------------\u001b[0m",
      "\u001b[0;31mRuntimeError\u001b[0m                              Traceback (most recent call last)",
      "\u001b[0;32m<ipython-input-21-fd6d00359741>\u001b[0m in \u001b[0;36m<module>\u001b[0;34m\u001b[0m\n\u001b[1;32m     22\u001b[0m \u001b[0;31m#print(best[0])\u001b[0m\u001b[0;34m\u001b[0m\u001b[0;34m\u001b[0m\u001b[0;34m\u001b[0m\u001b[0m\n\u001b[1;32m     23\u001b[0m \u001b[0mplt\u001b[0m\u001b[0;34m.\u001b[0m\u001b[0mimshow\u001b[0m\u001b[0;34m(\u001b[0m\u001b[0mbest\u001b[0m\u001b[0;34m[\u001b[0m\u001b[0;36m0\u001b[0m\u001b[0;34m]\u001b[0m\u001b[0;34m)\u001b[0m\u001b[0;34m\u001b[0m\u001b[0;34m\u001b[0m\u001b[0m\n\u001b[0;32m---> 24\u001b[0;31m \u001b[0mplt\u001b[0m\u001b[0;34m.\u001b[0m\u001b[0mimshow\u001b[0m\u001b[0;34m(\u001b[0m\u001b[0mdistrib\u001b[0m\u001b[0;34m.\u001b[0m\u001b[0mmarginals\u001b[0m\u001b[0;34m[\u001b[0m\u001b[0;36m0\u001b[0m\u001b[0;34m]\u001b[0m\u001b[0;34m)\u001b[0m\u001b[0;34m\u001b[0m\u001b[0;34m\u001b[0m\u001b[0m\n\u001b[0m\u001b[1;32m     25\u001b[0m \u001b[0msamp\u001b[0m \u001b[0;34m=\u001b[0m \u001b[0mdistrib\u001b[0m\u001b[0;34m.\u001b[0m\u001b[0msample\u001b[0m\u001b[0;34m(\u001b[0m\u001b[0msample_shape\u001b[0m \u001b[0;34m=\u001b[0m \u001b[0;34m(\u001b[0m\u001b[0;36m1\u001b[0m\u001b[0;34m,\u001b[0m\u001b[0;34m)\u001b[0m\u001b[0;34m)\u001b[0m\u001b[0;34m\u001b[0m\u001b[0;34m\u001b[0m\u001b[0m\n\u001b[1;32m     26\u001b[0m \u001b[0;31m#plt.imshow(dist.sample(sample_shape=(1,))[0])\u001b[0m\u001b[0;34m\u001b[0m\u001b[0;34m\u001b[0m\u001b[0;34m\u001b[0m\u001b[0m\n",
      "\u001b[0;32m/Library/anaconda3/lib/python3.7/site-packages/matplotlib/pyplot.py\u001b[0m in \u001b[0;36mimshow\u001b[0;34m(X, cmap, norm, aspect, interpolation, alpha, vmin, vmax, origin, extent, shape, filternorm, filterrad, imlim, resample, url, data, **kwargs)\u001b[0m\n\u001b[1;32m   2682\u001b[0m         \u001b[0mfilternorm\u001b[0m\u001b[0;34m=\u001b[0m\u001b[0mfilternorm\u001b[0m\u001b[0;34m,\u001b[0m \u001b[0mfilterrad\u001b[0m\u001b[0;34m=\u001b[0m\u001b[0mfilterrad\u001b[0m\u001b[0;34m,\u001b[0m \u001b[0mimlim\u001b[0m\u001b[0;34m=\u001b[0m\u001b[0mimlim\u001b[0m\u001b[0;34m,\u001b[0m\u001b[0;34m\u001b[0m\u001b[0;34m\u001b[0m\u001b[0m\n\u001b[1;32m   2683\u001b[0m         resample=resample, url=url, **({\"data\": data} if data is not\n\u001b[0;32m-> 2684\u001b[0;31m         None else {}), **kwargs)\n\u001b[0m\u001b[1;32m   2685\u001b[0m     \u001b[0msci\u001b[0m\u001b[0;34m(\u001b[0m\u001b[0m__ret\u001b[0m\u001b[0;34m)\u001b[0m\u001b[0;34m\u001b[0m\u001b[0;34m\u001b[0m\u001b[0m\n\u001b[1;32m   2686\u001b[0m     \u001b[0;32mreturn\u001b[0m \u001b[0m__ret\u001b[0m\u001b[0;34m\u001b[0m\u001b[0;34m\u001b[0m\u001b[0m\n",
      "\u001b[0;32m/Library/anaconda3/lib/python3.7/site-packages/matplotlib/__init__.py\u001b[0m in \u001b[0;36minner\u001b[0;34m(ax, data, *args, **kwargs)\u001b[0m\n\u001b[1;32m   1597\u001b[0m     \u001b[0;32mdef\u001b[0m \u001b[0minner\u001b[0m\u001b[0;34m(\u001b[0m\u001b[0max\u001b[0m\u001b[0;34m,\u001b[0m \u001b[0;34m*\u001b[0m\u001b[0margs\u001b[0m\u001b[0;34m,\u001b[0m \u001b[0mdata\u001b[0m\u001b[0;34m=\u001b[0m\u001b[0;32mNone\u001b[0m\u001b[0;34m,\u001b[0m \u001b[0;34m**\u001b[0m\u001b[0mkwargs\u001b[0m\u001b[0;34m)\u001b[0m\u001b[0;34m:\u001b[0m\u001b[0;34m\u001b[0m\u001b[0;34m\u001b[0m\u001b[0m\n\u001b[1;32m   1598\u001b[0m         \u001b[0;32mif\u001b[0m \u001b[0mdata\u001b[0m \u001b[0;32mis\u001b[0m \u001b[0;32mNone\u001b[0m\u001b[0;34m:\u001b[0m\u001b[0;34m\u001b[0m\u001b[0;34m\u001b[0m\u001b[0m\n\u001b[0;32m-> 1599\u001b[0;31m             \u001b[0;32mreturn\u001b[0m \u001b[0mfunc\u001b[0m\u001b[0;34m(\u001b[0m\u001b[0max\u001b[0m\u001b[0;34m,\u001b[0m \u001b[0;34m*\u001b[0m\u001b[0mmap\u001b[0m\u001b[0;34m(\u001b[0m\u001b[0msanitize_sequence\u001b[0m\u001b[0;34m,\u001b[0m \u001b[0margs\u001b[0m\u001b[0;34m)\u001b[0m\u001b[0;34m,\u001b[0m \u001b[0;34m**\u001b[0m\u001b[0mkwargs\u001b[0m\u001b[0;34m)\u001b[0m\u001b[0;34m\u001b[0m\u001b[0;34m\u001b[0m\u001b[0m\n\u001b[0m\u001b[1;32m   1600\u001b[0m \u001b[0;34m\u001b[0m\u001b[0m\n\u001b[1;32m   1601\u001b[0m         \u001b[0mbound\u001b[0m \u001b[0;34m=\u001b[0m \u001b[0mnew_sig\u001b[0m\u001b[0;34m.\u001b[0m\u001b[0mbind\u001b[0m\u001b[0;34m(\u001b[0m\u001b[0max\u001b[0m\u001b[0;34m,\u001b[0m \u001b[0;34m*\u001b[0m\u001b[0margs\u001b[0m\u001b[0;34m,\u001b[0m \u001b[0;34m**\u001b[0m\u001b[0mkwargs\u001b[0m\u001b[0;34m)\u001b[0m\u001b[0;34m\u001b[0m\u001b[0;34m\u001b[0m\u001b[0m\n",
      "\u001b[0;32m/Library/anaconda3/lib/python3.7/site-packages/matplotlib/cbook/deprecation.py\u001b[0m in \u001b[0;36mwrapper\u001b[0;34m(*args, **kwargs)\u001b[0m\n\u001b[1;32m    367\u001b[0m                 \u001b[0;34mf\"%(removal)s.  If any parameter follows {name!r}, they \"\u001b[0m\u001b[0;34m\u001b[0m\u001b[0;34m\u001b[0m\u001b[0m\n\u001b[1;32m    368\u001b[0m                 f\"should be pass as keyword, not positionally.\")\n\u001b[0;32m--> 369\u001b[0;31m         \u001b[0;32mreturn\u001b[0m \u001b[0mfunc\u001b[0m\u001b[0;34m(\u001b[0m\u001b[0;34m*\u001b[0m\u001b[0margs\u001b[0m\u001b[0;34m,\u001b[0m \u001b[0;34m**\u001b[0m\u001b[0mkwargs\u001b[0m\u001b[0;34m)\u001b[0m\u001b[0;34m\u001b[0m\u001b[0;34m\u001b[0m\u001b[0m\n\u001b[0m\u001b[1;32m    370\u001b[0m \u001b[0;34m\u001b[0m\u001b[0m\n\u001b[1;32m    371\u001b[0m     \u001b[0;32mreturn\u001b[0m \u001b[0mwrapper\u001b[0m\u001b[0;34m\u001b[0m\u001b[0;34m\u001b[0m\u001b[0m\n",
      "\u001b[0;32m/Library/anaconda3/lib/python3.7/site-packages/matplotlib/cbook/deprecation.py\u001b[0m in \u001b[0;36mwrapper\u001b[0;34m(*args, **kwargs)\u001b[0m\n\u001b[1;32m    367\u001b[0m                 \u001b[0;34mf\"%(removal)s.  If any parameter follows {name!r}, they \"\u001b[0m\u001b[0;34m\u001b[0m\u001b[0;34m\u001b[0m\u001b[0m\n\u001b[1;32m    368\u001b[0m                 f\"should be pass as keyword, not positionally.\")\n\u001b[0;32m--> 369\u001b[0;31m         \u001b[0;32mreturn\u001b[0m \u001b[0mfunc\u001b[0m\u001b[0;34m(\u001b[0m\u001b[0;34m*\u001b[0m\u001b[0margs\u001b[0m\u001b[0;34m,\u001b[0m \u001b[0;34m**\u001b[0m\u001b[0mkwargs\u001b[0m\u001b[0;34m)\u001b[0m\u001b[0;34m\u001b[0m\u001b[0;34m\u001b[0m\u001b[0m\n\u001b[0m\u001b[1;32m    370\u001b[0m \u001b[0;34m\u001b[0m\u001b[0m\n\u001b[1;32m    371\u001b[0m     \u001b[0;32mreturn\u001b[0m \u001b[0mwrapper\u001b[0m\u001b[0;34m\u001b[0m\u001b[0;34m\u001b[0m\u001b[0m\n",
      "\u001b[0;32m/Library/anaconda3/lib/python3.7/site-packages/matplotlib/axes/_axes.py\u001b[0m in \u001b[0;36mimshow\u001b[0;34m(self, X, cmap, norm, aspect, interpolation, alpha, vmin, vmax, origin, extent, shape, filternorm, filterrad, imlim, resample, url, **kwargs)\u001b[0m\n\u001b[1;32m   5677\u001b[0m                               resample=resample, **kwargs)\n\u001b[1;32m   5678\u001b[0m \u001b[0;34m\u001b[0m\u001b[0m\n\u001b[0;32m-> 5679\u001b[0;31m         \u001b[0mim\u001b[0m\u001b[0;34m.\u001b[0m\u001b[0mset_data\u001b[0m\u001b[0;34m(\u001b[0m\u001b[0mX\u001b[0m\u001b[0;34m)\u001b[0m\u001b[0;34m\u001b[0m\u001b[0;34m\u001b[0m\u001b[0m\n\u001b[0m\u001b[1;32m   5680\u001b[0m         \u001b[0mim\u001b[0m\u001b[0;34m.\u001b[0m\u001b[0mset_alpha\u001b[0m\u001b[0;34m(\u001b[0m\u001b[0malpha\u001b[0m\u001b[0;34m)\u001b[0m\u001b[0;34m\u001b[0m\u001b[0;34m\u001b[0m\u001b[0m\n\u001b[1;32m   5681\u001b[0m         \u001b[0;32mif\u001b[0m \u001b[0mim\u001b[0m\u001b[0;34m.\u001b[0m\u001b[0mget_clip_path\u001b[0m\u001b[0;34m(\u001b[0m\u001b[0;34m)\u001b[0m \u001b[0;32mis\u001b[0m \u001b[0;32mNone\u001b[0m\u001b[0;34m:\u001b[0m\u001b[0;34m\u001b[0m\u001b[0;34m\u001b[0m\u001b[0m\n",
      "\u001b[0;32m/Library/anaconda3/lib/python3.7/site-packages/matplotlib/image.py\u001b[0m in \u001b[0;36mset_data\u001b[0;34m(self, A)\u001b[0m\n\u001b[1;32m    678\u001b[0m             \u001b[0;32mif\u001b[0m \u001b[0misinstance\u001b[0m\u001b[0;34m(\u001b[0m\u001b[0mA\u001b[0m\u001b[0;34m,\u001b[0m \u001b[0mImage\u001b[0m\u001b[0;34m.\u001b[0m\u001b[0mImage\u001b[0m\u001b[0;34m)\u001b[0m\u001b[0;34m:\u001b[0m\u001b[0;34m\u001b[0m\u001b[0;34m\u001b[0m\u001b[0m\n\u001b[1;32m    679\u001b[0m                 \u001b[0mA\u001b[0m \u001b[0;34m=\u001b[0m \u001b[0mpil_to_array\u001b[0m\u001b[0;34m(\u001b[0m\u001b[0mA\u001b[0m\u001b[0;34m)\u001b[0m  \u001b[0;31m# Needed e.g. to apply png palette.\u001b[0m\u001b[0;34m\u001b[0m\u001b[0;34m\u001b[0m\u001b[0m\n\u001b[0;32m--> 680\u001b[0;31m         \u001b[0mself\u001b[0m\u001b[0;34m.\u001b[0m\u001b[0m_A\u001b[0m \u001b[0;34m=\u001b[0m \u001b[0mcbook\u001b[0m\u001b[0;34m.\u001b[0m\u001b[0msafe_masked_invalid\u001b[0m\u001b[0;34m(\u001b[0m\u001b[0mA\u001b[0m\u001b[0;34m,\u001b[0m \u001b[0mcopy\u001b[0m\u001b[0;34m=\u001b[0m\u001b[0;32mTrue\u001b[0m\u001b[0;34m)\u001b[0m\u001b[0;34m\u001b[0m\u001b[0;34m\u001b[0m\u001b[0m\n\u001b[0m\u001b[1;32m    681\u001b[0m \u001b[0;34m\u001b[0m\u001b[0m\n\u001b[1;32m    682\u001b[0m         if (self._A.dtype != np.uint8 and\n",
      "\u001b[0;32m/Library/anaconda3/lib/python3.7/site-packages/matplotlib/cbook/__init__.py\u001b[0m in \u001b[0;36msafe_masked_invalid\u001b[0;34m(x, copy)\u001b[0m\n\u001b[1;32m    793\u001b[0m \u001b[0;34m\u001b[0m\u001b[0m\n\u001b[1;32m    794\u001b[0m \u001b[0;32mdef\u001b[0m \u001b[0msafe_masked_invalid\u001b[0m\u001b[0;34m(\u001b[0m\u001b[0mx\u001b[0m\u001b[0;34m,\u001b[0m \u001b[0mcopy\u001b[0m\u001b[0;34m=\u001b[0m\u001b[0;32mFalse\u001b[0m\u001b[0;34m)\u001b[0m\u001b[0;34m:\u001b[0m\u001b[0;34m\u001b[0m\u001b[0;34m\u001b[0m\u001b[0m\n\u001b[0;32m--> 795\u001b[0;31m     \u001b[0mx\u001b[0m \u001b[0;34m=\u001b[0m \u001b[0mnp\u001b[0m\u001b[0;34m.\u001b[0m\u001b[0marray\u001b[0m\u001b[0;34m(\u001b[0m\u001b[0mx\u001b[0m\u001b[0;34m,\u001b[0m \u001b[0msubok\u001b[0m\u001b[0;34m=\u001b[0m\u001b[0;32mTrue\u001b[0m\u001b[0;34m,\u001b[0m \u001b[0mcopy\u001b[0m\u001b[0;34m=\u001b[0m\u001b[0mcopy\u001b[0m\u001b[0;34m)\u001b[0m\u001b[0;34m\u001b[0m\u001b[0;34m\u001b[0m\u001b[0m\n\u001b[0m\u001b[1;32m    796\u001b[0m     \u001b[0;32mif\u001b[0m \u001b[0;32mnot\u001b[0m \u001b[0mx\u001b[0m\u001b[0;34m.\u001b[0m\u001b[0mdtype\u001b[0m\u001b[0;34m.\u001b[0m\u001b[0misnative\u001b[0m\u001b[0;34m:\u001b[0m\u001b[0;34m\u001b[0m\u001b[0;34m\u001b[0m\u001b[0m\n\u001b[1;32m    797\u001b[0m         \u001b[0;31m# Note that the argument to `byteswap` is 'inplace',\u001b[0m\u001b[0;34m\u001b[0m\u001b[0;34m\u001b[0m\u001b[0;34m\u001b[0m\u001b[0m\n",
      "\u001b[0;32m/Library/anaconda3/lib/python3.7/site-packages/torch/tensor.py\u001b[0m in \u001b[0;36m__array__\u001b[0;34m(self, dtype)\u001b[0m\n\u001b[1;32m    490\u001b[0m     \u001b[0;32mdef\u001b[0m \u001b[0m__array__\u001b[0m\u001b[0;34m(\u001b[0m\u001b[0mself\u001b[0m\u001b[0;34m,\u001b[0m \u001b[0mdtype\u001b[0m\u001b[0;34m=\u001b[0m\u001b[0;32mNone\u001b[0m\u001b[0;34m)\u001b[0m\u001b[0;34m:\u001b[0m\u001b[0;34m\u001b[0m\u001b[0;34m\u001b[0m\u001b[0m\n\u001b[1;32m    491\u001b[0m         \u001b[0;32mif\u001b[0m \u001b[0mdtype\u001b[0m \u001b[0;32mis\u001b[0m \u001b[0;32mNone\u001b[0m\u001b[0;34m:\u001b[0m\u001b[0;34m\u001b[0m\u001b[0;34m\u001b[0m\u001b[0m\n\u001b[0;32m--> 492\u001b[0;31m             \u001b[0;32mreturn\u001b[0m \u001b[0mself\u001b[0m\u001b[0;34m.\u001b[0m\u001b[0mnumpy\u001b[0m\u001b[0;34m(\u001b[0m\u001b[0;34m)\u001b[0m\u001b[0;34m\u001b[0m\u001b[0;34m\u001b[0m\u001b[0m\n\u001b[0m\u001b[1;32m    493\u001b[0m         \u001b[0;32melse\u001b[0m\u001b[0;34m:\u001b[0m\u001b[0;34m\u001b[0m\u001b[0;34m\u001b[0m\u001b[0m\n\u001b[1;32m    494\u001b[0m             \u001b[0;32mreturn\u001b[0m \u001b[0mself\u001b[0m\u001b[0;34m.\u001b[0m\u001b[0mnumpy\u001b[0m\u001b[0;34m(\u001b[0m\u001b[0;34m)\u001b[0m\u001b[0;34m.\u001b[0m\u001b[0mastype\u001b[0m\u001b[0;34m(\u001b[0m\u001b[0mdtype\u001b[0m\u001b[0;34m,\u001b[0m \u001b[0mcopy\u001b[0m\u001b[0;34m=\u001b[0m\u001b[0;32mFalse\u001b[0m\u001b[0;34m)\u001b[0m\u001b[0;34m\u001b[0m\u001b[0;34m\u001b[0m\u001b[0m\n",
      "\u001b[0;31mRuntimeError\u001b[0m: Can't call numpy() on Variable that requires grad. Use var.detach().numpy() instead."
     ]
    },
    {
     "data": {
      "image/png": "[encoded data removed]",
      "text/plain": [
       "<Figure size 432x288 with 1 Axes>"
      ]
     },
     "metadata": {
      "needs_background": "light"
     },
     "output_type": "display_data"
    }
   ],
   "source": [
    "nbatch = stem.form.shape[0]\n",
    "lengths = torch.tensor([stem.length[0], output.length[0]])\n",
    "max_len = max(lengths.numpy())\n",
    "dist = distance.sqeuclid_batch(stem.form, output.form[0])\n",
    "log_potentials = -1.0 * torch.ones((nbatch, config.nrole, config.nrole, 3))\n",
    "log_potentials[0,:,:,1] = -dist # cost of diagonal\n",
    "log_potentials = log_potentials[:,:max_len,:,:]\n",
    "log_potentials = log_potentials[:,:,:max_len,:]\n",
    "\n",
    "plt.imshow(log_potentials[0,:,:,1])\n",
    "distrib = torch_struct.AlignmentCRF(log_potentials) #, local=True, max_gap=1\n",
    "best = distrib.argmax\n",
    "#print(best[0])\n",
    "plt.imshow(best[0])\n",
    "plt.imshow(distrib.marginals[0])\n",
    "samp = distrib.sample(sample_shape = (1,))\n",
    "#plt.imshow(dist.sample(sample_shape=(1,))[0])"
   ]
  },
  {
   "cell_type": "code",
   "execution_count": 29,
   "metadata": {},
   "outputs": [
    {
     "name": "stdout",
     "output_type": "stream",
     "text": [
      "⋊d--aŋkulu⋉\n",
      "||--|||||||\n",
      "⋊dumaŋkulu⋉\n"
     ]
    }
   ],
   "source": [
    "# Example of rule extraction from alignments\n",
    "import edlib\n",
    "\n",
    "# 1. Align stem and output\n",
    "input_str = stem_str[0].replace(' ', '')\n",
    "output_str = output_str[0].replace(' ', '')\n",
    "result = edlib.align(input_str, output_str, task = \"path\")\n",
    "nice = edlib.getNiceAlignment(result, input_str, output_str)\n",
    "nice = '\\n'.join(nice.values())\n",
    "print(nice)\n",
    "\n",
    "# 2. Extract affix material from alignmnent\n",
    "# 3. Identify candidate pivot points for affixation\n",
    "# 4. Accumulate over examples, resolving indeterminacies"
   ]
  },
  {
   "cell_type": "code",
   "execution_count": null,
   "metadata": {},
   "outputs": [],
   "source": []
  }
 ],
 "metadata": {
  "kernelspec": {
   "display_name": "Python 3",
   "language": "python",
   "name": "python3"
  },
  "language_info": {
   "codemirror_mode": {
    "name": "ipython",
    "version": 3
   },
   "file_extension": ".py",
   "mimetype": "text/x-python",
   "name": "python",
   "nbconvert_exporter": "python",
   "pygments_lexer": "ipython3",
   "version": "3.7.7"
  }
 },
 "nbformat": 4,
 "nbformat_minor": 4
}
