{
 "cells": [
  {
   "cell_type": "code",
   "execution_count": 21,
   "metadata": {},
   "outputs": [
    {
     "name": "stdout",
     "output_type": "stream",
     "text": [
      "done\n"
     ]
    }
   ],
   "source": [
    "%matplotlib inline\n",
    "import matplotlib\n",
    "import matplotlib.pyplot as plt\n",
    "import seaborn as sns\n",
    "sns.set_palette('deep')\n",
    "sns.set_context('notebook')\n",
    "\n",
    "import pandas as pd\n",
    "import numpy as np\n",
    "import numpy.random as random\n",
    "import re, sys\n",
    "\n",
    "from sklearn.model_selection import train_test_split\n",
    "#from leven import levenshtein\n",
    "\n",
    "import torch\n",
    "import torch.nn\n",
    "from torch import optim\n",
    "from torch.nn import Parameter\n",
    "from torch.autograd import Variable\n",
    "from torch.nn.functional import hardtanh\n",
    "\n",
    "import radial_basis, tpr_global, tpr_ops, tpr_pivoter, tpr_encoder, tpr_decoder, tpr_redup\n",
    "radial_basis = reload(radial_basis)\n",
    "tpr_global = reload(tpr_global)\n",
    "tpr_ops = reload(tpr_ops)\n",
    "tpr_pivoter = reload(tpr_pivoter)\n",
    "tpr_encoder = reload(tpr_encoder)\n",
    "tpr_decoder = reload(tpr_decoder)\n",
    "tpr_reduper = reload(tpr_redup)\n",
    "from radial_basis import *\n",
    "from tpr_global import *\n",
    "from tpr_ops import *\n",
    "from tpr_pivoter import *\n",
    "from tpr_encoder import *\n",
    "from tpr_decoder import *\n",
    "from tpr_redup import *\n",
    "\n",
    "print 'done'"
   ]
  },
  {
   "cell_type": "code",
   "execution_count": 22,
   "metadata": {},
   "outputs": [],
   "source": [
    "#help(pd.read_table)"
   ]
  },
  {
   "cell_type": "code",
   "execution_count": 29,
   "metadata": {},
   "outputs": [
    {
     "name": "stdout",
     "output_type": "stream",
     "text": [
      "importing data\n",
      "              stem                           output       output_gloss\n",
      "0    b a ʔ i s e n      b a ʔ i s e n b a ʔ i s e n     as he came out\n",
      "1    b a g a w e n      b a g a w e n b a g a w e n      as he pierced\n",
      "2        b a s e n              b a s e n b a s e n  as she gave birth\n",
      "3            b e n                      b e n b e n     as he came out\n",
      "4  b e l e i g i n  b e l e i g i n b e l e i g i n       as they went\n",
      "number of stem-output pairs: 101\n"
     ]
    }
   ],
   "source": [
    "print 'importing data'\n",
    "\n",
    "# select data set, initialize global variables\n",
    "data_select = 2\n",
    "datadir = '~/Dropbox/TensorProductStringToStringMapping/'\n",
    "if data_select == 1:\n",
    "    datfile = '~/Dropbox/AlbrightHayes2003/RuleBasedLearnerEnglishFiles/CELEXverbs.txt'\n",
    "    dat = pd.read_table(datfile, sep='\\t', header=-1)\n",
    "    dat.columns = ['freq', 'stem', 'output', 'type']\n",
    "    dat['stem'] = [str(x).lower() for x in dat.stem]\n",
    "    dat['output'] = [x+x for x in dat.stem] # complete redup\n",
    "    dat = dat[(dat.stem.str.len() <= 6)]\n",
    "    dat = dat.reset_index()\n",
    "    dat['stem'] = [string2sep(x) for x in dat.stem]\n",
    "    dat['output'] = [string2sep(x) for x in dat.output]\n",
    "\n",
    "    from string import ascii_lowercase\n",
    "    syms  = [x for x in ascii_lowercase]\n",
    "if data_select == 2:\n",
    "    datfile = datadir + 'coling2018/data/amele_verb_cv/dat.csv'\n",
    "    dat = pd.read_table(datfile, sep=',', header=0, encoding='utf-8')\n",
    "    vowels = ['a', 'e', 'i', 'o', 'u']\n",
    "    dat['output'] = [x+' '+x for x in dat.stem]\n",
    "\n",
    "print dat.head()\n",
    "print 'number of stem-output pairs:', len(dat)"
   ]
  },
  {
   "cell_type": "code",
   "execution_count": 30,
   "metadata": {},
   "outputs": [
    {
     "name": "stdout",
     "output_type": "stream",
     "text": [
      "symbol set (n = 21):\n",
      "⋊ a b d e f g gb h i j l m n o s t u w ʔ ⋉\n",
      "21 24 25 25\n"
     ]
    },
    {
     "data": {
      "image/png": "[encoded data removed]",
      "text/plain": [
       "<matplotlib.figure.Figure at 0x1a21d50bd0>"
      ]
     },
     "metadata": {},
     "output_type": "display_data"
    }
   ],
   "source": [
    "# collect symbols from data\n",
    "syms = set([x for y in dat.output for x in y.split(' ')])\n",
    "syms = sorted([x for x in syms])\n",
    "rando = [False, True][0]\n",
    "\n",
    "tpr_global.init(syms, vowels_=vowels, nrole_=25, random_fillers=rando, random_roles=rando); tpr_ops.init()\n",
    "syms, sym2id, nfill, nrole = tpr_global.syms, tpr_global.sym2id, tpr_global.nfill, tpr_global.nrole\n",
    "dfill, drole = tpr_global.dfill, tpr_global.drole\n",
    "print 'symbol set (n = '+ str(len(syms)) +'):'\n",
    "for i in xrange(len(syms)):\n",
    "    print syms[i],\n",
    "print\n",
    "print nfill, dfill, nrole, drole\n",
    "\n",
    "sns.heatmap(tpr_global.F.data.numpy(), xticklabels=syms)\n",
    "plt.show()"
   ]
  },
  {
   "cell_type": "code",
   "execution_count": 31,
   "metadata": {},
   "outputs": [],
   "source": [
    "# train and test split\n",
    "def make_split(dat, test_size=0.5):\n",
    "    train, test = train_test_split(dat, test_size=0.5)\n",
    "    return train, test\n",
    "\n",
    "def make_batch(dat, nbatch=20, debug=0):\n",
    "    batch = dat.sample(nbatch)\n",
    "    stems = [x for x in batch['stem']]\n",
    "    stems = [string2delim(x) for x in stems]\n",
    "\n",
    "    targs = [x for x in batch['output']]\n",
    "    targs = [string2delim(x) for x in targs]\n",
    "\n",
    "    Stems = Variable(torch.zeros(nbatch, dfill, nrole))\n",
    "    for i,stemi in enumerate(stems):\n",
    "        Stems.data[i,:,:] = string2tpr(stemi, False)\n",
    "        if debug:\n",
    "            print '__'+stemi+'__', '->',\n",
    "    \n",
    "    targ_len = [0]*nbatch\n",
    "    Targs = Variable(torch.LongTensor(nbatch,nrole))\n",
    "    Targs.data[:] = -1\n",
    "    for i,targi in enumerate(targs):\n",
    "        x = string2vec(targi, False)\n",
    "        targ_len[i] = len(x)\n",
    "        Targs.data[i,0:len(x)] = torch.LongTensor(x)\n",
    "        if debug:\n",
    "            print '__'+targi+'__'\n",
    "    \n",
    "    max_targ_len = np.max(np.array([len(x.split(' ')) for x in targs]))\n",
    "    #print 'max target length:', max_targ_len\n",
    "    if max_targ_len >= nrole:\n",
    "        print 'error: max target length >= nrole'\n",
    "        sys.exit(0)\n",
    "    return stems, targs, Stems, Targs, targ_len\n",
    "\n",
    "def get_accuracy(dat, affixer, decoder, exact_only=True):\n",
    "    stems, targs, Stems, Targs, targ_len = make_batch(dat, len(dat))\n",
    "    out = affixer(Stems, max_len=max(targ_len))\n",
    "    out = decoder.decode(out)\n",
    "    accuracy, avg_mismatch, n = 0.0, 0.0, len(dat)\n",
    "    errors = []\n",
    "    for i in xrange(n):\n",
    "        outi = out[i] \n",
    "        targi = targs[i]\n",
    "        #print stems[i], outi, '['+ targi +']'\n",
    "        if outi == targi:\n",
    "            accuracy += 1.0\n",
    "        else:\n",
    "            errors.append((outi, targi))\n",
    "        if exact_only:\n",
    "            continue\n",
    "        outi = outi.split(' ')\n",
    "        targi = targi.split(' ')\n",
    "        nout, ntarg = len(outi), len(targi)\n",
    "        p = nout if nout<=ntarg else ntarg\n",
    "        avg_mismatch += np.sum([1.0 if targi[j] != outi[j] else 0.0 for j in xrange(p)])\n",
    "        avg_mismatch += np.abs(nout-ntarg)\n",
    "    accuracy = np.round(accuracy / float(n), 3)\n",
    "    if exact_only:\n",
    "        return accuracy\n",
    "    avg_mismatch = np.round(avg_mismatch / float(n), 3)\n",
    "    print errors\n",
    "    return (accuracy, avg_mismatch)"
   ]
  },
  {
   "cell_type": "code",
   "execution_count": 32,
   "metadata": {},
   "outputs": [
    {
     "name": "stdout",
     "output_type": "stream",
     "text": [
      "done\n",
      "done\n",
      "torch.Size([24, 21])\n",
      "⋊ h a g a l e n ⋉ -> ⋊ h a g a l e n h a g a l e n ⋉\n"
     ]
    }
   ],
   "source": [
    "# test batch construction for current data set\n",
    "stems, targs, Stems, Targs, targ_len = make_batch(dat, len(dat), 0)\n",
    "print 'done'\n",
    "\n",
    "affixer = Reduplicator()\n",
    "affixer.pivoter.init_prefix()\n",
    "affixer.delimiter.init_full()\n",
    "affixer.morph_attender.tau.data[:] = 5.0\n",
    "affixer.posn_attender.tau.data[:] = 5.0\n",
    "decoder = Decoder()\n",
    "max_len = max(targ_len)\n",
    "out = affixer(Stems, max_len=max_len)\n",
    "print 'done'\n",
    "\n",
    "print tpr_global.F.shape\n",
    "\n",
    "#base_begin, base_end = delimiter(Stems)\n",
    "#print base_begin[1,:].data.numpy().transpose()\n",
    "#print base_end[1,:].data.numpy().transpose()\n",
    "\n",
    "print decoder.decode(Stems)[1], '->',\n",
    "print decoder.decode(out)[1]"
   ]
  },
  {
   "cell_type": "code",
   "execution_count": 33,
   "metadata": {},
   "outputs": [],
   "source": [
    "def train_and_test(max_epochs=5000, verbosity=1):\n",
    "    # initialize model\n",
    "    affixer = Reduplicator(); affixer.init()\n",
    "    if 1:\n",
    "        print 'cheating ...'\n",
    "        #affixer.pivoter.init_edge()\n",
    "        #affixer.delimiter.init_full()\n",
    "        #affixer.morph_attender.tau.data[:] = 5.0\n",
    "        #affixer.posn_attender.tau.data[:] = 5.0\n",
    "    \n",
    "    decoder = Decoder()\n",
    "    lr = 0.10; dc = 0.0\n",
    "    affixer_optim = optim.Adagrad(affixer.parameters(), lr, weight_decay=dc)\n",
    "    decoder_optim = optim.Adagrad(decoder.parameters(), lr, weight_decay=dc)\n",
    "    criterion = nn.NLLLoss()\n",
    "    \n",
    "    # train model\n",
    "    print 'training ...',\n",
    "    train, test = make_split(dat)\n",
    "    nbatch = 10\n",
    "    posn_out = Variable(torch.LongTensor(nbatch), requires_grad=False).zero_()\n",
    "    nepoch = 0\n",
    "    for epoch in xrange(max_epochs):\n",
    "        loss = 0.0\n",
    "        \n",
    "        stems, targs, Stems, Targs, targ_len = make_batch(train, nbatch)\n",
    "        max_len = max(targ_len)\n",
    "        out = affixer(Stems, max_len=max_len)\n",
    "        \n",
    "        losses = []\n",
    "        for j in xrange(max_len):\n",
    "            posn_out.fill_(j)\n",
    "            logprob = decoder(out, posn_out)\n",
    "            for i in xrange(nbatch): # xxx avoid this loop\n",
    "                k = Targs[i,j]\n",
    "                if k.data[0] == -1: continue\n",
    "                lossi = criterion(logprob[i,:].view(1,nfill), k)\n",
    "                losses.append(lossi.data[0])\n",
    "                loss += lossi\n",
    "        \n",
    "        train_acc = None\n",
    "        if (epoch > 1 and epoch % 100 == 0) and verbosity>0:\n",
    "            print\n",
    "            print epoch, loss.data[0] / float(nbatch), \n",
    "            train_acc = get_accuracy(train, affixer, decoder)\n",
    "            print 'train_acc =', train_acc\n",
    "            print '  ', stems[0], '  ', decoder.decode(out)[0]\n",
    "        if loss.data[0] / float(nbatch) < 0.01:\n",
    "            nepoch = epoch\n",
    "            break\n",
    "        losses_bad = [i for i,x in enumerate(losses) if np.isnan(x)]\n",
    "        if len(losses_bad)>0:\n",
    "            #print 'losses_bad:', losses_bad\n",
    "            print affixer.morph_attender.tau.data[0],\n",
    "            print affixer.posn_attender.tau.data[0]\n",
    "            print affixer.affix.data\n",
    "            print stems[i], '  ', j, '  ', logprob.data.numpy()\n",
    "            #print affixer.affix.data.numpy()\n",
    "            sys.exit(0)\n",
    "        \n",
    "        loss.backward()\n",
    "        affixer_optim.step()\n",
    "        decoder_optim.step()\n",
    "    print 'done'; print\n",
    "    \n",
    "    # accuracy on test and train data\n",
    "    train_acc = get_accuracy(train, affixer, decoder, False)\n",
    "    test_acc  = get_accuracy(test,  affixer, decoder, False)\n",
    "    print 'nepochs:', nepoch, 'train_acc:', train_acc, 'test_acc:', test_acc\n",
    "    return affixer, decoder"
   ]
  },
  {
   "cell_type": "code",
   "execution_count": 36,
   "metadata": {},
   "outputs": [
    {
     "name": "stdout",
     "output_type": "stream",
     "text": [
      "cheating ...\n",
      "training ...\n",
      "100 8.74408111572 train_acc = 0.0\n",
      "   ⋊ gb a t a n e n ⋉    ⋊ gb a t a n e e n t t a n e n ⋉\n",
      "\n",
      "200 2.63244915009 train_acc = 0.74\n",
      "   ⋊ n u e n ⋉    ⋊ n u e n n u e n ⋉\n",
      "\n",
      "300 0.0453124195337 train_acc = 1.0\n",
      "   ⋊ b u j e n ⋉    ⋊ b u j e n b u j e n ⋉\n",
      "done\n",
      "\n",
      "[]\n",
      "[(u'\\u22ca o d o n \\u22ca o d o n \\u22c9', u'\\u22ca o d o n o d o n \\u22c9'), (u'\\u22ca o n \\u22ca o n \\u22c9', u'\\u22ca o n o n \\u22c9')]\n",
      "nepochs: 354 train_acc: (1.0, 0.0) test_acc: (0.96099999999999997, 0.19600000000000001)\n"
     ]
    }
   ],
   "source": [
    "affixer, decoder = None, None\n",
    "nruns = 1\n",
    "for i in xrange(nruns):\n",
    "    affixer, decoder = train_and_test(max_epochs=2000, verbosity=1)"
   ]
  },
  {
   "cell_type": "code",
   "execution_count": 79,
   "metadata": {},
   "outputs": [
    {
     "name": "stdout",
     "output_type": "stream",
     "text": [
      "=affixer parameters=\n",
      "tau0:   4.68122577667\n",
      "tau1:  4.81097459793\n",
      "\n"
     ]
    },
    {
     "data": {
      "image/png": "[encoded data removed]",
      "text/plain": [
       "<matplotlib.figure.Figure at 0x1a215ac350>"
      ]
     },
     "metadata": {},
     "output_type": "display_data"
    },
    {
     "name": "stdout",
     "output_type": "stream",
     "text": [
      "\n",
      "[-2.35995722]\n",
      "[ 2.01730776]\n",
      "\n",
      "=decoder parameters=\n",
      "tau:   4.83432674408\n"
     ]
    }
   ],
   "source": [
    "sns.set()\n",
    "sns.set_style('white')\n",
    "sns.set_context('poster')\n",
    "cmap = sns.cubehelix_palette(n_colors=256, start=0.3, rot=-0.5, reverse=False, as_cmap=True)\n",
    "\n",
    "print '=affixer parameters='\n",
    "print 'tau0:  ', affixer.morph_attender.tau.data[0]\n",
    "print 'tau1: ', affixer.posn_attender.tau.data[0]\n",
    "print\n",
    "\n",
    "#fig, ax = plt.subplots(figsize=(8.5,10))\n",
    "#sns.heatmap(affixer.delimiter.matcher_begin.weight.data.numpy() ) #, yticklabels=syms)\n",
    "#plt.show()\n",
    "\n",
    "wts = affixer.delimiter.matcher_begin.weight.data.squeeze(-1).numpy()\n",
    "plt.plot(wts)\n",
    "wts = affixer.delimiter.matcher_end.weight.data.squeeze(-1).numpy()\n",
    "plt.plot(wts)\n",
    "plt.show()\n",
    "\n",
    "print \n",
    "print affixer.delimiter.prev_begin.data.numpy()\n",
    "print affixer.delimiter.prev_end.data.numpy()\n",
    "print\n",
    "\n",
    "print '=decoder parameters='\n",
    "print 'tau:  ', decoder.tau.data[0]"
   ]
  },
  {
   "cell_type": "code",
   "execution_count": 140,
   "metadata": {},
   "outputs": [
    {
     "name": "stdout",
     "output_type": "stream",
     "text": [
      "pivot: [ 0.00055181  0.00048524  0.00076489  0.00145391  0.00069053  0.00076489\n",
      "  0.00238732  0.01654598  0.0854909   0.08549092  0.0854909   0.08549088\n",
      "  0.08549088  0.0854909   0.0854909   0.08549088  0.0854909   0.0854909\n",
      "  0.0854909   0.        ]\n",
      "base_begin: [ 0.00048038  0.00034092  0.00071249  0.0009205   0.0006413   0.00071249\n",
      "  0.00180769  0.01348163  0.07267873  0.07267874  0.07267873  0.07267871\n",
      "  0.07267871  0.07267871  0.07267873  0.07267871  0.07267873  0.07267873\n",
      "  0.07267873  0.        ]\n",
      "⋊ w a a y l a y y ⋉\n"
     ]
    }
   ],
   "source": [
    "affixer = Reduplicator(); affixer.init()\n",
    "decoder = Decoder()\n",
    "\n",
    "nbatch = 10\n",
    "train, test = make_split(dat)\n",
    "stems, targs, Stems, Targs, targ_len = make_batch(train, nbatch)\n",
    "max_len = max(targ_len)\n",
    "out = affixer(Stems, max_len=max_len)\n",
    "\n",
    "print decoder.decode(out)[0]"
   ]
  },
  {
   "cell_type": "code",
   "execution_count": 222,
   "metadata": {},
   "outputs": [
    {
     "ename": "RuntimeError",
     "evalue": "size mismatch, m1: [1614 x 36], m2: [24 x 1] at /Users/soumith/minicondabuild3/conda-bld/pytorch_1512379211386/work/torch/lib/TH/generic/THTensorMath.c:1416",
     "output_type": "error",
     "traceback": [
      "\u001b[0;31m---------------------------------------------------------------------------\u001b[0m",
      "\u001b[0;31mRuntimeError\u001b[0m                              Traceback (most recent call last)",
      "\u001b[0;32m<ipython-input-222-1c4fff3ff245>\u001b[0m in \u001b[0;36m<module>\u001b[0;34m()\u001b[0m\n\u001b[1;32m      1\u001b[0m \u001b[0mtrain\u001b[0m\u001b[0;34m,\u001b[0m \u001b[0mtest\u001b[0m \u001b[0;34m=\u001b[0m \u001b[0mmake_split\u001b[0m\u001b[0;34m(\u001b[0m\u001b[0mdat\u001b[0m\u001b[0;34m)\u001b[0m\u001b[0;34m\u001b[0m\u001b[0m\n\u001b[0;32m----> 2\u001b[0;31m \u001b[0;32mprint\u001b[0m \u001b[0mget_accuracy\u001b[0m\u001b[0;34m(\u001b[0m\u001b[0mtest\u001b[0m\u001b[0;34m,\u001b[0m  \u001b[0maffixer\u001b[0m\u001b[0;34m,\u001b[0m \u001b[0mdecoder\u001b[0m\u001b[0;34m,\u001b[0m \u001b[0mFalse\u001b[0m\u001b[0;34m)\u001b[0m\u001b[0;34m\u001b[0m\u001b[0m\n\u001b[0m\u001b[1;32m      3\u001b[0m \u001b[0;32mprint\u001b[0m \u001b[0mget_accuracy\u001b[0m\u001b[0;34m(\u001b[0m\u001b[0mtrain\u001b[0m\u001b[0;34m,\u001b[0m \u001b[0maffixer\u001b[0m\u001b[0;34m,\u001b[0m \u001b[0mdecoder\u001b[0m\u001b[0;34m,\u001b[0m \u001b[0mFalse\u001b[0m\u001b[0;34m)\u001b[0m\u001b[0;34m\u001b[0m\u001b[0m\n",
      "\u001b[0;32m<ipython-input-219-fb5e1b510baa>\u001b[0m in \u001b[0;36mget_accuracy\u001b[0;34m(dat, affixer, decoder, exact_only)\u001b[0m\n\u001b[1;32m     34\u001b[0m \u001b[0;32mdef\u001b[0m \u001b[0mget_accuracy\u001b[0m\u001b[0;34m(\u001b[0m\u001b[0mdat\u001b[0m\u001b[0;34m,\u001b[0m \u001b[0maffixer\u001b[0m\u001b[0;34m,\u001b[0m \u001b[0mdecoder\u001b[0m\u001b[0;34m,\u001b[0m \u001b[0mexact_only\u001b[0m\u001b[0;34m=\u001b[0m\u001b[0mTrue\u001b[0m\u001b[0;34m)\u001b[0m\u001b[0;34m:\u001b[0m\u001b[0;34m\u001b[0m\u001b[0m\n\u001b[1;32m     35\u001b[0m     \u001b[0mstems\u001b[0m\u001b[0;34m,\u001b[0m \u001b[0mtargs\u001b[0m\u001b[0;34m,\u001b[0m \u001b[0mStems\u001b[0m\u001b[0;34m,\u001b[0m \u001b[0mTargs\u001b[0m\u001b[0;34m,\u001b[0m \u001b[0mtarg_len\u001b[0m \u001b[0;34m=\u001b[0m \u001b[0mmake_batch\u001b[0m\u001b[0;34m(\u001b[0m\u001b[0mdat\u001b[0m\u001b[0;34m,\u001b[0m \u001b[0mlen\u001b[0m\u001b[0;34m(\u001b[0m\u001b[0mdat\u001b[0m\u001b[0;34m)\u001b[0m\u001b[0;34m)\u001b[0m\u001b[0;34m\u001b[0m\u001b[0m\n\u001b[0;32m---> 36\u001b[0;31m     \u001b[0mout\u001b[0m \u001b[0;34m=\u001b[0m \u001b[0maffixer\u001b[0m\u001b[0;34m(\u001b[0m\u001b[0mStems\u001b[0m\u001b[0;34m,\u001b[0m \u001b[0mmax_len\u001b[0m\u001b[0;34m=\u001b[0m\u001b[0mmax\u001b[0m\u001b[0;34m(\u001b[0m\u001b[0mtarg_len\u001b[0m\u001b[0;34m)\u001b[0m\u001b[0;34m)\u001b[0m\u001b[0;34m\u001b[0m\u001b[0m\n\u001b[0m\u001b[1;32m     37\u001b[0m     \u001b[0mout\u001b[0m \u001b[0;34m=\u001b[0m \u001b[0mdecoder\u001b[0m\u001b[0;34m.\u001b[0m\u001b[0mdecode\u001b[0m\u001b[0;34m(\u001b[0m\u001b[0mout\u001b[0m\u001b[0;34m)\u001b[0m\u001b[0;34m\u001b[0m\u001b[0m\n\u001b[1;32m     38\u001b[0m     \u001b[0maccuracy\u001b[0m\u001b[0;34m,\u001b[0m \u001b[0mavg_mismatch\u001b[0m\u001b[0;34m,\u001b[0m \u001b[0mn\u001b[0m \u001b[0;34m=\u001b[0m \u001b[0;36m0.0\u001b[0m\u001b[0;34m,\u001b[0m \u001b[0;36m0.0\u001b[0m\u001b[0;34m,\u001b[0m \u001b[0mlen\u001b[0m\u001b[0;34m(\u001b[0m\u001b[0mdat\u001b[0m\u001b[0;34m)\u001b[0m\u001b[0;34m\u001b[0m\u001b[0m\n",
      "\u001b[0;32m/Users/colin/miniconda2/lib/python2.7/site-packages/torch/nn/modules/module.pyc\u001b[0m in \u001b[0;36m__call__\u001b[0;34m(self, *input, **kwargs)\u001b[0m\n\u001b[1;32m    323\u001b[0m         \u001b[0;32mfor\u001b[0m \u001b[0mhook\u001b[0m \u001b[0;32min\u001b[0m \u001b[0mself\u001b[0m\u001b[0;34m.\u001b[0m\u001b[0m_forward_pre_hooks\u001b[0m\u001b[0;34m.\u001b[0m\u001b[0mvalues\u001b[0m\u001b[0;34m(\u001b[0m\u001b[0;34m)\u001b[0m\u001b[0;34m:\u001b[0m\u001b[0;34m\u001b[0m\u001b[0m\n\u001b[1;32m    324\u001b[0m             \u001b[0mhook\u001b[0m\u001b[0;34m(\u001b[0m\u001b[0mself\u001b[0m\u001b[0;34m,\u001b[0m \u001b[0minput\u001b[0m\u001b[0;34m)\u001b[0m\u001b[0;34m\u001b[0m\u001b[0m\n\u001b[0;32m--> 325\u001b[0;31m         \u001b[0mresult\u001b[0m \u001b[0;34m=\u001b[0m \u001b[0mself\u001b[0m\u001b[0;34m.\u001b[0m\u001b[0mforward\u001b[0m\u001b[0;34m(\u001b[0m\u001b[0;34m*\u001b[0m\u001b[0minput\u001b[0m\u001b[0;34m,\u001b[0m \u001b[0;34m**\u001b[0m\u001b[0mkwargs\u001b[0m\u001b[0;34m)\u001b[0m\u001b[0;34m\u001b[0m\u001b[0m\n\u001b[0m\u001b[1;32m    326\u001b[0m         \u001b[0;32mfor\u001b[0m \u001b[0mhook\u001b[0m \u001b[0;32min\u001b[0m \u001b[0mself\u001b[0m\u001b[0;34m.\u001b[0m\u001b[0m_forward_hooks\u001b[0m\u001b[0;34m.\u001b[0m\u001b[0mvalues\u001b[0m\u001b[0;34m(\u001b[0m\u001b[0;34m)\u001b[0m\u001b[0;34m:\u001b[0m\u001b[0;34m\u001b[0m\u001b[0m\n\u001b[1;32m    327\u001b[0m             \u001b[0mhook_result\u001b[0m \u001b[0;34m=\u001b[0m \u001b[0mhook\u001b[0m\u001b[0;34m(\u001b[0m\u001b[0mself\u001b[0m\u001b[0;34m,\u001b[0m \u001b[0minput\u001b[0m\u001b[0;34m,\u001b[0m \u001b[0mresult\u001b[0m\u001b[0;34m)\u001b[0m\u001b[0;34m\u001b[0m\u001b[0m\n",
      "\u001b[0;32m<ipython-input-7-627d1e4fb7a0>\u001b[0m in \u001b[0;36mforward\u001b[0;34m(self, stem, max_len, trace)\u001b[0m\n\u001b[1;32m     40\u001b[0m \u001b[0;34m\u001b[0m\u001b[0m\n\u001b[1;32m     41\u001b[0m         \u001b[0;31m# locate pivot position(s) within stem and unpivot position within affix\u001b[0m\u001b[0;34m\u001b[0m\u001b[0;34m\u001b[0m\u001b[0m\n\u001b[0;32m---> 42\u001b[0;31m         \u001b[0mpivot\u001b[0m   \u001b[0;34m=\u001b[0m \u001b[0mpivoter\u001b[0m\u001b[0;34m(\u001b[0m\u001b[0mstem\u001b[0m\u001b[0;34m)\u001b[0m\u001b[0;34m\u001b[0m\u001b[0m\n\u001b[0m\u001b[1;32m     43\u001b[0m         \u001b[0munpivot\u001b[0m \u001b[0;34m=\u001b[0m \u001b[0munpivoter\u001b[0m\u001b[0;34m(\u001b[0m\u001b[0maffix\u001b[0m\u001b[0;34m)\u001b[0m    \u001b[0;31m#unpivot = unpivot.expand(nbatch,nrole).contiguous()\u001b[0m\u001b[0;34m\u001b[0m\u001b[0m\n\u001b[1;32m     44\u001b[0m \u001b[0;34m\u001b[0m\u001b[0m\n",
      "\u001b[0;32m/Users/colin/miniconda2/lib/python2.7/site-packages/torch/nn/modules/module.pyc\u001b[0m in \u001b[0;36m__call__\u001b[0;34m(self, *input, **kwargs)\u001b[0m\n\u001b[1;32m    323\u001b[0m         \u001b[0;32mfor\u001b[0m \u001b[0mhook\u001b[0m \u001b[0;32min\u001b[0m \u001b[0mself\u001b[0m\u001b[0;34m.\u001b[0m\u001b[0m_forward_pre_hooks\u001b[0m\u001b[0;34m.\u001b[0m\u001b[0mvalues\u001b[0m\u001b[0;34m(\u001b[0m\u001b[0;34m)\u001b[0m\u001b[0;34m:\u001b[0m\u001b[0;34m\u001b[0m\u001b[0m\n\u001b[1;32m    324\u001b[0m             \u001b[0mhook\u001b[0m\u001b[0;34m(\u001b[0m\u001b[0mself\u001b[0m\u001b[0;34m,\u001b[0m \u001b[0minput\u001b[0m\u001b[0;34m)\u001b[0m\u001b[0;34m\u001b[0m\u001b[0m\n\u001b[0;32m--> 325\u001b[0;31m         \u001b[0mresult\u001b[0m \u001b[0;34m=\u001b[0m \u001b[0mself\u001b[0m\u001b[0;34m.\u001b[0m\u001b[0mforward\u001b[0m\u001b[0;34m(\u001b[0m\u001b[0;34m*\u001b[0m\u001b[0minput\u001b[0m\u001b[0;34m,\u001b[0m \u001b[0;34m**\u001b[0m\u001b[0mkwargs\u001b[0m\u001b[0;34m)\u001b[0m\u001b[0;34m\u001b[0m\u001b[0m\n\u001b[0m\u001b[1;32m    326\u001b[0m         \u001b[0;32mfor\u001b[0m \u001b[0mhook\u001b[0m \u001b[0;32min\u001b[0m \u001b[0mself\u001b[0m\u001b[0;34m.\u001b[0m\u001b[0m_forward_hooks\u001b[0m\u001b[0;34m.\u001b[0m\u001b[0mvalues\u001b[0m\u001b[0;34m(\u001b[0m\u001b[0;34m)\u001b[0m\u001b[0;34m:\u001b[0m\u001b[0;34m\u001b[0m\u001b[0m\n\u001b[1;32m    327\u001b[0m             \u001b[0mhook_result\u001b[0m \u001b[0;34m=\u001b[0m \u001b[0mhook\u001b[0m\u001b[0;34m(\u001b[0m\u001b[0mself\u001b[0m\u001b[0;34m,\u001b[0m \u001b[0minput\u001b[0m\u001b[0;34m,\u001b[0m \u001b[0mresult\u001b[0m\u001b[0;34m)\u001b[0m\u001b[0;34m\u001b[0m\u001b[0m\n",
      "\u001b[0;32m<ipython-input-6-5e5a02e8afad>\u001b[0m in \u001b[0;36mforward\u001b[0;34m(self, stem)\u001b[0m\n\u001b[1;32m     52\u001b[0m             \u001b[0mf\u001b[0m      \u001b[0;34m=\u001b[0m \u001b[0mposn2filler_batch\u001b[0m\u001b[0;34m(\u001b[0m\u001b[0mstem\u001b[0m\u001b[0;34m,\u001b[0m \u001b[0mposn\u001b[0m\u001b[0;34m.\u001b[0m\u001b[0mfill_\u001b[0m\u001b[0;34m(\u001b[0m\u001b[0mi\u001b[0m\u001b[0;34m)\u001b[0m\u001b[0;34m)\u001b[0m\u001b[0;34m\u001b[0m\u001b[0m\n\u001b[1;32m     53\u001b[0m             \u001b[0mf_next\u001b[0m \u001b[0;34m=\u001b[0m \u001b[0mposn2filler_batch\u001b[0m\u001b[0;34m(\u001b[0m\u001b[0mstem\u001b[0m\u001b[0;34m,\u001b[0m \u001b[0mposn\u001b[0m\u001b[0;34m.\u001b[0m\u001b[0mfill_\u001b[0m\u001b[0;34m(\u001b[0m\u001b[0mi\u001b[0m\u001b[0;34m+\u001b[0m\u001b[0;36m1\u001b[0m\u001b[0;34m)\u001b[0m\u001b[0;34m)\u001b[0m\u001b[0;34m\u001b[0m\u001b[0m\n\u001b[0;32m---> 54\u001b[0;31m             \u001b[0mscore\u001b[0m  \u001b[0;34m=\u001b[0m \u001b[0;34m(\u001b[0m\u001b[0;36m1.0\u001b[0m\u001b[0;34m-\u001b[0m\u001b[0mprob_before\u001b[0m\u001b[0;34m)\u001b[0m \u001b[0;34m*\u001b[0m \u001b[0mmatcherL\u001b[0m\u001b[0;34m(\u001b[0m\u001b[0mf\u001b[0m\u001b[0;34m)\u001b[0m \u001b[0;34m+\u001b[0m \u001b[0mprob_before\u001b[0m \u001b[0;34m*\u001b[0m \u001b[0mmatcherL\u001b[0m\u001b[0;34m(\u001b[0m\u001b[0mf_next\u001b[0m\u001b[0;34m)\u001b[0m\u001b[0;34m\u001b[0m\u001b[0m\n\u001b[0m\u001b[1;32m     55\u001b[0m             \u001b[0mtheta\u001b[0m  \u001b[0;34m=\u001b[0m \u001b[0mtorch\u001b[0m\u001b[0;34m.\u001b[0m\u001b[0msigmoid\u001b[0m\u001b[0;34m(\u001b[0m\u001b[0mscore\u001b[0m\u001b[0;34m)\u001b[0m\u001b[0;34m.\u001b[0m\u001b[0msqueeze\u001b[0m\u001b[0;34m(\u001b[0m\u001b[0;34m-\u001b[0m\u001b[0;36m1\u001b[0m\u001b[0;34m)\u001b[0m\u001b[0;34m\u001b[0m\u001b[0m\n\u001b[1;32m     56\u001b[0m             \u001b[0mtheta\u001b[0m  \u001b[0;34m=\u001b[0m \u001b[0mtheta\u001b[0m \u001b[0;34m*\u001b[0m \u001b[0;34m(\u001b[0m\u001b[0;36m1.0\u001b[0m \u001b[0;34m-\u001b[0m \u001b[0mfoundL\u001b[0m\u001b[0;34m)\u001b[0m\u001b[0;34m\u001b[0m\u001b[0m\n",
      "\u001b[0;32m/Users/colin/miniconda2/lib/python2.7/site-packages/torch/nn/modules/module.pyc\u001b[0m in \u001b[0;36m__call__\u001b[0;34m(self, *input, **kwargs)\u001b[0m\n\u001b[1;32m    323\u001b[0m         \u001b[0;32mfor\u001b[0m \u001b[0mhook\u001b[0m \u001b[0;32min\u001b[0m \u001b[0mself\u001b[0m\u001b[0;34m.\u001b[0m\u001b[0m_forward_pre_hooks\u001b[0m\u001b[0;34m.\u001b[0m\u001b[0mvalues\u001b[0m\u001b[0;34m(\u001b[0m\u001b[0;34m)\u001b[0m\u001b[0;34m:\u001b[0m\u001b[0;34m\u001b[0m\u001b[0m\n\u001b[1;32m    324\u001b[0m             \u001b[0mhook\u001b[0m\u001b[0;34m(\u001b[0m\u001b[0mself\u001b[0m\u001b[0;34m,\u001b[0m \u001b[0minput\u001b[0m\u001b[0;34m)\u001b[0m\u001b[0;34m\u001b[0m\u001b[0m\n\u001b[0;32m--> 325\u001b[0;31m         \u001b[0mresult\u001b[0m \u001b[0;34m=\u001b[0m \u001b[0mself\u001b[0m\u001b[0;34m.\u001b[0m\u001b[0mforward\u001b[0m\u001b[0;34m(\u001b[0m\u001b[0;34m*\u001b[0m\u001b[0minput\u001b[0m\u001b[0;34m,\u001b[0m \u001b[0;34m**\u001b[0m\u001b[0mkwargs\u001b[0m\u001b[0;34m)\u001b[0m\u001b[0;34m\u001b[0m\u001b[0m\n\u001b[0m\u001b[1;32m    326\u001b[0m         \u001b[0;32mfor\u001b[0m \u001b[0mhook\u001b[0m \u001b[0;32min\u001b[0m \u001b[0mself\u001b[0m\u001b[0;34m.\u001b[0m\u001b[0m_forward_hooks\u001b[0m\u001b[0;34m.\u001b[0m\u001b[0mvalues\u001b[0m\u001b[0;34m(\u001b[0m\u001b[0;34m)\u001b[0m\u001b[0;34m:\u001b[0m\u001b[0;34m\u001b[0m\u001b[0m\n\u001b[1;32m    327\u001b[0m             \u001b[0mhook_result\u001b[0m \u001b[0;34m=\u001b[0m \u001b[0mhook\u001b[0m\u001b[0;34m(\u001b[0m\u001b[0mself\u001b[0m\u001b[0;34m,\u001b[0m \u001b[0minput\u001b[0m\u001b[0;34m,\u001b[0m \u001b[0mresult\u001b[0m\u001b[0;34m)\u001b[0m\u001b[0;34m\u001b[0m\u001b[0m\n",
      "\u001b[0;32m/Users/colin/miniconda2/lib/python2.7/site-packages/torch/nn/modules/linear.pyc\u001b[0m in \u001b[0;36mforward\u001b[0;34m(self, input)\u001b[0m\n\u001b[1;32m     53\u001b[0m \u001b[0;34m\u001b[0m\u001b[0m\n\u001b[1;32m     54\u001b[0m     \u001b[0;32mdef\u001b[0m \u001b[0mforward\u001b[0m\u001b[0;34m(\u001b[0m\u001b[0mself\u001b[0m\u001b[0;34m,\u001b[0m \u001b[0minput\u001b[0m\u001b[0;34m)\u001b[0m\u001b[0;34m:\u001b[0m\u001b[0;34m\u001b[0m\u001b[0m\n\u001b[0;32m---> 55\u001b[0;31m         \u001b[0;32mreturn\u001b[0m \u001b[0mF\u001b[0m\u001b[0;34m.\u001b[0m\u001b[0mlinear\u001b[0m\u001b[0;34m(\u001b[0m\u001b[0minput\u001b[0m\u001b[0;34m,\u001b[0m \u001b[0mself\u001b[0m\u001b[0;34m.\u001b[0m\u001b[0mweight\u001b[0m\u001b[0;34m,\u001b[0m \u001b[0mself\u001b[0m\u001b[0;34m.\u001b[0m\u001b[0mbias\u001b[0m\u001b[0;34m)\u001b[0m\u001b[0;34m\u001b[0m\u001b[0m\n\u001b[0m\u001b[1;32m     56\u001b[0m \u001b[0;34m\u001b[0m\u001b[0m\n\u001b[1;32m     57\u001b[0m     \u001b[0;32mdef\u001b[0m \u001b[0m__repr__\u001b[0m\u001b[0;34m(\u001b[0m\u001b[0mself\u001b[0m\u001b[0;34m)\u001b[0m\u001b[0;34m:\u001b[0m\u001b[0;34m\u001b[0m\u001b[0m\n",
      "\u001b[0;32m/Users/colin/miniconda2/lib/python2.7/site-packages/torch/nn/functional.pyc\u001b[0m in \u001b[0;36mlinear\u001b[0;34m(input, weight, bias)\u001b[0m\n\u001b[1;32m    833\u001b[0m     \u001b[0;32mif\u001b[0m \u001b[0minput\u001b[0m\u001b[0;34m.\u001b[0m\u001b[0mdim\u001b[0m\u001b[0;34m(\u001b[0m\u001b[0;34m)\u001b[0m \u001b[0;34m==\u001b[0m \u001b[0;36m2\u001b[0m \u001b[0;32mand\u001b[0m \u001b[0mbias\u001b[0m \u001b[0;32mis\u001b[0m \u001b[0;32mnot\u001b[0m \u001b[0mNone\u001b[0m\u001b[0;34m:\u001b[0m\u001b[0;34m\u001b[0m\u001b[0m\n\u001b[1;32m    834\u001b[0m         \u001b[0;31m# fused op is marginally faster\u001b[0m\u001b[0;34m\u001b[0m\u001b[0;34m\u001b[0m\u001b[0m\n\u001b[0;32m--> 835\u001b[0;31m         \u001b[0;32mreturn\u001b[0m \u001b[0mtorch\u001b[0m\u001b[0;34m.\u001b[0m\u001b[0maddmm\u001b[0m\u001b[0;34m(\u001b[0m\u001b[0mbias\u001b[0m\u001b[0;34m,\u001b[0m \u001b[0minput\u001b[0m\u001b[0;34m,\u001b[0m \u001b[0mweight\u001b[0m\u001b[0;34m.\u001b[0m\u001b[0mt\u001b[0m\u001b[0;34m(\u001b[0m\u001b[0;34m)\u001b[0m\u001b[0;34m)\u001b[0m\u001b[0;34m\u001b[0m\u001b[0m\n\u001b[0m\u001b[1;32m    836\u001b[0m \u001b[0;34m\u001b[0m\u001b[0m\n\u001b[1;32m    837\u001b[0m     \u001b[0moutput\u001b[0m \u001b[0;34m=\u001b[0m \u001b[0minput\u001b[0m\u001b[0;34m.\u001b[0m\u001b[0mmatmul\u001b[0m\u001b[0;34m(\u001b[0m\u001b[0mweight\u001b[0m\u001b[0;34m.\u001b[0m\u001b[0mt\u001b[0m\u001b[0;34m(\u001b[0m\u001b[0;34m)\u001b[0m\u001b[0;34m)\u001b[0m\u001b[0;34m\u001b[0m\u001b[0m\n",
      "\u001b[0;31mRuntimeError\u001b[0m: size mismatch, m1: [1614 x 36], m2: [24 x 1] at /Users/soumith/minicondabuild3/conda-bld/pytorch_1512379211386/work/torch/lib/TH/generic/THTensorMath.c:1416"
     ]
    }
   ],
   "source": [
    "train, test = make_split(dat)\n",
    "print get_accuracy(test,  affixer, decoder, False)\n",
    "print get_accuracy(train, affixer, decoder, False)"
   ]
  },
  {
   "cell_type": "code",
   "execution_count": 32,
   "metadata": {},
   "outputs": [
    {
     "data": {
      "image/png": "[encoded data removed]",
      "text/plain": [
       "<matplotlib.figure.Figure at 0x1a2389fcd0>"
      ]
     },
     "metadata": {},
     "output_type": "display_data"
    }
   ],
   "source": [
    "#from matplotlib.colors import ListedColormap\n",
    "#cmap = sns.cubehelix_palette(as_cmap=True)\n",
    "\n",
    "stem = ' '.join('record')\n",
    "T_stem = string2tpr(stem)\n",
    "sns.heatmap(T_stem.numpy(), yticklabels=syms, cmap=cmap, vmin=-1.25, vmax=1.25) #\"BuPu\")#cmap=\"BuPu\")#, cmap=\"Blues\")\n",
    "plt.show()"
   ]
  },
  {
   "cell_type": "code",
   "execution_count": 13,
   "metadata": {
    "scrolled": true
   },
   "outputs": [
    {
     "ename": "NameError",
     "evalue": "name 'Stems' is not defined",
     "output_type": "error",
     "traceback": [
      "\u001b[0;31m---------------------------------------------------------------------------\u001b[0m",
      "\u001b[0;31mNameError\u001b[0m                                 Traceback (most recent call last)",
      "\u001b[0;32m<ipython-input-13-9bfa5a5d2387>\u001b[0m in \u001b[0;36m<module>\u001b[0;34m()\u001b[0m\n\u001b[0;32m----> 1\u001b[0;31m \u001b[0mout\u001b[0m\u001b[0;34m,\u001b[0m \u001b[0mtraces\u001b[0m \u001b[0;34m=\u001b[0m \u001b[0maffixer\u001b[0m\u001b[0;34m(\u001b[0m\u001b[0mStems\u001b[0m\u001b[0;34m,\u001b[0m \u001b[0mtrace\u001b[0m\u001b[0;34m=\u001b[0m\u001b[0mTrue\u001b[0m\u001b[0;34m)\u001b[0m\u001b[0;34m\u001b[0m\u001b[0m\n\u001b[0m\u001b[1;32m      2\u001b[0m \u001b[0mi\u001b[0m \u001b[0;34m=\u001b[0m \u001b[0;36m0\u001b[0m\u001b[0;34m\u001b[0m\u001b[0m\n\u001b[1;32m      3\u001b[0m \u001b[0;31m#pivot = affixer.pivoter(stem)\u001b[0m\u001b[0;34m\u001b[0m\u001b[0;34m\u001b[0m\u001b[0m\n\u001b[1;32m      4\u001b[0m \u001b[0;31m#print 'pivot prob:', [x for x in pivot[i,:].data.numpy()]\u001b[0m\u001b[0;34m\u001b[0m\u001b[0;34m\u001b[0m\u001b[0m\n\u001b[1;32m      5\u001b[0m \u001b[0;34m\u001b[0m\u001b[0m\n",
      "\u001b[0;31mNameError\u001b[0m: name 'Stems' is not defined"
     ]
    }
   ],
   "source": [
    "out, traces = affixer(Stems, trace=True)\n",
    "i = 0\n",
    "#pivot = affixer.pivoter(stem)\n",
    "#print 'pivot prob:', [x for x in pivot[i,:].data.numpy()]\n",
    "\n",
    "pred = decoder.decode(out)\n",
    "npred = len(pred[i].split(' '))\n",
    "print stems[i], ' -> ', targs[i], '   ', pred[i]\n",
    "\n",
    "out = affixer(Stems)\n",
    "\n",
    "sns.heatmap(out.data[i,:,:].numpy(), yticklabels=syms, cmap=cmap, vmin=-1.25, vmax=1.25)\n",
    "#cmap=sns.light_palette('blue', as_cmap=True))#'Blues')#cmap=\"Blues\") \"RdBu\"\n",
    "plt.show()\n",
    "\n",
    "trace = pd.DataFrame(traces)\n",
    "trace = trace.melt(id_vars='time')\n",
    "trace = trace[trace.time<=npred]\n",
    "trace0 = trace[trace.variable.isin(['morph', 'pivot', 'unpivot'])]\n",
    "trace1 = trace[trace.variable.isin(['x_stem', 'x_affix', 'x_out'])]\n",
    "fig, ax = plt.subplots(figsize=(15,5), nrows=1, ncols=2)\n",
    "ax0 = sns.tsplot(data=trace0, time='time', unit='variable', condition='variable', value='value', ax=ax[0])\n",
    "#ax0.set_title('Output tensor prod rep')\n",
    "ax1 = sns.tsplot(data=trace1, time='time', unit='variable', condition='variable', value='value', ax=ax[1])\n",
    "#ax1.set_title('Cleaned output tensor prod rep')\n",
    "plt.show()\n"
   ]
  },
  {
   "cell_type": "code",
   "execution_count": 14,
   "metadata": {},
   "outputs": [
    {
     "ename": "NameError",
     "evalue": "name 'stems' is not defined",
     "output_type": "error",
     "traceback": [
      "\u001b[0;31m---------------------------------------------------------------------------\u001b[0m",
      "\u001b[0;31mNameError\u001b[0m                                 Traceback (most recent call last)",
      "\u001b[0;32m<ipython-input-14-03f232e0748c>\u001b[0m in \u001b[0;36m<module>\u001b[0;34m()\u001b[0m\n\u001b[0;32m----> 1\u001b[0;31m \u001b[0;32mprint\u001b[0m \u001b[0mstems\u001b[0m\u001b[0;34m[\u001b[0m\u001b[0;36m0\u001b[0m\u001b[0;34m]\u001b[0m\u001b[0;34m\u001b[0m\u001b[0m\n\u001b[0m\u001b[1;32m      2\u001b[0m \u001b[0;32mprint\u001b[0m\u001b[0;34m\u001b[0m\u001b[0m\n\u001b[1;32m      3\u001b[0m \u001b[0;34m\u001b[0m\u001b[0m\n\u001b[1;32m      4\u001b[0m \u001b[0;32mprint\u001b[0m \u001b[0;34m'=affixer parameters='\u001b[0m\u001b[0;34m\u001b[0m\u001b[0m\n\u001b[1;32m      5\u001b[0m \u001b[0;32mprint\u001b[0m \u001b[0;34m'tau0:  '\u001b[0m\u001b[0;34m,\u001b[0m \u001b[0maffixer\u001b[0m\u001b[0;34m.\u001b[0m\u001b[0mtau0\u001b[0m\u001b[0;34m.\u001b[0m\u001b[0mdata\u001b[0m\u001b[0;34m[\u001b[0m\u001b[0;36m0\u001b[0m\u001b[0;34m]\u001b[0m\u001b[0;34m\u001b[0m\u001b[0m\n",
      "\u001b[0;31mNameError\u001b[0m: name 'stems' is not defined"
     ]
    }
   ],
   "source": [
    "print stems[0]\n",
    "print\n",
    "\n",
    "print '=affixer parameters='\n",
    "print 'tau0:  ', affixer.tau0.data[0]\n",
    "print 'tau1: ', affixer.tau1.data[0]\n",
    "\n",
    "print decoder.decode(affixer.affix.view(1,nfill,nrole))\n",
    "sns.heatmap(hardtanh(affixer.affix, -1.0, 1.0).data.numpy(), yticklabels=syms, cmap=cmap, vmin=-1.25, vmax=1.25)\n",
    "plt.show()\n",
    "\n",
    "pivoter = affixer.pivoter\n",
    "print '=pivoter parameters and example='\n",
    "print 'weightL:', [round(x,3) for x in pivoter.matcherL.weight[0,:].data.numpy()]\n",
    "print 'biasL:', round( pivoter.matcherL.bias[0].data, 3)\n",
    "print 'weightR:', [round(x,3) for x in pivoter.matcherR.weight[0,:].data.numpy()]\n",
    "print 'biasR:', round( pivoter.matcherR.bias[0].data, 3)\n",
    "print 'before:', pivoter.before.data[0], 'left:', pivoter.left.data[0]\n",
    "\n",
    "pivot = pivoter(stem)\n",
    "print 'pivot:', [round(x,3) for x in pivot[0,:].data.numpy()]\n",
    "print\n",
    "\n",
    "unpivoter = affixer.unpivoter\n",
    "print '=unpivoter parameters and example='\n",
    "#print 'posn:', unpivoter.posn.data[0]\n",
    "print 'tau:', unpivoter.tau.data[0]\n",
    "\n",
    "unpivot = unpivoter(stem[0,:,:])\n",
    "print 'unpivot:', [round(x,3) for x in unpivot.data.numpy()]\n",
    "print\n"
   ]
  },
  {
   "cell_type": "code",
   "execution_count": null,
   "metadata": {
    "collapsed": true,
    "jupyter": {
     "outputs_hidden": true
    }
   },
   "outputs": [],
   "source": []
  }
 ],
 "metadata": {
  "anaconda-cloud": {},
  "kernelspec": {
   "display_name": "Python 3",
   "language": "python",
   "name": "python3"
  },
  "language_info": {
   "codemirror_mode": {
    "name": "ipython",
    "version": 3
   },
   "file_extension": ".py",
   "mimetype": "text/x-python",
   "name": "python",
   "nbconvert_exporter": "python",
   "pygments_lexer": "ipython3",
   "version": "3.7.4"
  }
 },
 "nbformat": 4,
 "nbformat_minor": 4
}
